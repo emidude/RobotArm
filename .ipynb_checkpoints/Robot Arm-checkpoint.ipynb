{
 "cells": [
  {
   "cell_type": "code",
   "execution_count": 2,
   "metadata": {},
   "outputs": [],
   "source": [
    "#defining numbers and quaternions:"
   ]
  },
  {
   "cell_type": "code",
   "execution_count": 2,
   "metadata": {},
   "outputs": [],
   "source": [
    "N.<c,d,a1,a2,a3,a4,b1,b2,b3,b4,s,c1,c2,c3, cos1, cos2, cos3, sin1, sin2, sin3, q1,q2,q3,q, a, b, n, m, cosA, sinA, y> = QQbar[]\n",
    "H.<i,j,k> = QuaternionAlgebra(Frac(N),-1,-1)"
   ]
  },
  {
   "cell_type": "code",
   "execution_count": null,
   "metadata": {},
   "outputs": [],
   "source": [
    "# example to explain goal:\n",
    "# if $i, k = 0$ then we are just rotating around j\n",
    "# In general we want a unit pure quaternion $v$, where $Q = \\text{real}*\\cos(t) + v * \\sin(t)$ which does not change the vectorToBeRotated in that direction $v$\n",
    "# In this case below $v = j, m = sin(t)$"
   ]
  },
  {
   "cell_type": "code",
   "execution_count": 3,
   "metadata": {},
   "outputs": [
    {
     "data": {
      "text/plain": [
       "(a*n^2 + 2*c*n*m - a*m^2)*i + (b*n^2 + b*m^2)*j + (c*n^2 + (-2)*a*n*m - c*m^2)*k"
      ]
     },
     "execution_count": 3,
     "metadata": {},
     "output_type": "execute_result"
    }
   ],
   "source": [
    "Q = n + m * j\n",
    "Qbar = n - m * j\n",
    "\n",
    "vectorToBeRotated = a * i + b * j + c * k\n",
    "\n",
    "Q * vectorToBeRotated * Qbar\n",
    "\n",
    "#result is "
   ]
  },
  {
   "cell_type": "code",
   "execution_count": 4,
   "metadata": {},
   "outputs": [
    {
     "data": {
      "text/plain": [
       "(alpha1, alpha2, alpha3)"
      ]
     },
     "execution_count": 4,
     "metadata": {},
     "output_type": "execute_result"
    }
   ],
   "source": [
    "#alpha1, alpha2, alpha3 are vars we want to solve for:\n",
    "var('alpha1,alpha2,alpha3')"
   ]
  },
  {
   "cell_type": "code",
   "execution_count": 5,
   "metadata": {},
   "outputs": [],
   "source": [
    "#testing the simple case when v1 = i,v2 = j ,v3 = k\n",
    "v1 = i\n",
    "v2 = j\n",
    "v3 = k\n",
    "\n",
    "#q1 = cos(alpha1/2) + v1 * sin(alpha1/2)\n",
    "#q2 = cos(alpha2/2) + v2 * sin(alpha2/2)\n",
    "#q3 = cos(alpha3/2) + v3 * sin(alpha3/2)\n",
    "\n",
    "q1 = cos1 + v1 * sin1\n",
    "q2 = cos2 + v2 * sin2\n",
    "q3 = cos3 + v3 * sin3\n",
    "\n",
    "q = q1 * q2 * q3"
   ]
  },
  {
   "cell_type": "code",
   "execution_count": 6,
   "metadata": {},
   "outputs": [
    {
     "data": {
      "text/plain": [
       "[cos(1/2*alpha2)*cos(1/2*alpha3)*sin(1/2*alpha1) + cos(1/2*alpha1)*sin(1/2*alpha2)*sin(1/2*alpha3) == 0, cos(1/2*alpha3)*sin(1/2*alpha1)*sin(1/2*alpha2) + cos(1/2*alpha1)*sin(1/2*alpha2)*sin(1/2*alpha3) == 0]"
      ]
     },
     "execution_count": 6,
     "metadata": {},
     "output_type": "execute_result"
    }
   ],
   "source": [
    "#plotting simple case\n",
    "I = sin(alpha1/2) * cos(alpha2/2) * cos(alpha3/2) +  cos(alpha1/2) * sin(alpha2/2) *sin(alpha3/2) == 0\n",
    "J = cos(alpha1/2)*cos(alpha3/2)*sin(alpha2/2) - cos(alpha2/2)*sin(alpha1/2)*sin(alpha3/2) == 0\n",
    "K = sin(alpha1/2) * sin(alpha2/2) * cos(alpha3/2) + cos(alpha1/2) * sin(alpha2/2) * sin(alpha3/2) ==0\n",
    "\n",
    "L = I^2 <= 1\n",
    "\n",
    "\n",
    "implicit_plot3d(L, (alpha1,0,6.3),(alpha2,0,6.3),(alpha3,0,6.3))\n",
    "\n",
    "implicit_plot3d(I, (alpha1,0,6.3),(alpha2,0,6.3),(alpha3,0,6.3))\n",
    "implicit_plot3d(J, (alpha1,0,6.3),(alpha2,0,6.3),(alpha3,0,6.3))\n",
    "implicit_plot3d(K, (alpha1,0,6.3),(alpha2,0,6.3),(alpha3,0,6.3))\n",
    "\n",
    "R = cos(alpha1/2)*cos(alpha2/2)*cos(alpha3/2) - sin(alpha1/2)*sin(alpha2/2)*sin(alpha3/2)\n",
    "Jr =  cos(alpha1/2)*cos(alpha3/2)*sin(alpha2/2) - cos(alpha2/2)*sin(alpha1/2)*sin(alpha3/2)\n",
    "\n",
    "\n",
    "\n",
    "solve(\n",
    "    [sin(alpha1/2) * cos(alpha2/2) * cos(alpha3/2) +  cos(alpha1/2) * sin(alpha2/2) *sin(alpha3/2) == 0,\n",
    "     sin(alpha1/2) * sin(alpha2/2) * cos(alpha3/2) + cos(alpha1/2) * sin(alpha2/2) * sin(alpha3/2) ==0],\n",
    "    alpha1, alpha2,alpha3)\n",
    "\n",
    "#how come no pix?"
   ]
  },
  {
   "cell_type": "code",
   "execution_count": 7,
   "metadata": {},
   "outputs": [],
   "source": [
    "#general case:\n",
    "v1 = a1 * i + b1 * j + c1 * k\n",
    "v2 = a2 * i + b2 * j + c2 * k\n",
    "v3 = a3 * i + b3 * j + c3 * k\n",
    "\n",
    "q1 = cos1 + v1 * sin1\n",
    "q2 = cos2 + v2 * sin2\n",
    "q3 = cos3 + v3 * sin3\n",
    "\n",
    "beast = q1*q2*q3"
   ]
  },
  {
   "cell_type": "code",
   "execution_count": 8,
   "metadata": {},
   "outputs": [],
   "source": [
    "hound = [N(x) for x in beast]\n",
    "\n",
    "monster = [x.subs({sin1: 1, sin2: 1, sin3: 1, }) for x in hound]\n",
    "#here we are essentially dividing by sin1sin2sin3, so below where it says cos now this actually secretly means cotangent!"
   ]
  },
  {
   "cell_type": "code",
   "execution_count": 9,
   "metadata": {},
   "outputs": [
    {
     "name": "stdout",
     "output_type": "stream",
     "text": [
      "a3*b2*c1 - a2*b3*c1 - a3*b1*c2 + a1*b3*c2 + a2*b1*c3 - a1*b2*c3 - a2*a3*cos1 - b2*b3*cos1 - c2*c3*cos1 - a1*a3*cos2 - b1*b3*cos2 - c1*c3*cos2 - a1*a2*cos3 - b1*b2*cos3 - c1*c2*cos3 + cos1*cos2*cos3\n",
      "\n",
      "-a1*a2*a3 - a3*b1*b2 + a2*b1*b3 - a1*b2*b3 - a3*c1*c2 + a2*c1*c3 - a1*c2*c3 - b3*c2*cos1 + b2*c3*cos1 - b3*c1*cos2 + b1*c3*cos2 + a3*cos1*cos2 - b2*c1*cos3 + b1*c2*cos3 + a2*cos1*cos3 + a1*cos2*cos3\n",
      "\n",
      "-a2*a3*b1 + a1*a3*b2 - a1*a2*b3 - b1*b2*b3 - b3*c1*c2 + b2*c1*c3 - b1*c2*c3 + a3*c2*cos1 - a2*c3*cos1 + a3*c1*cos2 - a1*c3*cos2 + b3*cos1*cos2 + a2*c1*cos3 - a1*c2*cos3 + b2*cos1*cos3 + b1*cos2*cos3\n",
      "\n",
      "-a2*a3*c1 - b2*b3*c1 + a1*a3*c2 + b1*b3*c2 - a1*a2*c3 - b1*b2*c3 - c1*c2*c3 - a3*b2*cos1 + a2*b3*cos1 - a3*b1*cos2 + a1*b3*cos2 + c3*cos1*cos2 - a2*b1*cos3 + a1*b2*cos3 + c2*cos1*cos3 + c1*cos2*cos3\n",
      "\n"
     ]
    }
   ],
   "source": [
    "for x in monster:\n",
    "    print(x)\n",
    "    print('')"
   ]
  },
  {
   "cell_type": "code",
   "execution_count": 50,
   "metadata": {},
   "outputs": [
    {
     "data": {
      "text/plain": [
       "[cos1 == -(a1*a2*a3 + a3*b1*b2 + a3*c1*c2 - (a2*b1 - a1*b2)*b3 - (a2*c1 - a1*c2)*c3 + (b3*c1 - b1*c3)*cos2 + (b2*c1 - b1*c2 - a1*cos2)*cos3)/(b3*c2 - b2*c3 - a3*cos2 - a2*cos3)]"
      ]
     },
     "execution_count": 50,
     "metadata": {},
     "output_type": "execute_result"
    }
   ],
   "source": [
    "#now they are in the symbolic ring\n",
    "var('cos1')\n",
    "f_cot1a = solve(SR(monster[1]) == 0, cos1)\n",
    "f_cot1"
   ]
  },
  {
   "cell_type": "code",
   "execution_count": 54,
   "metadata": {},
   "outputs": [
    {
     "data": {
      "text/plain": [
       "-(a1*a2*a3 + a3*b1*b2 - a2*b1*b3 + a1*b2*b3 + a3*c1*c2 - a2*c1*c3 + a1*c2*c3 + (b3*c1 - b1*c3)*cos2 + (b2*c1 - b1*c2 - a1*cos2)*cos3)/(b3*c2 - b2*c3 - a3*cos2 - a2*cos3)"
      ]
     },
     "execution_count": 54,
     "metadata": {},
     "output_type": "execute_result"
    }
   ],
   "source": [
    "ff =-(a1*a2*a3 + a3*b1*b2 + a3*c1*c2 - (a2*b1 - a1*b2)*b3 - (a2*c1 - a1*c2)*c3 + (b3*c1 - b1*c3)*cos2 + (b2*c1 - b1*c2 - a1*cos2)*cos3)/(b3*c2 - b2*c3 - a3*cos2 - a2*cos3)\n",
    "ff"
   ]
  },
  {
   "cell_type": "code",
   "execution_count": 52,
   "metadata": {},
   "outputs": [
    {
     "data": {
      "text/plain": [
       "[cos1 == (a2*a3*b1 - a1*a3*b2 + b3*c1*c2 + (a1*a2 + b1*b2)*b3 - (b2*c1 - b1*c2)*c3 - (a3*c1 - a1*c3)*cos2 - (a2*c1 - a1*c2 + b1*cos2)*cos3)/(a3*c2 - a2*c3 + b3*cos2 + b2*cos3)]"
      ]
     },
     "execution_count": 52,
     "metadata": {},
     "output_type": "execute_result"
    }
   ],
   "source": [
    "f_cot1b = solve(SR(monster[2]) == 0, cos1)\n",
    "f_cot1b"
   ]
  },
  {
   "cell_type": "code",
   "execution_count": 56,
   "metadata": {},
   "outputs": [
    {
     "data": {
      "text/plain": [
       "(a2*a3*b1 - a1*a3*b2 + a1*a2*b3 + b1*b2*b3 + b3*c1*c2 - b2*c1*c3 + b1*c2*c3 - (a3*c1 - a1*c3)*cos2 - (a2*c1 - a1*c2 + b1*cos2)*cos3)/(a3*c2 - a2*c3 + b3*cos2 + b2*cos3)"
      ]
     },
     "execution_count": 56,
     "metadata": {},
     "output_type": "execute_result"
    }
   ],
   "source": [
    "gg = (a2*a3*b1 - a1*a3*b2 + b3*c1*c2 + (a1*a2 + b1*b2)*b3 - (b2*c1 - b1*c2)*c3 - (a3*c1 - a1*c3)*cos2 - (a2*c1 - a1*c2 + b1*cos2)*cos3)/(a3*c2 - a2*c3 + b3*cos2 + b2*cos3)\n",
    "gg"
   ]
  },
  {
   "cell_type": "code",
   "execution_count": 59,
   "metadata": {},
   "outputs": [
    {
     "data": {
      "text/plain": [
       "[cos2 == 1/2*(a2*a3^2*b1 - a1*a3^2*b2 + (a2*b1 - a1*b2)*b3^2 - (a2*b1 - a1*b2)*c3^2 - (a2*b1 - a1*b2)*cos3^2 - 2*((a3*b2 - a2*b3)*c1 - (a3*b1 - a1*b3)*c2)*c3 - 2*((a2*a3 + b2*b3)*c1 - (a1*a3 + b1*b3)*c2)*cos3 + sqrt(a2^2*a3^4*b1^2 - 2*a1*a2*a3^4*b1*b2 + a1^2*a3^4*b2^2 + (a2^2*b1^2 - 2*a1*a2*b1*b2 + a1^2*b2^2)*b3^4 - 4*(a3^4 + 2*a3^2*b3^2 + b3^4)*c1^2*c2^2 + (a2^2*b1^2 - 2*a1*a2*b1*b2 + a1^2*b2^2)*c3^4 + (a2^2*b1^2 - 2*a1*a2*b1*b2 + a1^2*b2^2)*cos3^4 + 4*((a1*a2^2*a3 + a2*a3*b1*b2 + (a1*a2*b2 + b1*b2^2)*b3)*c1 - (a1^2*a2*a3 + a2*a3*b1^2 + (a1^2 + b1^2)*b2*b3)*c2)*c3^3 - 4*((a1*a2*a3*b2 + a3*b1*b2^2 - (a1*a2^2 + a2*b1*b2)*b3)*c1 - ((a1^2*a3 + a3*b1^2)*b2 - (a1^2*a2 + a2*b1^2)*b3)*c2)*cos3^3 + 2*(a2^2*a3^2*b1^2 - 2*a1*a2*a3^2*b1*b2 + a1^2*a3^2*b2^2)*b3^2 - 4*(a1*a2*a3^4 + a3^4*b1*b2 + (a1*a2 + b1*b2)*b3^4 + 2*(a1*a2*a3^2 + a3^2*b1*b2)*b3^2)*c1*c2 - 2*(2*a1^2*a2^2*a3^2 + a2^2*a3^2*b1^2 + 2*a1*a2*a3^2*b1*b2 - a1^2*a3^2*b2^2 + 4*(a1^2*a2*a3 + a2*a3*b1^2)*b2*b3 - (a2^2*b1^2 - 2*a1*a2*b1*b2 - (a1^2 + 2*b1^2)*b2^2)*b3^2 + 2*(a2^2*a3^2 + 2*a2*a3*b2*b3 + b2^2*b3^2)*c1^2 + 2*(a1*a2*a3^2 + a3^2*b1*b2 + (a1*a2 + b1*b2)*b3^2)*c1*c2 - 2*(a1^2*a3^2 + a3^2*b1^2 + (a1^2 + b1^2)*b3^2)*c2^2)*c3^2 + 2*(a2^2*a3^2*b1^2 - 2*a1*a2*a3^2*b1*b2 - (a1^2*a3^2 + 2*a3^2*b1^2)*b2^2 + 4*(a1^2*a2*a3 + a2*a3*b1^2)*b2*b3 - (2*a1^2*a2^2 + a2^2*b1^2 + 2*a1*a2*b1*b2 - a1^2*b2^2)*b3^2 - 2*(a3^2*b2^2 - 2*a2*a3*b2*b3 + a2^2*b3^2)*c1^2 - 2*(a1*a2*a3^2 + a3^2*b1*b2 + (a1*a2 + b1*b2)*b3^2)*c1*c2 + 2*(a1^2*a3^2 + a3^2*b1^2 + (a1^2 + b1^2)*b3^2)*c2^2 + (a2^2*b1^2 - 2*a1*a2*b1*b2 + a1^2*b2^2)*c3^2 + 2*((a1*a2^2*a3 + a2*a3*b1*b2 + (a1*a2*b2 + b1*b2^2)*b3)*c1 - (a1^2*a2*a3 + a2*a3*b1^2 + (a1^2 + b1^2)*b2*b3)*c2)*c3)*cos3^2 + 4*((a1*a2^2*a3^3 + a2*a3^3*b1*b2 + (a1*a2*b2 + b1*b2^2)*b3^3 + (a1*a2^2*a3 + a2*a3*b1*b2)*b3^2 + (a1*a2*a3^2*b2 + a3^2*b1*b2^2)*b3)*c1 + (a1^2*a2*a3^3 + a2*a3^3*b1^2 + (a1^2 + b1^2)*b2*b3^3 + (a1^2*a3^2 + a3^2*b1^2)*b2*b3 + (a1^2*a2*a3 + a2*a3*b1^2)*b3^2 + 2*(a2*a3^3 + a3^2*b2*b3 + a2*a3*b3^2 + b2*b3^3)*c1^2)*c2)*c3 - 4*(((a1*a2*a3*b2 + a3*b1*b2^2 - (a1*a2^2 + a2*b1*b2)*b3)*c1 - ((a1^2*a3 + a3*b1^2)*b2 - (a1^2*a2 + a2*b1^2)*b3)*c2)*c3^2 + (a1*a2*a3^3*b2 + a3^3*b1*b2^2 - (a1*a2^2 + a2*b1*b2)*b3^3 + (a1*a2*a3*b2 + a3*b1*b2^2)*b3^2 - (a1*a2^2*a3^2 + a2*a3^2*b1*b2)*b3)*c1 + ((a1^2*a3 + a3*b1^2)*b2*b3^2 - (a1^2*a2 + a2*b1^2)*b3^3 + 2*(a3^3*b2 - a2*a3^2*b3 + a3*b2*b3^2 - a2*b3^3)*c1^2 + (a1^2*a3^3 + a3^3*b1^2)*b2 - (a1^2*a2*a3^2 + a2*a3^2*b1^2)*b3)*c2 + 2*((a1^2*a2 + a2*b1^2)*b2*b3^2 - (a2*a3^2*b2 - a2*b2*b3^2 - (a2^2*a3 - a3*b2^2)*b3)*c1^2 - (a1^2*a2*a3^2 + a2*a3^2*b1^2)*b2 + (a1^2*a2^2*a3 + a2^2*a3*b1^2 - (a1^2*a3 + a3*b1^2)*b2^2)*b3)*c3)*cos3))/((a3^2 + b3^2)*c1 - (a1*a3 + b1*b3)*c3 + (a3*b1 - a1*b3)*cos3), cos2 == 1/2*(a2*a3^2*b1 - a1*a3^2*b2 + (a2*b1 - a1*b2)*b3^2 - (a2*b1 - a1*b2)*c3^2 - (a2*b1 - a1*b2)*cos3^2 - 2*((a3*b2 - a2*b3)*c1 - (a3*b1 - a1*b3)*c2)*c3 - 2*((a2*a3 + b2*b3)*c1 - (a1*a3 + b1*b3)*c2)*cos3 - sqrt(a2^2*a3^4*b1^2 - 2*a1*a2*a3^4*b1*b2 + a1^2*a3^4*b2^2 + (a2^2*b1^2 - 2*a1*a2*b1*b2 + a1^2*b2^2)*b3^4 - 4*(a3^4 + 2*a3^2*b3^2 + b3^4)*c1^2*c2^2 + (a2^2*b1^2 - 2*a1*a2*b1*b2 + a1^2*b2^2)*c3^4 + (a2^2*b1^2 - 2*a1*a2*b1*b2 + a1^2*b2^2)*cos3^4 + 4*((a1*a2^2*a3 + a2*a3*b1*b2 + (a1*a2*b2 + b1*b2^2)*b3)*c1 - (a1^2*a2*a3 + a2*a3*b1^2 + (a1^2 + b1^2)*b2*b3)*c2)*c3^3 - 4*((a1*a2*a3*b2 + a3*b1*b2^2 - (a1*a2^2 + a2*b1*b2)*b3)*c1 - ((a1^2*a3 + a3*b1^2)*b2 - (a1^2*a2 + a2*b1^2)*b3)*c2)*cos3^3 + 2*(a2^2*a3^2*b1^2 - 2*a1*a2*a3^2*b1*b2 + a1^2*a3^2*b2^2)*b3^2 - 4*(a1*a2*a3^4 + a3^4*b1*b2 + (a1*a2 + b1*b2)*b3^4 + 2*(a1*a2*a3^2 + a3^2*b1*b2)*b3^2)*c1*c2 - 2*(2*a1^2*a2^2*a3^2 + a2^2*a3^2*b1^2 + 2*a1*a2*a3^2*b1*b2 - a1^2*a3^2*b2^2 + 4*(a1^2*a2*a3 + a2*a3*b1^2)*b2*b3 - (a2^2*b1^2 - 2*a1*a2*b1*b2 - (a1^2 + 2*b1^2)*b2^2)*b3^2 + 2*(a2^2*a3^2 + 2*a2*a3*b2*b3 + b2^2*b3^2)*c1^2 + 2*(a1*a2*a3^2 + a3^2*b1*b2 + (a1*a2 + b1*b2)*b3^2)*c1*c2 - 2*(a1^2*a3^2 + a3^2*b1^2 + (a1^2 + b1^2)*b3^2)*c2^2)*c3^2 + 2*(a2^2*a3^2*b1^2 - 2*a1*a2*a3^2*b1*b2 - (a1^2*a3^2 + 2*a3^2*b1^2)*b2^2 + 4*(a1^2*a2*a3 + a2*a3*b1^2)*b2*b3 - (2*a1^2*a2^2 + a2^2*b1^2 + 2*a1*a2*b1*b2 - a1^2*b2^2)*b3^2 - 2*(a3^2*b2^2 - 2*a2*a3*b2*b3 + a2^2*b3^2)*c1^2 - 2*(a1*a2*a3^2 + a3^2*b1*b2 + (a1*a2 + b1*b2)*b3^2)*c1*c2 + 2*(a1^2*a3^2 + a3^2*b1^2 + (a1^2 + b1^2)*b3^2)*c2^2 + (a2^2*b1^2 - 2*a1*a2*b1*b2 + a1^2*b2^2)*c3^2 + 2*((a1*a2^2*a3 + a2*a3*b1*b2 + (a1*a2*b2 + b1*b2^2)*b3)*c1 - (a1^2*a2*a3 + a2*a3*b1^2 + (a1^2 + b1^2)*b2*b3)*c2)*c3)*cos3^2 + 4*((a1*a2^2*a3^3 + a2*a3^3*b1*b2 + (a1*a2*b2 + b1*b2^2)*b3^3 + (a1*a2^2*a3 + a2*a3*b1*b2)*b3^2 + (a1*a2*a3^2*b2 + a3^2*b1*b2^2)*b3)*c1 + (a1^2*a2*a3^3 + a2*a3^3*b1^2 + (a1^2 + b1^2)*b2*b3^3 + (a1^2*a3^2 + a3^2*b1^2)*b2*b3 + (a1^2*a2*a3 + a2*a3*b1^2)*b3^2 + 2*(a2*a3^3 + a3^2*b2*b3 + a2*a3*b3^2 + b2*b3^3)*c1^2)*c2)*c3 - 4*(((a1*a2*a3*b2 + a3*b1*b2^2 - (a1*a2^2 + a2*b1*b2)*b3)*c1 - ((a1^2*a3 + a3*b1^2)*b2 - (a1^2*a2 + a2*b1^2)*b3)*c2)*c3^2 + (a1*a2*a3^3*b2 + a3^3*b1*b2^2 - (a1*a2^2 + a2*b1*b2)*b3^3 + (a1*a2*a3*b2 + a3*b1*b2^2)*b3^2 - (a1*a2^2*a3^2 + a2*a3^2*b1*b2)*b3)*c1 + ((a1^2*a3 + a3*b1^2)*b2*b3^2 - (a1^2*a2 + a2*b1^2)*b3^3 + 2*(a3^3*b2 - a2*a3^2*b3 + a3*b2*b3^2 - a2*b3^3)*c1^2 + (a1^2*a3^3 + a3^3*b1^2)*b2 - (a1^2*a2*a3^2 + a2*a3^2*b1^2)*b3)*c2 + 2*((a1^2*a2 + a2*b1^2)*b2*b3^2 - (a2*a3^2*b2 - a2*b2*b3^2 - (a2^2*a3 - a3*b2^2)*b3)*c1^2 - (a1^2*a2*a3^2 + a2*a3^2*b1^2)*b2 + (a1^2*a2^2*a3 + a2^2*a3*b1^2 - (a1^2*a3 + a3*b1^2)*b2^2)*b3)*c3)*cos3))/((a3^2 + b3^2)*c1 - (a1*a3 + b1*b3)*c3 + (a3*b1 - a1*b3)*cos3)]"
      ]
     },
     "execution_count": 59,
     "metadata": {},
     "output_type": "execute_result"
    }
   ],
   "source": [
    "hh =solve(ff == gg, cos2)\n",
    "hh"
   ]
  },
  {
   "cell_type": "code",
   "execution_count": 60,
   "metadata": {},
   "outputs": [
    {
     "data": {
      "text/plain": [
       "2"
      ]
     },
     "execution_count": 60,
     "metadata": {},
     "output_type": "execute_result"
    }
   ],
   "source": [
    "len(hh)"
   ]
  },
  {
   "cell_type": "code",
   "execution_count": 65,
   "metadata": {},
   "outputs": [
    {
     "data": {
      "text/plain": [
       "2"
      ]
     },
     "execution_count": 65,
     "metadata": {},
     "output_type": "execute_result"
    }
   ],
   "source": [
    "var('frog,toad')\n",
    "rando=SR(frog==toad)\n",
    "len(rando)"
   ]
  },
  {
   "cell_type": "raw",
   "metadata": {},
   "source": [
    "#get cos2, cos3 in terms of cos1: \n",
    "#THIS DOES NOT WORK BECAUSE need monster to be in symbolic ring\n",
    "var('cos1')\n",
    "solve(monster[1] == monster[2], cos1)"
   ]
  },
  {
   "cell_type": "code",
   "execution_count": 68,
   "metadata": {},
   "outputs": [
    {
     "ename": "TypeError",
     "evalue": "'sage.symbolic.expression.Expression' object is not iterable",
     "output_type": "error",
     "traceback": [
      "\u001b[1;31m---------------------------------------------------------------------------\u001b[0m",
      "\u001b[1;31mTypeError\u001b[0m                                 Traceback (most recent call last)",
      "\u001b[1;32m<ipython-input-68-a25d313c04c9>\u001b[0m in \u001b[0;36m<module>\u001b[1;34m()\u001b[0m\n\u001b[1;32m----> 1\u001b[1;33m \u001b[0mlist\u001b[0m\u001b[1;33m(\u001b[0m\u001b[0mrando\u001b[0m\u001b[1;33m)\u001b[0m\u001b[1;33m[\u001b[0m\u001b[0mInteger\u001b[0m\u001b[1;33m(\u001b[0m\u001b[1;36m1\u001b[0m\u001b[1;33m)\u001b[0m\u001b[1;33m]\u001b[0m\u001b[1;33m\u001b[0m\u001b[1;33m\u001b[0m\u001b[0m\n\u001b[0m",
      "\u001b[1;31mTypeError\u001b[0m: 'sage.symbolic.expression.Expression' object is not iterable"
     ]
    }
   ],
   "source": [
    "list(rando)[1]"
   ]
  },
  {
   "cell_type": "code",
   "execution_count": 77,
   "metadata": {},
   "outputs": [
    {
     "data": {
      "text/plain": [
       "1/2*(a2*a3^2*b1 - a1*a3^2*b2 + (a2*b1 - a1*b2)*b3^2 - (a2*b1 - a1*b2)*c3^2 - (a2*b1 - a1*b2)*cos3^2 - 2*((a3*b2 - a2*b3)*c1 - (a3*b1 - a1*b3)*c2)*c3 - 2*((a2*a3 + b2*b3)*c1 - (a1*a3 + b1*b3)*c2)*cos3 - sqrt(a2^2*a3^4*b1^2 - 2*a1*a2*a3^4*b1*b2 + a1^2*a3^4*b2^2 + (a2^2*b1^2 - 2*a1*a2*b1*b2 + a1^2*b2^2)*b3^4 - 4*(a3^4 + 2*a3^2*b3^2 + b3^4)*c1^2*c2^2 + (a2^2*b1^2 - 2*a1*a2*b1*b2 + a1^2*b2^2)*c3^4 + (a2^2*b1^2 - 2*a1*a2*b1*b2 + a1^2*b2^2)*cos3^4 + 4*((a1*a2^2*a3 + a2*a3*b1*b2 + (a1*a2*b2 + b1*b2^2)*b3)*c1 - (a1^2*a2*a3 + a2*a3*b1^2 + (a1^2 + b1^2)*b2*b3)*c2)*c3^3 - 4*((a1*a2*a3*b2 + a3*b1*b2^2 - (a1*a2^2 + a2*b1*b2)*b3)*c1 - ((a1^2*a3 + a3*b1^2)*b2 - (a1^2*a2 + a2*b1^2)*b3)*c2)*cos3^3 + 2*(a2^2*a3^2*b1^2 - 2*a1*a2*a3^2*b1*b2 + a1^2*a3^2*b2^2)*b3^2 - 4*(a1*a2*a3^4 + a3^4*b1*b2 + (a1*a2 + b1*b2)*b3^4 + 2*(a1*a2*a3^2 + a3^2*b1*b2)*b3^2)*c1*c2 - 2*(2*a1^2*a2^2*a3^2 + a2^2*a3^2*b1^2 + 2*a1*a2*a3^2*b1*b2 - a1^2*a3^2*b2^2 + 4*(a1^2*a2*a3 + a2*a3*b1^2)*b2*b3 - (a2^2*b1^2 - 2*a1*a2*b1*b2 - (a1^2 + 2*b1^2)*b2^2)*b3^2 + 2*(a2^2*a3^2 + 2*a2*a3*b2*b3 + b2^2*b3^2)*c1^2 + 2*(a1*a2*a3^2 + a3^2*b1*b2 + (a1*a2 + b1*b2)*b3^2)*c1*c2 - 2*(a1^2*a3^2 + a3^2*b1^2 + (a1^2 + b1^2)*b3^2)*c2^2)*c3^2 + 2*(a2^2*a3^2*b1^2 - 2*a1*a2*a3^2*b1*b2 - (a1^2*a3^2 + 2*a3^2*b1^2)*b2^2 + 4*(a1^2*a2*a3 + a2*a3*b1^2)*b2*b3 - (2*a1^2*a2^2 + a2^2*b1^2 + 2*a1*a2*b1*b2 - a1^2*b2^2)*b3^2 - 2*(a3^2*b2^2 - 2*a2*a3*b2*b3 + a2^2*b3^2)*c1^2 - 2*(a1*a2*a3^2 + a3^2*b1*b2 + (a1*a2 + b1*b2)*b3^2)*c1*c2 + 2*(a1^2*a3^2 + a3^2*b1^2 + (a1^2 + b1^2)*b3^2)*c2^2 + (a2^2*b1^2 - 2*a1*a2*b1*b2 + a1^2*b2^2)*c3^2 + 2*((a1*a2^2*a3 + a2*a3*b1*b2 + (a1*a2*b2 + b1*b2^2)*b3)*c1 - (a1^2*a2*a3 + a2*a3*b1^2 + (a1^2 + b1^2)*b2*b3)*c2)*c3)*cos3^2 + 4*((a1*a2^2*a3^3 + a2*a3^3*b1*b2 + (a1*a2*b2 + b1*b2^2)*b3^3 + (a1*a2^2*a3 + a2*a3*b1*b2)*b3^2 + (a1*a2*a3^2*b2 + a3^2*b1*b2^2)*b3)*c1 + (a1^2*a2*a3^3 + a2*a3^3*b1^2 + (a1^2 + b1^2)*b2*b3^3 + (a1^2*a3^2 + a3^2*b1^2)*b2*b3 + (a1^2*a2*a3 + a2*a3*b1^2)*b3^2 + 2*(a2*a3^3 + a3^2*b2*b3 + a2*a3*b3^2 + b2*b3^3)*c1^2)*c2)*c3 - 4*(((a1*a2*a3*b2 + a3*b1*b2^2 - (a1*a2^2 + a2*b1*b2)*b3)*c1 - ((a1^2*a3 + a3*b1^2)*b2 - (a1^2*a2 + a2*b1^2)*b3)*c2)*c3^2 + (a1*a2*a3^3*b2 + a3^3*b1*b2^2 - (a1*a2^2 + a2*b1*b2)*b3^3 + (a1*a2*a3*b2 + a3*b1*b2^2)*b3^2 - (a1*a2^2*a3^2 + a2*a3^2*b1*b2)*b3)*c1 + ((a1^2*a3 + a3*b1^2)*b2*b3^2 - (a1^2*a2 + a2*b1^2)*b3^3 + 2*(a3^3*b2 - a2*a3^2*b3 + a3*b2*b3^2 - a2*b3^3)*c1^2 + (a1^2*a3^3 + a3^3*b1^2)*b2 - (a1^2*a2*a3^2 + a2*a3^2*b1^2)*b3)*c2 + 2*((a1^2*a2 + a2*b1^2)*b2*b3^2 - (a2*a3^2*b2 - a2*b2*b3^2 - (a2^2*a3 - a3*b2^2)*b3)*c1^2 - (a1^2*a2*a3^2 + a2*a3^2*b1^2)*b2 + (a1^2*a2^2*a3 + a2^2*a3*b1^2 - (a1^2*a3 + a3*b1^2)*b2^2)*b3)*c3)*cos3))/((a3^2 + b3^2)*c1 - (a1*a3 + b1*b3)*c3 + (a3*b1 - a1*b3)*cos3)"
      ]
     },
     "execution_count": 77,
     "metadata": {},
     "output_type": "execute_result"
    }
   ],
   "source": [
    "hh1 =  hh[0].rhs()\n",
    "hh2 =  hh[1].rhs()\n",
    "hh2"
   ]
  },
  {
   "cell_type": "code",
   "execution_count": 91,
   "metadata": {},
   "outputs": [],
   "source": [
    "hhh1 =  hh1.subs(cos3 = cot(alpha3 / 2))\n",
    "hhh2 = hh2.subs(cos3 = cot(alpha3 / 2) )\n",
    "\n",
    "y1 = 2 * arccot (hh1.subs(cos3 = cot(alpha3 / 2) ))\n",
    "y1\n",
    "\n",
    "y2 = 2 * arccot (hh2.subs(cos3 = cot(alpha3 / 2) ))\n",
    "y2\n",
    "\n",
    "zz = alpha3"
   ]
  },
  {
   "cell_type": "code",
   "execution_count": 94,
   "metadata": {},
   "outputs": [
    {
     "data": {
      "text/plain": [
       "2*arccot(-(2*a1*a2*a3 + 2*a3*b1*b2 - 2*a2*b1*b3 + 2*a1*b2*b3 + 2*a3*c1*c2 - 2*a2*c1*c3 + 2*a1*c2*c3 + (2*b2*c1 - 2*b1*c2 - (a2*a3^2*b1 - a1*a3^2*b2 + (a2*b1 - a1*b2)*b3^2 - (a2*b1 - a1*b2)*c3^2 - (a2*b1 - a1*b2)*cot(1/2*alpha3)^2 - 2*((a3*b2 - a2*b3)*c1 - (a3*b1 - a1*b3)*c2)*c3 - 2*((a2*a3 + b2*b3)*c1 - (a1*a3 + b1*b3)*c2)*cot(1/2*alpha3) + sqrt(a2^2*a3^4*b1^2 - 2*a1*a2*a3^4*b1*b2 + a1^2*a3^4*b2^2 + (a2^2*b1^2 - 2*a1*a2*b1*b2 + a1^2*b2^2)*b3^4 - 4*(a3^4 + 2*a3^2*b3^2 + b3^4)*c1^2*c2^2 + (a2^2*b1^2 - 2*a1*a2*b1*b2 + a1^2*b2^2)*c3^4 + (a2^2*b1^2 - 2*a1*a2*b1*b2 + a1^2*b2^2)*cot(1/2*alpha3)^4 + 4*((a1*a2^2*a3 + a2*a3*b1*b2 + (a1*a2*b2 + b1*b2^2)*b3)*c1 - (a1^2*a2*a3 + a2*a3*b1^2 + (a1^2 + b1^2)*b2*b3)*c2)*c3^3 - 4*((a1*a2*a3*b2 + a3*b1*b2^2 - (a1*a2^2 + a2*b1*b2)*b3)*c1 - ((a1^2*a3 + a3*b1^2)*b2 - (a1^2*a2 + a2*b1^2)*b3)*c2)*cot(1/2*alpha3)^3 + 2*(a2^2*a3^2*b1^2 - 2*a1*a2*a3^2*b1*b2 + a1^2*a3^2*b2^2)*b3^2 - 4*(a1*a2*a3^4 + a3^4*b1*b2 + (a1*a2 + b1*b2)*b3^4 + 2*(a1*a2*a3^2 + a3^2*b1*b2)*b3^2)*c1*c2 - 2*(2*a1^2*a2^2*a3^2 + a2^2*a3^2*b1^2 + 2*a1*a2*a3^2*b1*b2 - a1^2*a3^2*b2^2 + 4*(a1^2*a2*a3 + a2*a3*b1^2)*b2*b3 - (a2^2*b1^2 - 2*a1*a2*b1*b2 - (a1^2 + 2*b1^2)*b2^2)*b3^2 + 2*(a2^2*a3^2 + 2*a2*a3*b2*b3 + b2^2*b3^2)*c1^2 + 2*(a1*a2*a3^2 + a3^2*b1*b2 + (a1*a2 + b1*b2)*b3^2)*c1*c2 - 2*(a1^2*a3^2 + a3^2*b1^2 + (a1^2 + b1^2)*b3^2)*c2^2)*c3^2 + 2*(a2^2*a3^2*b1^2 - 2*a1*a2*a3^2*b1*b2 - (a1^2*a3^2 + 2*a3^2*b1^2)*b2^2 + 4*(a1^2*a2*a3 + a2*a3*b1^2)*b2*b3 - (2*a1^2*a2^2 + a2^2*b1^2 + 2*a1*a2*b1*b2 - a1^2*b2^2)*b3^2 - 2*(a3^2*b2^2 - 2*a2*a3*b2*b3 + a2^2*b3^2)*c1^2 - 2*(a1*a2*a3^2 + a3^2*b1*b2 + (a1*a2 + b1*b2)*b3^2)*c1*c2 + 2*(a1^2*a3^2 + a3^2*b1^2 + (a1^2 + b1^2)*b3^2)*c2^2 + (a2^2*b1^2 - 2*a1*a2*b1*b2 + a1^2*b2^2)*c3^2 + 2*((a1*a2^2*a3 + a2*a3*b1*b2 + (a1*a2*b2 + b1*b2^2)*b3)*c1 - (a1^2*a2*a3 + a2*a3*b1^2 + (a1^2 + b1^2)*b2*b3)*c2)*c3)*cot(1/2*alpha3)^2 + 4*((a1*a2^2*a3^3 + a2*a3^3*b1*b2 + (a1*a2*b2 + b1*b2^2)*b3^3 + (a1*a2^2*a3 + a2*a3*b1*b2)*b3^2 + (a1*a2*a3^2*b2 + a3^2*b1*b2^2)*b3)*c1 + (a1^2*a2*a3^3 + a2*a3^3*b1^2 + (a1^2 + b1^2)*b2*b3^3 + (a1^2*a3^2 + a3^2*b1^2)*b2*b3 + (a1^2*a2*a3 + a2*a3*b1^2)*b3^2 + 2*(a2*a3^3 + a3^2*b2*b3 + a2*a3*b3^2 + b2*b3^3)*c1^2)*c2)*c3 - 4*(((a1*a2*a3*b2 + a3*b1*b2^2 - (a1*a2^2 + a2*b1*b2)*b3)*c1 - ((a1^2*a3 + a3*b1^2)*b2 - (a1^2*a2 + a2*b1^2)*b3)*c2)*c3^2 + (a1*a2*a3^3*b2 + a3^3*b1*b2^2 - (a1*a2^2 + a2*b1*b2)*b3^3 + (a1*a2*a3*b2 + a3*b1*b2^2)*b3^2 - (a1*a2^2*a3^2 + a2*a3^2*b1*b2)*b3)*c1 + ((a1^2*a3 + a3*b1^2)*b2*b3^2 - (a1^2*a2 + a2*b1^2)*b3^3 + 2*(a3^3*b2 - a2*a3^2*b3 + a3*b2*b3^2 - a2*b3^3)*c1^2 + (a1^2*a3^3 + a3^3*b1^2)*b2 - (a1^2*a2*a3^2 + a2*a3^2*b1^2)*b3)*c2 + 2*((a1^2*a2 + a2*b1^2)*b2*b3^2 - (a2*a3^2*b2 - a2*b2*b3^2 - (a2^2*a3 - a3*b2^2)*b3)*c1^2 - (a1^2*a2*a3^2 + a2*a3^2*b1^2)*b2 + (a1^2*a2^2*a3 + a2^2*a3*b1^2 - (a1^2*a3 + a3*b1^2)*b2^2)*b3)*c3)*cot(1/2*alpha3)))*a1/((a3^2 + b3^2)*c1 - (a1*a3 + b1*b3)*c3 + (a3*b1 - a1*b3)*cot(1/2*alpha3)))*cot(1/2*alpha3) + (a2*a3^2*b1 - a1*a3^2*b2 + (a2*b1 - a1*b2)*b3^2 - (a2*b1 - a1*b2)*c3^2 - (a2*b1 - a1*b2)*cot(1/2*alpha3)^2 - 2*((a3*b2 - a2*b3)*c1 - (a3*b1 - a1*b3)*c2)*c3 - 2*((a2*a3 + b2*b3)*c1 - (a1*a3 + b1*b3)*c2)*cot(1/2*alpha3) + sqrt(a2^2*a3^4*b1^2 - 2*a1*a2*a3^4*b1*b2 + a1^2*a3^4*b2^2 + (a2^2*b1^2 - 2*a1*a2*b1*b2 + a1^2*b2^2)*b3^4 - 4*(a3^4 + 2*a3^2*b3^2 + b3^4)*c1^2*c2^2 + (a2^2*b1^2 - 2*a1*a2*b1*b2 + a1^2*b2^2)*c3^4 + (a2^2*b1^2 - 2*a1*a2*b1*b2 + a1^2*b2^2)*cot(1/2*alpha3)^4 + 4*((a1*a2^2*a3 + a2*a3*b1*b2 + (a1*a2*b2 + b1*b2^2)*b3)*c1 - (a1^2*a2*a3 + a2*a3*b1^2 + (a1^2 + b1^2)*b2*b3)*c2)*c3^3 - 4*((a1*a2*a3*b2 + a3*b1*b2^2 - (a1*a2^2 + a2*b1*b2)*b3)*c1 - ((a1^2*a3 + a3*b1^2)*b2 - (a1^2*a2 + a2*b1^2)*b3)*c2)*cot(1/2*alpha3)^3 + 2*(a2^2*a3^2*b1^2 - 2*a1*a2*a3^2*b1*b2 + a1^2*a3^2*b2^2)*b3^2 - 4*(a1*a2*a3^4 + a3^4*b1*b2 + (a1*a2 + b1*b2)*b3^4 + 2*(a1*a2*a3^2 + a3^2*b1*b2)*b3^2)*c1*c2 - 2*(2*a1^2*a2^2*a3^2 + a2^2*a3^2*b1^2 + 2*a1*a2*a3^2*b1*b2 - a1^2*a3^2*b2^2 + 4*(a1^2*a2*a3 + a2*a3*b1^2)*b2*b3 - (a2^2*b1^2 - 2*a1*a2*b1*b2 - (a1^2 + 2*b1^2)*b2^2)*b3^2 + 2*(a2^2*a3^2 + 2*a2*a3*b2*b3 + b2^2*b3^2)*c1^2 + 2*(a1*a2*a3^2 + a3^2*b1*b2 + (a1*a2 + b1*b2)*b3^2)*c1*c2 - 2*(a1^2*a3^2 + a3^2*b1^2 + (a1^2 + b1^2)*b3^2)*c2^2)*c3^2 + 2*(a2^2*a3^2*b1^2 - 2*a1*a2*a3^2*b1*b2 - (a1^2*a3^2 + 2*a3^2*b1^2)*b2^2 + 4*(a1^2*a2*a3 + a2*a3*b1^2)*b2*b3 - (2*a1^2*a2^2 + a2^2*b1^2 + 2*a1*a2*b1*b2 - a1^2*b2^2)*b3^2 - 2*(a3^2*b2^2 - 2*a2*a3*b2*b3 + a2^2*b3^2)*c1^2 - 2*(a1*a2*a3^2 + a3^2*b1*b2 + (a1*a2 + b1*b2)*b3^2)*c1*c2 + 2*(a1^2*a3^2 + a3^2*b1^2 + (a1^2 + b1^2)*b3^2)*c2^2 + (a2^2*b1^2 - 2*a1*a2*b1*b2 + a1^2*b2^2)*c3^2 + 2*((a1*a2^2*a3 + a2*a3*b1*b2 + (a1*a2*b2 + b1*b2^2)*b3)*c1 - (a1^2*a2*a3 + a2*a3*b1^2 + (a1^2 + b1^2)*b2*b3)*c2)*c3)*cot(1/2*alpha3)^2 + 4*((a1*a2^2*a3^3 + a2*a3^3*b1*b2 + (a1*a2*b2 + b1*b2^2)*b3^3 + (a1*a2^2*a3 + a2*a3*b1*b2)*b3^2 + (a1*a2*a3^2*b2 + a3^2*b1*b2^2)*b3)*c1 + (a1^2*a2*a3^3 + a2*a3^3*b1^2 + (a1^2 + b1^2)*b2*b3^3 + (a1^2*a3^2 + a3^2*b1^2)*b2*b3 + (a1^2*a2*a3 + a2*a3*b1^2)*b3^2 + 2*(a2*a3^3 + a3^2*b2*b3 + a2*a3*b3^2 + b2*b3^3)*c1^2)*c2)*c3 - 4*(((a1*a2*a3*b2 + a3*b1*b2^2 - (a1*a2^2 + a2*b1*b2)*b3)*c1 - ((a1^2*a3 + a3*b1^2)*b2 - (a1^2*a2 + a2*b1^2)*b3)*c2)*c3^2 + (a1*a2*a3^3*b2 + a3^3*b1*b2^2 - (a1*a2^2 + a2*b1*b2)*b3^3 + (a1*a2*a3*b2 + a3*b1*b2^2)*b3^2 - (a1*a2^2*a3^2 + a2*a3^2*b1*b2)*b3)*c1 + ((a1^2*a3 + a3*b1^2)*b2*b3^2 - (a1^2*a2 + a2*b1^2)*b3^3 + 2*(a3^3*b2 - a2*a3^2*b3 + a3*b2*b3^2 - a2*b3^3)*c1^2 + (a1^2*a3^3 + a3^3*b1^2)*b2 - (a1^2*a2*a3^2 + a2*a3^2*b1^2)*b3)*c2 + 2*((a1^2*a2 + a2*b1^2)*b2*b3^2 - (a2*a3^2*b2 - a2*b2*b3^2 - (a2^2*a3 - a3*b2^2)*b3)*c1^2 - (a1^2*a2*a3^2 + a2*a3^2*b1^2)*b2 + (a1^2*a2^2*a3 + a2^2*a3*b1^2 - (a1^2*a3 + a3*b1^2)*b2^2)*b3)*c3)*cot(1/2*alpha3)))*(b3*c1 - b1*c3)/((a3^2 + b3^2)*c1 - (a1*a3 + b1*b3)*c3 + (a3*b1 - a1*b3)*cot(1/2*alpha3)))/(2*b3*c2 - 2*b2*c3 - 2*a2*cot(1/2*alpha3) - (a2*a3^2*b1 - a1*a3^2*b2 + (a2*b1 - a1*b2)*b3^2 - (a2*b1 - a1*b2)*c3^2 - (a2*b1 - a1*b2)*cot(1/2*alpha3)^2 - 2*((a3*b2 - a2*b3)*c1 - (a3*b1 - a1*b3)*c2)*c3 - 2*((a2*a3 + b2*b3)*c1 - (a1*a3 + b1*b3)*c2)*cot(1/2*alpha3) + sqrt(a2^2*a3^4*b1^2 - 2*a1*a2*a3^4*b1*b2 + a1^2*a3^4*b2^2 + (a2^2*b1^2 - 2*a1*a2*b1*b2 + a1^2*b2^2)*b3^4 - 4*(a3^4 + 2*a3^2*b3^2 + b3^4)*c1^2*c2^2 + (a2^2*b1^2 - 2*a1*a2*b1*b2 + a1^2*b2^2)*c3^4 + (a2^2*b1^2 - 2*a1*a2*b1*b2 + a1^2*b2^2)*cot(1/2*alpha3)^4 + 4*((a1*a2^2*a3 + a2*a3*b1*b2 + (a1*a2*b2 + b1*b2^2)*b3)*c1 - (a1^2*a2*a3 + a2*a3*b1^2 + (a1^2 + b1^2)*b2*b3)*c2)*c3^3 - 4*((a1*a2*a3*b2 + a3*b1*b2^2 - (a1*a2^2 + a2*b1*b2)*b3)*c1 - ((a1^2*a3 + a3*b1^2)*b2 - (a1^2*a2 + a2*b1^2)*b3)*c2)*cot(1/2*alpha3)^3 + 2*(a2^2*a3^2*b1^2 - 2*a1*a2*a3^2*b1*b2 + a1^2*a3^2*b2^2)*b3^2 - 4*(a1*a2*a3^4 + a3^4*b1*b2 + (a1*a2 + b1*b2)*b3^4 + 2*(a1*a2*a3^2 + a3^2*b1*b2)*b3^2)*c1*c2 - 2*(2*a1^2*a2^2*a3^2 + a2^2*a3^2*b1^2 + 2*a1*a2*a3^2*b1*b2 - a1^2*a3^2*b2^2 + 4*(a1^2*a2*a3 + a2*a3*b1^2)*b2*b3 - (a2^2*b1^2 - 2*a1*a2*b1*b2 - (a1^2 + 2*b1^2)*b2^2)*b3^2 + 2*(a2^2*a3^2 + 2*a2*a3*b2*b3 + b2^2*b3^2)*c1^2 + 2*(a1*a2*a3^2 + a3^2*b1*b2 + (a1*a2 + b1*b2)*b3^2)*c1*c2 - 2*(a1^2*a3^2 + a3^2*b1^2 + (a1^2 + b1^2)*b3^2)*c2^2)*c3^2 + 2*(a2^2*a3^2*b1^2 - 2*a1*a2*a3^2*b1*b2 - (a1^2*a3^2 + 2*a3^2*b1^2)*b2^2 + 4*(a1^2*a2*a3 + a2*a3*b1^2)*b2*b3 - (2*a1^2*a2^2 + a2^2*b1^2 + 2*a1*a2*b1*b2 - a1^2*b2^2)*b3^2 - 2*(a3^2*b2^2 - 2*a2*a3*b2*b3 + a2^2*b3^2)*c1^2 - 2*(a1*a2*a3^2 + a3^2*b1*b2 + (a1*a2 + b1*b2)*b3^2)*c1*c2 + 2*(a1^2*a3^2 + a3^2*b1^2 + (a1^2 + b1^2)*b3^2)*c2^2 + (a2^2*b1^2 - 2*a1*a2*b1*b2 + a1^2*b2^2)*c3^2 + 2*((a1*a2^2*a3 + a2*a3*b1*b2 + (a1*a2*b2 + b1*b2^2)*b3)*c1 - (a1^2*a2*a3 + a2*a3*b1^2 + (a1^2 + b1^2)*b2*b3)*c2)*c3)*cot(1/2*alpha3)^2 + 4*((a1*a2^2*a3^3 + a2*a3^3*b1*b2 + (a1*a2*b2 + b1*b2^2)*b3^3 + (a1*a2^2*a3 + a2*a3*b1*b2)*b3^2 + (a1*a2*a3^2*b2 + a3^2*b1*b2^2)*b3)*c1 + (a1^2*a2*a3^3 + a2*a3^3*b1^2 + (a1^2 + b1^2)*b2*b3^3 + (a1^2*a3^2 + a3^2*b1^2)*b2*b3 + (a1^2*a2*a3 + a2*a3*b1^2)*b3^2 + 2*(a2*a3^3 + a3^2*b2*b3 + a2*a3*b3^2 + b2*b3^3)*c1^2)*c2)*c3 - 4*(((a1*a2*a3*b2 + a3*b1*b2^2 - (a1*a2^2 + a2*b1*b2)*b3)*c1 - ((a1^2*a3 + a3*b1^2)*b2 - (a1^2*a2 + a2*b1^2)*b3)*c2)*c3^2 + (a1*a2*a3^3*b2 + a3^3*b1*b2^2 - (a1*a2^2 + a2*b1*b2)*b3^3 + (a1*a2*a3*b2 + a3*b1*b2^2)*b3^2 - (a1*a2^2*a3^2 + a2*a3^2*b1*b2)*b3)*c1 + ((a1^2*a3 + a3*b1^2)*b2*b3^2 - (a1^2*a2 + a2*b1^2)*b3^3 + 2*(a3^3*b2 - a2*a3^2*b3 + a3*b2*b3^2 - a2*b3^3)*c1^2 + (a1^2*a3^3 + a3^3*b1^2)*b2 - (a1^2*a2*a3^2 + a2*a3^2*b1^2)*b3)*c2 + 2*((a1^2*a2 + a2*b1^2)*b2*b3^2 - (a2*a3^2*b2 - a2*b2*b3^2 - (a2^2*a3 - a3*b2^2)*b3)*c1^2 - (a1^2*a2*a3^2 + a2*a3^2*b1^2)*b2 + (a1^2*a2^2*a3 + a2^2*a3*b1^2 - (a1^2*a3 + a3*b1^2)*b2^2)*b3)*c3)*cot(1/2*alpha3)))*a3/((a3^2 + b3^2)*c1 - (a1*a3 + b1*b3)*c3 + (a3*b1 - a1*b3)*cot(1/2*alpha3))))"
      ]
     },
     "execution_count": 94,
     "metadata": {},
     "output_type": "execute_result"
    }
   ],
   "source": [
    "x1  = 2 * arccot(ff.subs(cos3 = cot(alpha3 / 2), cos2 = hhh1)) \n",
    "x1"
   ]
  },
  {
   "cell_type": "code",
   "execution_count": 95,
   "metadata": {},
   "outputs": [
    {
     "data": {
      "text/plain": [
       "2*arccot(-(2*a1*a2*a3 + 2*a3*b1*b2 - 2*a2*b1*b3 + 2*a1*b2*b3 + 2*a3*c1*c2 - 2*a2*c1*c3 + 2*a1*c2*c3 + (2*b2*c1 - 2*b1*c2 - (a2*a3^2*b1 - a1*a3^2*b2 + (a2*b1 - a1*b2)*b3^2 - (a2*b1 - a1*b2)*c3^2 - (a2*b1 - a1*b2)*cot(1/2*alpha3)^2 - 2*((a3*b2 - a2*b3)*c1 - (a3*b1 - a1*b3)*c2)*c3 - 2*((a2*a3 + b2*b3)*c1 - (a1*a3 + b1*b3)*c2)*cot(1/2*alpha3) - sqrt(a2^2*a3^4*b1^2 - 2*a1*a2*a3^4*b1*b2 + a1^2*a3^4*b2^2 + (a2^2*b1^2 - 2*a1*a2*b1*b2 + a1^2*b2^2)*b3^4 - 4*(a3^4 + 2*a3^2*b3^2 + b3^4)*c1^2*c2^2 + (a2^2*b1^2 - 2*a1*a2*b1*b2 + a1^2*b2^2)*c3^4 + (a2^2*b1^2 - 2*a1*a2*b1*b2 + a1^2*b2^2)*cot(1/2*alpha3)^4 + 4*((a1*a2^2*a3 + a2*a3*b1*b2 + (a1*a2*b2 + b1*b2^2)*b3)*c1 - (a1^2*a2*a3 + a2*a3*b1^2 + (a1^2 + b1^2)*b2*b3)*c2)*c3^3 - 4*((a1*a2*a3*b2 + a3*b1*b2^2 - (a1*a2^2 + a2*b1*b2)*b3)*c1 - ((a1^2*a3 + a3*b1^2)*b2 - (a1^2*a2 + a2*b1^2)*b3)*c2)*cot(1/2*alpha3)^3 + 2*(a2^2*a3^2*b1^2 - 2*a1*a2*a3^2*b1*b2 + a1^2*a3^2*b2^2)*b3^2 - 4*(a1*a2*a3^4 + a3^4*b1*b2 + (a1*a2 + b1*b2)*b3^4 + 2*(a1*a2*a3^2 + a3^2*b1*b2)*b3^2)*c1*c2 - 2*(2*a1^2*a2^2*a3^2 + a2^2*a3^2*b1^2 + 2*a1*a2*a3^2*b1*b2 - a1^2*a3^2*b2^2 + 4*(a1^2*a2*a3 + a2*a3*b1^2)*b2*b3 - (a2^2*b1^2 - 2*a1*a2*b1*b2 - (a1^2 + 2*b1^2)*b2^2)*b3^2 + 2*(a2^2*a3^2 + 2*a2*a3*b2*b3 + b2^2*b3^2)*c1^2 + 2*(a1*a2*a3^2 + a3^2*b1*b2 + (a1*a2 + b1*b2)*b3^2)*c1*c2 - 2*(a1^2*a3^2 + a3^2*b1^2 + (a1^2 + b1^2)*b3^2)*c2^2)*c3^2 + 2*(a2^2*a3^2*b1^2 - 2*a1*a2*a3^2*b1*b2 - (a1^2*a3^2 + 2*a3^2*b1^2)*b2^2 + 4*(a1^2*a2*a3 + a2*a3*b1^2)*b2*b3 - (2*a1^2*a2^2 + a2^2*b1^2 + 2*a1*a2*b1*b2 - a1^2*b2^2)*b3^2 - 2*(a3^2*b2^2 - 2*a2*a3*b2*b3 + a2^2*b3^2)*c1^2 - 2*(a1*a2*a3^2 + a3^2*b1*b2 + (a1*a2 + b1*b2)*b3^2)*c1*c2 + 2*(a1^2*a3^2 + a3^2*b1^2 + (a1^2 + b1^2)*b3^2)*c2^2 + (a2^2*b1^2 - 2*a1*a2*b1*b2 + a1^2*b2^2)*c3^2 + 2*((a1*a2^2*a3 + a2*a3*b1*b2 + (a1*a2*b2 + b1*b2^2)*b3)*c1 - (a1^2*a2*a3 + a2*a3*b1^2 + (a1^2 + b1^2)*b2*b3)*c2)*c3)*cot(1/2*alpha3)^2 + 4*((a1*a2^2*a3^3 + a2*a3^3*b1*b2 + (a1*a2*b2 + b1*b2^2)*b3^3 + (a1*a2^2*a3 + a2*a3*b1*b2)*b3^2 + (a1*a2*a3^2*b2 + a3^2*b1*b2^2)*b3)*c1 + (a1^2*a2*a3^3 + a2*a3^3*b1^2 + (a1^2 + b1^2)*b2*b3^3 + (a1^2*a3^2 + a3^2*b1^2)*b2*b3 + (a1^2*a2*a3 + a2*a3*b1^2)*b3^2 + 2*(a2*a3^3 + a3^2*b2*b3 + a2*a3*b3^2 + b2*b3^3)*c1^2)*c2)*c3 - 4*(((a1*a2*a3*b2 + a3*b1*b2^2 - (a1*a2^2 + a2*b1*b2)*b3)*c1 - ((a1^2*a3 + a3*b1^2)*b2 - (a1^2*a2 + a2*b1^2)*b3)*c2)*c3^2 + (a1*a2*a3^3*b2 + a3^3*b1*b2^2 - (a1*a2^2 + a2*b1*b2)*b3^3 + (a1*a2*a3*b2 + a3*b1*b2^2)*b3^2 - (a1*a2^2*a3^2 + a2*a3^2*b1*b2)*b3)*c1 + ((a1^2*a3 + a3*b1^2)*b2*b3^2 - (a1^2*a2 + a2*b1^2)*b3^3 + 2*(a3^3*b2 - a2*a3^2*b3 + a3*b2*b3^2 - a2*b3^3)*c1^2 + (a1^2*a3^3 + a3^3*b1^2)*b2 - (a1^2*a2*a3^2 + a2*a3^2*b1^2)*b3)*c2 + 2*((a1^2*a2 + a2*b1^2)*b2*b3^2 - (a2*a3^2*b2 - a2*b2*b3^2 - (a2^2*a3 - a3*b2^2)*b3)*c1^2 - (a1^2*a2*a3^2 + a2*a3^2*b1^2)*b2 + (a1^2*a2^2*a3 + a2^2*a3*b1^2 - (a1^2*a3 + a3*b1^2)*b2^2)*b3)*c3)*cot(1/2*alpha3)))*a1/((a3^2 + b3^2)*c1 - (a1*a3 + b1*b3)*c3 + (a3*b1 - a1*b3)*cot(1/2*alpha3)))*cot(1/2*alpha3) + (a2*a3^2*b1 - a1*a3^2*b2 + (a2*b1 - a1*b2)*b3^2 - (a2*b1 - a1*b2)*c3^2 - (a2*b1 - a1*b2)*cot(1/2*alpha3)^2 - 2*((a3*b2 - a2*b3)*c1 - (a3*b1 - a1*b3)*c2)*c3 - 2*((a2*a3 + b2*b3)*c1 - (a1*a3 + b1*b3)*c2)*cot(1/2*alpha3) - sqrt(a2^2*a3^4*b1^2 - 2*a1*a2*a3^4*b1*b2 + a1^2*a3^4*b2^2 + (a2^2*b1^2 - 2*a1*a2*b1*b2 + a1^2*b2^2)*b3^4 - 4*(a3^4 + 2*a3^2*b3^2 + b3^4)*c1^2*c2^2 + (a2^2*b1^2 - 2*a1*a2*b1*b2 + a1^2*b2^2)*c3^4 + (a2^2*b1^2 - 2*a1*a2*b1*b2 + a1^2*b2^2)*cot(1/2*alpha3)^4 + 4*((a1*a2^2*a3 + a2*a3*b1*b2 + (a1*a2*b2 + b1*b2^2)*b3)*c1 - (a1^2*a2*a3 + a2*a3*b1^2 + (a1^2 + b1^2)*b2*b3)*c2)*c3^3 - 4*((a1*a2*a3*b2 + a3*b1*b2^2 - (a1*a2^2 + a2*b1*b2)*b3)*c1 - ((a1^2*a3 + a3*b1^2)*b2 - (a1^2*a2 + a2*b1^2)*b3)*c2)*cot(1/2*alpha3)^3 + 2*(a2^2*a3^2*b1^2 - 2*a1*a2*a3^2*b1*b2 + a1^2*a3^2*b2^2)*b3^2 - 4*(a1*a2*a3^4 + a3^4*b1*b2 + (a1*a2 + b1*b2)*b3^4 + 2*(a1*a2*a3^2 + a3^2*b1*b2)*b3^2)*c1*c2 - 2*(2*a1^2*a2^2*a3^2 + a2^2*a3^2*b1^2 + 2*a1*a2*a3^2*b1*b2 - a1^2*a3^2*b2^2 + 4*(a1^2*a2*a3 + a2*a3*b1^2)*b2*b3 - (a2^2*b1^2 - 2*a1*a2*b1*b2 - (a1^2 + 2*b1^2)*b2^2)*b3^2 + 2*(a2^2*a3^2 + 2*a2*a3*b2*b3 + b2^2*b3^2)*c1^2 + 2*(a1*a2*a3^2 + a3^2*b1*b2 + (a1*a2 + b1*b2)*b3^2)*c1*c2 - 2*(a1^2*a3^2 + a3^2*b1^2 + (a1^2 + b1^2)*b3^2)*c2^2)*c3^2 + 2*(a2^2*a3^2*b1^2 - 2*a1*a2*a3^2*b1*b2 - (a1^2*a3^2 + 2*a3^2*b1^2)*b2^2 + 4*(a1^2*a2*a3 + a2*a3*b1^2)*b2*b3 - (2*a1^2*a2^2 + a2^2*b1^2 + 2*a1*a2*b1*b2 - a1^2*b2^2)*b3^2 - 2*(a3^2*b2^2 - 2*a2*a3*b2*b3 + a2^2*b3^2)*c1^2 - 2*(a1*a2*a3^2 + a3^2*b1*b2 + (a1*a2 + b1*b2)*b3^2)*c1*c2 + 2*(a1^2*a3^2 + a3^2*b1^2 + (a1^2 + b1^2)*b3^2)*c2^2 + (a2^2*b1^2 - 2*a1*a2*b1*b2 + a1^2*b2^2)*c3^2 + 2*((a1*a2^2*a3 + a2*a3*b1*b2 + (a1*a2*b2 + b1*b2^2)*b3)*c1 - (a1^2*a2*a3 + a2*a3*b1^2 + (a1^2 + b1^2)*b2*b3)*c2)*c3)*cot(1/2*alpha3)^2 + 4*((a1*a2^2*a3^3 + a2*a3^3*b1*b2 + (a1*a2*b2 + b1*b2^2)*b3^3 + (a1*a2^2*a3 + a2*a3*b1*b2)*b3^2 + (a1*a2*a3^2*b2 + a3^2*b1*b2^2)*b3)*c1 + (a1^2*a2*a3^3 + a2*a3^3*b1^2 + (a1^2 + b1^2)*b2*b3^3 + (a1^2*a3^2 + a3^2*b1^2)*b2*b3 + (a1^2*a2*a3 + a2*a3*b1^2)*b3^2 + 2*(a2*a3^3 + a3^2*b2*b3 + a2*a3*b3^2 + b2*b3^3)*c1^2)*c2)*c3 - 4*(((a1*a2*a3*b2 + a3*b1*b2^2 - (a1*a2^2 + a2*b1*b2)*b3)*c1 - ((a1^2*a3 + a3*b1^2)*b2 - (a1^2*a2 + a2*b1^2)*b3)*c2)*c3^2 + (a1*a2*a3^3*b2 + a3^3*b1*b2^2 - (a1*a2^2 + a2*b1*b2)*b3^3 + (a1*a2*a3*b2 + a3*b1*b2^2)*b3^2 - (a1*a2^2*a3^2 + a2*a3^2*b1*b2)*b3)*c1 + ((a1^2*a3 + a3*b1^2)*b2*b3^2 - (a1^2*a2 + a2*b1^2)*b3^3 + 2*(a3^3*b2 - a2*a3^2*b3 + a3*b2*b3^2 - a2*b3^3)*c1^2 + (a1^2*a3^3 + a3^3*b1^2)*b2 - (a1^2*a2*a3^2 + a2*a3^2*b1^2)*b3)*c2 + 2*((a1^2*a2 + a2*b1^2)*b2*b3^2 - (a2*a3^2*b2 - a2*b2*b3^2 - (a2^2*a3 - a3*b2^2)*b3)*c1^2 - (a1^2*a2*a3^2 + a2*a3^2*b1^2)*b2 + (a1^2*a2^2*a3 + a2^2*a3*b1^2 - (a1^2*a3 + a3*b1^2)*b2^2)*b3)*c3)*cot(1/2*alpha3)))*(b3*c1 - b1*c3)/((a3^2 + b3^2)*c1 - (a1*a3 + b1*b3)*c3 + (a3*b1 - a1*b3)*cot(1/2*alpha3)))/(2*b3*c2 - 2*b2*c3 - 2*a2*cot(1/2*alpha3) - (a2*a3^2*b1 - a1*a3^2*b2 + (a2*b1 - a1*b2)*b3^2 - (a2*b1 - a1*b2)*c3^2 - (a2*b1 - a1*b2)*cot(1/2*alpha3)^2 - 2*((a3*b2 - a2*b3)*c1 - (a3*b1 - a1*b3)*c2)*c3 - 2*((a2*a3 + b2*b3)*c1 - (a1*a3 + b1*b3)*c2)*cot(1/2*alpha3) - sqrt(a2^2*a3^4*b1^2 - 2*a1*a2*a3^4*b1*b2 + a1^2*a3^4*b2^2 + (a2^2*b1^2 - 2*a1*a2*b1*b2 + a1^2*b2^2)*b3^4 - 4*(a3^4 + 2*a3^2*b3^2 + b3^4)*c1^2*c2^2 + (a2^2*b1^2 - 2*a1*a2*b1*b2 + a1^2*b2^2)*c3^4 + (a2^2*b1^2 - 2*a1*a2*b1*b2 + a1^2*b2^2)*cot(1/2*alpha3)^4 + 4*((a1*a2^2*a3 + a2*a3*b1*b2 + (a1*a2*b2 + b1*b2^2)*b3)*c1 - (a1^2*a2*a3 + a2*a3*b1^2 + (a1^2 + b1^2)*b2*b3)*c2)*c3^3 - 4*((a1*a2*a3*b2 + a3*b1*b2^2 - (a1*a2^2 + a2*b1*b2)*b3)*c1 - ((a1^2*a3 + a3*b1^2)*b2 - (a1^2*a2 + a2*b1^2)*b3)*c2)*cot(1/2*alpha3)^3 + 2*(a2^2*a3^2*b1^2 - 2*a1*a2*a3^2*b1*b2 + a1^2*a3^2*b2^2)*b3^2 - 4*(a1*a2*a3^4 + a3^4*b1*b2 + (a1*a2 + b1*b2)*b3^4 + 2*(a1*a2*a3^2 + a3^2*b1*b2)*b3^2)*c1*c2 - 2*(2*a1^2*a2^2*a3^2 + a2^2*a3^2*b1^2 + 2*a1*a2*a3^2*b1*b2 - a1^2*a3^2*b2^2 + 4*(a1^2*a2*a3 + a2*a3*b1^2)*b2*b3 - (a2^2*b1^2 - 2*a1*a2*b1*b2 - (a1^2 + 2*b1^2)*b2^2)*b3^2 + 2*(a2^2*a3^2 + 2*a2*a3*b2*b3 + b2^2*b3^2)*c1^2 + 2*(a1*a2*a3^2 + a3^2*b1*b2 + (a1*a2 + b1*b2)*b3^2)*c1*c2 - 2*(a1^2*a3^2 + a3^2*b1^2 + (a1^2 + b1^2)*b3^2)*c2^2)*c3^2 + 2*(a2^2*a3^2*b1^2 - 2*a1*a2*a3^2*b1*b2 - (a1^2*a3^2 + 2*a3^2*b1^2)*b2^2 + 4*(a1^2*a2*a3 + a2*a3*b1^2)*b2*b3 - (2*a1^2*a2^2 + a2^2*b1^2 + 2*a1*a2*b1*b2 - a1^2*b2^2)*b3^2 - 2*(a3^2*b2^2 - 2*a2*a3*b2*b3 + a2^2*b3^2)*c1^2 - 2*(a1*a2*a3^2 + a3^2*b1*b2 + (a1*a2 + b1*b2)*b3^2)*c1*c2 + 2*(a1^2*a3^2 + a3^2*b1^2 + (a1^2 + b1^2)*b3^2)*c2^2 + (a2^2*b1^2 - 2*a1*a2*b1*b2 + a1^2*b2^2)*c3^2 + 2*((a1*a2^2*a3 + a2*a3*b1*b2 + (a1*a2*b2 + b1*b2^2)*b3)*c1 - (a1^2*a2*a3 + a2*a3*b1^2 + (a1^2 + b1^2)*b2*b3)*c2)*c3)*cot(1/2*alpha3)^2 + 4*((a1*a2^2*a3^3 + a2*a3^3*b1*b2 + (a1*a2*b2 + b1*b2^2)*b3^3 + (a1*a2^2*a3 + a2*a3*b1*b2)*b3^2 + (a1*a2*a3^2*b2 + a3^2*b1*b2^2)*b3)*c1 + (a1^2*a2*a3^3 + a2*a3^3*b1^2 + (a1^2 + b1^2)*b2*b3^3 + (a1^2*a3^2 + a3^2*b1^2)*b2*b3 + (a1^2*a2*a3 + a2*a3*b1^2)*b3^2 + 2*(a2*a3^3 + a3^2*b2*b3 + a2*a3*b3^2 + b2*b3^3)*c1^2)*c2)*c3 - 4*(((a1*a2*a3*b2 + a3*b1*b2^2 - (a1*a2^2 + a2*b1*b2)*b3)*c1 - ((a1^2*a3 + a3*b1^2)*b2 - (a1^2*a2 + a2*b1^2)*b3)*c2)*c3^2 + (a1*a2*a3^3*b2 + a3^3*b1*b2^2 - (a1*a2^2 + a2*b1*b2)*b3^3 + (a1*a2*a3*b2 + a3*b1*b2^2)*b3^2 - (a1*a2^2*a3^2 + a2*a3^2*b1*b2)*b3)*c1 + ((a1^2*a3 + a3*b1^2)*b2*b3^2 - (a1^2*a2 + a2*b1^2)*b3^3 + 2*(a3^3*b2 - a2*a3^2*b3 + a3*b2*b3^2 - a2*b3^3)*c1^2 + (a1^2*a3^3 + a3^3*b1^2)*b2 - (a1^2*a2*a3^2 + a2*a3^2*b1^2)*b3)*c2 + 2*((a1^2*a2 + a2*b1^2)*b2*b3^2 - (a2*a3^2*b2 - a2*b2*b3^2 - (a2^2*a3 - a3*b2^2)*b3)*c1^2 - (a1^2*a2*a3^2 + a2*a3^2*b1^2)*b2 + (a1^2*a2^2*a3 + a2^2*a3*b1^2 - (a1^2*a3 + a3*b1^2)*b2^2)*b3)*c3)*cot(1/2*alpha3)))*a3/((a3^2 + b3^2)*c1 - (a1*a3 + b1*b3)*c3 + (a3*b1 - a1*b3)*cot(1/2*alpha3))))"
      ]
     },
     "execution_count": 95,
     "metadata": {},
     "output_type": "execute_result"
    }
   ],
   "source": [
    "x2  = 2 * arccot(ff.subs(cos3 = cot(alpha3 / 2), cos2 = hhh2)) \n",
    "x2"
   ]
  },
  {
   "cell_type": "code",
   "execution_count": 109,
   "metadata": {},
   "outputs": [],
   "source": [
    "p1 = [x1,y1,zz]\n",
    "p2 = [x2,y2,zz]\n",
    "#we want to paramentic plot these with parameter alpha 3 - (0-2pi)\n",
    "#we want to substiture numeric values for a1,b1,,,etc and change with sliders\n",
    "#- @interact?"
   ]
  },
  {
   "cell_type": "code",
   "execution_count": 104,
   "metadata": {},
   "outputs": [
    {
     "data": {
      "text/plain": [
       "2*arccot(1/3*(3*(sqrt(3)*(9*sqrt(-32/27*sqrt(3)*cot(1/2*alpha3)^3 - 16/27*cot(1/2*alpha3)^2 + 16/27) - 8)/(sqrt(3) + 3*cot(1/2*alpha3)) - 8)*cot(1/2*alpha3) + 4*sqrt(3) + 6*(9*sqrt(-32/27*sqrt(3)*cot(1/2*alpha3)^3 - 16/27*cot(1/2*alpha3)^2 + 16/27) - 8)/(sqrt(3) + 3*cot(1/2*alpha3)))/(4*sqrt(3)*cot(1/2*alpha3) + sqrt(3)*(9*sqrt(-32/27*sqrt(3)*cot(1/2*alpha3)^3 - 16/27*cot(1/2*alpha3)^2 + 16/27) - 8)/(sqrt(3) + 3*cot(1/2*alpha3))))"
      ]
     },
     "execution_count": 104,
     "metadata": {},
     "output_type": "execute_result"
    }
   ],
   "source": [
    "x1S = x1.subs(a1 = -1/sqrt(3), a2 = 1/sqrt(3), a3 = 1/sqrt(3),b1 = 1/sqrt(3), b2= -1/sqrt(3),b3= 1/sqrt(3), c1= 1/sqrt(3),c2= 1/sqrt(3),c3=-1/sqrt(3) )\n",
    "x1S\n",
    "\n",
    "x2S = x2.subs(a1 = -1/sqrt(3), a2 = 1/sqrt(3), a3 = 1/sqrt(3),b1 = 1/sqrt(3), b2= -1/sqrt(3),b3= 1/sqrt(3), c1= 1/sqrt(3),c2= 1/sqrt(3),c3=-1/sqrt(3) )\n",
    "x2S\n",
    "\n",
    "y1S = y1.subs(a1 = -1/sqrt(3), a2 = 1/sqrt(3), a3 = 1/sqrt(3),b1 = 1/sqrt(3), b2= -1/sqrt(3),b3= 1/sqrt(3), c1= 1/sqrt(3),c2= 1/sqrt(3),c3=-1/sqrt(3) )\n",
    "y2S = y2.subs(a1 = -1/sqrt(3), a2 = 1/sqrt(3), a3 = 1/sqrt(3),b1 = 1/sqrt(3), b2= -1/sqrt(3),b3= 1/sqrt(3), c1= 1/sqrt(3),c2= 1/sqrt(3),c3=-1/sqrt(3) )\n",
    "\n",
    "zzS = zz.subs(a1 = -1/sqrt(3), a2 = 1/sqrt(3), a3 = 1/sqrt(3),b1 = 1/sqrt(3), b2= -1/sqrt(3),b3= 1/sqrt(3), c1= 1/sqrt(3),c2= 1/sqrt(3),c3=-1/sqrt(3) )\n",
    "\n",
    "x1S\n",
    "\n"
   ]
  },
  {
   "cell_type": "code",
   "execution_count": 121,
   "metadata": {},
   "outputs": [
    {
     "data": {
      "text/html": [
       "\n",
       "<iframe srcdoc=\"<!DOCTYPE html>\n",
       "<html>\n",
       "<head>\n",
       "<title></title>\n",
       "<meta charset=&quot;utf-8&quot;>\n",
       "<meta name=viewport content=&quot;width=device-width, user-scalable=no, minimum-scale=1.0, maximum-scale=1.0&quot;>\n",
       "<style>\n",
       "\n",
       "    body { margin: 0px; overflow: hidden; }\n",
       "\n",
       "    #download { position: absolute; bottom: 30px; right: 40px; }\n",
       "  \n",
       "</style>\n",
       "</head>\n",
       "\n",
       "<body>\n",
       "\n",
       "<script src=&quot;/nbextensions/threejs/build/three.min.js&quot;></script>\n",
       "<script src=&quot;/nbextensions/threejs/examples/js/controls/OrbitControls.js&quot;></script>\n",
       "<script>\n",
       "  if ( !window.THREE ) document.write(' \\\n",
       "<script src=&quot;https://cdn.jsdelivr.net/gh/mrdoob/three.js@r105/build/three.min.js&quot;><\\/script> \\\n",
       "<script src=&quot;https://cdn.jsdelivr.net/gh/mrdoob/three.js@r105/examples/js/controls/OrbitControls.js&quot;><\\/script> \\\n",
       "            ');\n",
       "</script>\n",
       "        \n",
       "<script>\n",
       "\n",
       "    var scene = new THREE.Scene();\n",
       "\n",
       "    var renderer = new THREE.WebGLRenderer( { antialias: true, preserveDrawingBuffer: true } );\n",
       "    renderer.setPixelRatio( window.devicePixelRatio );\n",
       "    renderer.setSize( window.innerWidth, window.innerHeight );\n",
       "    renderer.setClearColor( 0xffffff, 1 );\n",
       "    document.body.appendChild( renderer.domElement );\n",
       "\n",
       "    var options = {&quot;aspect_ratio&quot;: [1.0, 1.0, 1.0], &quot;axes&quot;: false, &quot;axes_labels&quot;: [&quot;x&quot;, &quot;y&quot;, &quot;z&quot;], &quot;decimals&quot;: 2, &quot;frame&quot;: true, &quot;projection&quot;: &quot;perspective&quot;};\n",
       "\n",
       "    // When animations are supported by the viewer, the value 'false'\n",
       "    // will be replaced with an option set in Python by the user\n",
       "    var animate = false; // options.animate;\n",
       "\n",
       "    var b = [{&quot;x&quot;:-2.0939327147646174, &quot;y&quot;:-2.8705392508681813, &quot;z&quot;:1e-09}, {&quot;x&quot;:2.0939327147646116, &quot;y&quot;:0.7762030862847641, &quot;z&quot;:18.84955592153876}]; // bounds\n",
       "\n",
       "    if ( b[0].x === b[1].x ) {\n",
       "        b[0].x -= 1;\n",
       "        b[1].x += 1;\n",
       "    }\n",
       "    if ( b[0].y === b[1].y ) {\n",
       "        b[0].y -= 1;\n",
       "        b[1].y += 1;\n",
       "    }\n",
       "    if ( b[0].z === b[1].z ) {\n",
       "        b[0].z -= 1;\n",
       "        b[1].z += 1;\n",
       "    }\n",
       "\n",
       "    var rRange = Math.sqrt( Math.pow( b[1].x - b[0].x, 2 )\n",
       "                            + Math.pow( b[1].y - b[0].y, 2 ) );\n",
       "    var xRange = b[1].x - b[0].x;\n",
       "    var yRange = b[1].y - b[0].y;\n",
       "    var zRange = b[1].z - b[0].z;\n",
       "\n",
       "    var ar = options.aspect_ratio;\n",
       "    var a = [ ar[0], ar[1], ar[2] ]; // aspect multipliers\n",
       "    var autoAspect = 2.5;\n",
       "    if ( zRange > autoAspect * rRange && a[2] === 1 ) a[2] = autoAspect * rRange / zRange;\n",
       "\n",
       "    // Distance from (xMid,yMid,zMid) to any corner of the bounding box, after applying aspect_ratio.\n",
       "    var midToCorner = Math.sqrt( a[0]*a[0]*xRange*xRange + a[1]*a[1]*yRange*yRange + a[2]*a[2]*zRange*zRange ) / 2;\n",
       "\n",
       "    var xMid = ( b[0].x + b[1].x ) / 2;\n",
       "    var yMid = ( b[0].y + b[1].y ) / 2;\n",
       "    var zMid = ( b[0].z + b[1].z ) / 2;\n",
       "\n",
       "    var box = new THREE.Geometry();\n",
       "    box.vertices.push( new THREE.Vector3( a[0]*b[0].x, a[1]*b[0].y, a[2]*b[0].z ) );\n",
       "    box.vertices.push( new THREE.Vector3( a[0]*b[1].x, a[1]*b[1].y, a[2]*b[1].z ) );\n",
       "    var boxMesh = new THREE.Line( box );\n",
       "    if ( options.frame ) scene.add( new THREE.BoxHelper( boxMesh, 'black' ) );\n",
       "\n",
       "    if ( options.axes_labels ) {\n",
       "\n",
       "        var d = options.decimals; // decimals\n",
       "        var offsetRatio = 0.1;\n",
       "        var al = options.axes_labels;\n",
       "\n",
       "        var offset = offsetRatio * a[1]*( b[1].y - b[0].y );\n",
       "        var xm = xMid.toFixed(d);\n",
       "        if ( /^-0.?0*$/.test(xm) ) xm = xm.substr(1);\n",
       "        addLabel( al[0] + '=' + xm, a[0]*xMid, a[1]*b[1].y+offset, a[2]*b[0].z );\n",
       "        addLabel( ( b[0].x ).toFixed(d), a[0]*b[0].x, a[1]*b[1].y+offset, a[2]*b[0].z );\n",
       "        addLabel( ( b[1].x ).toFixed(d), a[0]*b[1].x, a[1]*b[1].y+offset, a[2]*b[0].z );\n",
       "\n",
       "        var offset = offsetRatio * a[0]*( b[1].x - b[0].x );\n",
       "        var ym = yMid.toFixed(d);\n",
       "        if ( /^-0.?0*$/.test(ym) ) ym = ym.substr(1);\n",
       "        addLabel( al[1] + '=' + ym, a[0]*b[1].x+offset, a[1]*yMid, a[2]*b[0].z );\n",
       "        addLabel( ( b[0].y ).toFixed(d), a[0]*b[1].x+offset, a[1]*b[0].y, a[2]*b[0].z );\n",
       "        addLabel( ( b[1].y ).toFixed(d), a[0]*b[1].x+offset, a[1]*b[1].y, a[2]*b[0].z );\n",
       "\n",
       "        var offset = offsetRatio * a[1]*( b[1].y - b[0].y );\n",
       "        var zm = zMid.toFixed(d);\n",
       "        if ( /^-0.?0*$/.test(zm) ) zm = zm.substr(1);\n",
       "        addLabel( al[2] + '=' + zm, a[0]*b[1].x, a[1]*b[0].y-offset, a[2]*zMid );\n",
       "        addLabel( ( b[0].z ).toFixed(d), a[0]*b[1].x, a[1]*b[0].y-offset, a[2]*b[0].z );\n",
       "        addLabel( ( b[1].z ).toFixed(d), a[0]*b[1].x, a[1]*b[0].y-offset, a[2]*b[1].z );\n",
       "\n",
       "    }\n",
       "\n",
       "    function addLabel( text, x, y, z ) {\n",
       "\n",
       "        var fontsize = 14;\n",
       "\n",
       "        var canvas = document.createElement( 'canvas' );\n",
       "        var pixelRatio = Math.round( window.devicePixelRatio );\n",
       "        canvas.width = 128 * pixelRatio;\n",
       "        canvas.height = 32 * pixelRatio; // powers of two\n",
       "        canvas.style.width = '128px';\n",
       "        canvas.style.height = '32px';\n",
       "\n",
       "        var context = canvas.getContext( '2d' );\n",
       "        context.scale( pixelRatio, pixelRatio );\n",
       "        context.fillStyle = 'black';\n",
       "        context.font = fontsize + 'px monospace';\n",
       "        context.textAlign = 'center';\n",
       "        context.textBaseline = 'middle';\n",
       "        context.fillText( text, canvas.width/2/pixelRatio, canvas.height/2/pixelRatio );\n",
       "\n",
       "        var texture = new THREE.Texture( canvas );\n",
       "        texture.needsUpdate = true;\n",
       "\n",
       "        var sprite = new THREE.Sprite( new THREE.SpriteMaterial( { map: texture } ) );\n",
       "        sprite.position.set( x, y, z );\n",
       "\n",
       "        // Set the initial scale based on plot size to accomodate orthographic projection.\n",
       "        // For other projections, the scale will get reset each frame based on camera distance.\n",
       "        var scale = midToCorner/2;\n",
       "        sprite.scale.set( scale, scale*.25 ); // ratio of canvas width to height\n",
       "\n",
       "        scene.add( sprite );\n",
       "\n",
       "    }\n",
       "\n",
       "    if ( options.axes ) scene.add( new THREE.AxesHelper( Math.min( a[0]*b[1].x, a[1]*b[1].y, a[2]*b[1].z ) ) );\n",
       "\n",
       "    var camera = createCamera();\n",
       "    camera.up.set( 0, 0, 1 );\n",
       "    camera.position.set( a[0]*(xMid+xRange), a[1]*(yMid+yRange), a[2]*(zMid+zRange) );\n",
       "\n",
       "    function createCamera() {\n",
       "\n",
       "        var aspect = window.innerWidth / window.innerHeight;\n",
       "\n",
       "        if ( options.projection === 'orthographic' ) {\n",
       "            var camera = new THREE.OrthographicCamera( -1, 1, 1, -1, -1000, 1000 );\n",
       "            updateCameraAspect( camera, aspect );\n",
       "            return camera;\n",
       "        }\n",
       "\n",
       "        return new THREE.PerspectiveCamera( 45, aspect, 0.1, 1000 );\n",
       "\n",
       "    }\n",
       "\n",
       "    function updateCameraAspect( camera, aspect ) {\n",
       "\n",
       "        if ( camera.isPerspectiveCamera ) {\n",
       "            camera.aspect = aspect;\n",
       "        } else if ( camera.isOrthographicCamera ) {\n",
       "            // Fit the camera frustum to the bounding box's diagonal so that the entire plot fits\n",
       "            // within at the default zoom level and camera position.\n",
       "            if ( aspect > 1 ) { // Wide window\n",
       "                camera.top = midToCorner;\n",
       "                camera.right = midToCorner * aspect;\n",
       "            } else { // Tall or square window\n",
       "                camera.top = midToCorner / aspect;\n",
       "                camera.right = midToCorner;\n",
       "            }\n",
       "            camera.bottom = -camera.top;\n",
       "            camera.left = -camera.right;\n",
       "        }\n",
       "\n",
       "        camera.updateProjectionMatrix();\n",
       "\n",
       "    }\n",
       "\n",
       "    var lights = [{&quot;x&quot;:-5, &quot;y&quot;:3, &quot;z&quot;:0, &quot;color&quot;:&quot;#7f7f7f&quot;, &quot;parent&quot;:&quot;camera&quot;}];\n",
       "    for ( var i=0 ; i < lights.length ; i++ ) {\n",
       "        var light = new THREE.DirectionalLight( lights[i].color, 1 );\n",
       "        light.position.set( a[0]*lights[i].x, a[1]*lights[i].y, a[2]*lights[i].z );\n",
       "        if ( lights[i].parent === 'camera' ) {\n",
       "            light.target.position.set( a[0]*xMid, a[1]*yMid, a[2]*zMid );\n",
       "            scene.add( light.target );\n",
       "            camera.add( light );\n",
       "        } else scene.add( light );\n",
       "    }\n",
       "    scene.add( camera );\n",
       "\n",
       "    var ambient = {&quot;color&quot;:&quot;#7f7f7f&quot;};\n",
       "    scene.add( new THREE.AmbientLight( ambient.color, 1 ) );\n",
       "\n",
       "    var controls = new THREE.OrbitControls( camera, renderer.domElement );\n",
       "    controls.target.set( a[0]*xMid, a[1]*yMid, a[2]*zMid );\n",
       "    controls.addEventListener( 'change', function() { if ( !animate ) render(); } );\n",
       "\n",
       "    window.addEventListener( 'resize', function() {\n",
       "        \n",
       "        renderer.setSize( window.innerWidth, window.innerHeight );\n",
       "        updateCameraAspect( camera, window.innerWidth / window.innerHeight );\n",
       "        if ( !animate ) render();\n",
       "        \n",
       "    } );\n",
       "\n",
       "    function saveAsPNG() {\n",
       "\n",
       "        var a = document.body.appendChild( document.createElement( 'a' ) );\n",
       "        a.href = renderer.domElement.toDataURL( 'image/png' );\n",
       "        a.download = 'screenshot';\n",
       "        a.click();\n",
       "\n",
       "    }\n",
       "\n",
       "    var texts = [];\n",
       "    for ( var i=0 ; i < texts.length ; i++ )\n",
       "        addLabel( texts[i].text, a[0]*texts[i].x, a[1]*texts[i].y, a[2]*texts[i].z );\n",
       "\n",
       "    var points = [];\n",
       "    for ( var i=0 ; i < points.length ; i++ ) addPoint( points[i] );\n",
       "\n",
       "    function addPoint( json ) {\n",
       "\n",
       "        var geometry = new THREE.Geometry();\n",
       "        var v = json.point;\n",
       "        geometry.vertices.push( new THREE.Vector3( a[0]*v[0], a[1]*v[1], a[2]*v[2] ) );\n",
       "\n",
       "        var canvas = document.createElement( 'canvas' );\n",
       "        canvas.width = 128;\n",
       "        canvas.height = 128;\n",
       "\n",
       "        var context = canvas.getContext( '2d' );\n",
       "        context.arc( 64, 64, 64, 0, 2 * Math.PI );\n",
       "        context.fillStyle = json.color;\n",
       "        context.fill();\n",
       "\n",
       "        var texture = new THREE.Texture( canvas );\n",
       "        texture.needsUpdate = true;\n",
       "\n",
       "        var transparent = json.opacity < 1 ? true : false;\n",
       "        var size = camera.isOrthographicCamera ? json.size : json.size/100;\n",
       "        var material = new THREE.PointsMaterial( { size: size, map: texture,\n",
       "                                                   transparent: transparent, opacity: json.opacity,\n",
       "                                                   alphaTest: .1 } );\n",
       "\n",
       "        var c = new THREE.Vector3();\n",
       "        geometry.computeBoundingBox();\n",
       "        geometry.boundingBox.getCenter( c );\n",
       "        geometry.translate( -c.x, -c.y, -c.z );\n",
       "\n",
       "        var mesh = new THREE.Points( geometry, material );\n",
       "        mesh.position.set( c.x, c.y, c.z );\n",
       "        scene.add( mesh );\n",
       "\n",
       "    }\n",
       "\n",
       "    var lines = [{&quot;points&quot;:[[NaN, NaN, 1e-09], [NaN, NaN, 0.2547237296559292], [NaN, NaN, 0.5094474583118584], [NaN, NaN, 0.7641711869677876], [NaN, NaN, 1.0188949156237168], [NaN, NaN, 1.273618644279646], [NaN, NaN, 1.5283423729355752], [NaN, NaN, 1.7830661015915044], [NaN, NaN, 2.0377898302474335], [-0.6097976448590989, -2.631369510087507, 2.2925135589033627], [-0.9634412353821519, -2.809447271831276, 2.547237287559292], [-1.2481591118133781, -2.8681884440045216, 2.801961016215221], [-1.4954798005384782, -2.853476674784633, 3.0566847448711503], [-1.7104164651080587, -2.7767941049148948, 3.3114084735270795], [-1.8884423263181196, -2.6398643008162286, 3.5661322021830086], [-2.0186949031465242, -2.4453360943210134, 3.820855930838938], [-2.087018958028219, -2.207109932300184, 4.075579659494867], [-2.0828903337408917, -1.9537777269447147, 4.330303388150796], [-2.007020095309721, -1.7150828531570266, 4.5850271168067245], [-1.870777336655779, -1.5048915582185223, 4.839750845462653], [-1.6882131696994511, -1.3205059426440882, 5.094474574118582], [-1.4695889893886511, -1.1509934699990794, 5.349198302774511], [-1.218596534456237, -0.981497740094107, 5.603922031430439], [-0.9286728803923194, -0.7896023898561046, 5.858645760086368], [-0.5615158258923137, -0.5190296214812196, 6.113369488742297], [NaN, NaN, 6.368093217398226], [NaN, NaN, 6.622816946054154], [NaN, NaN, 6.877540674710083], [NaN, NaN, 7.132264403366012], [NaN, NaN, 7.386988132021941], [NaN, NaN, 7.641711860677869], [NaN, NaN, 7.896435589333798], [NaN, NaN, 8.151159317989727], [-0.2227563618862817, -2.313342506781822, 8.405883046645656], [-0.7403113388814784, -2.710573936288836, 8.660606775301584], [-1.0634618970412777, -2.8387579121845445, 8.915330503957513], [-1.3342434198843003, -2.8705392508681813, 9.170054232613442], [-1.5707963272279009, -2.834624951414199, 9.42477796126937], [-1.7742836004085847, -2.7378330073424126, 9.6795016899253], [-1.9378460810842213, -2.5810582198676664, 9.934225418581228], [-2.049033325496157, -2.369619374004937, 10.188949147237157], [-2.0939327147646174, -2.12269012311866, 10.443672875893085], [-2.0651650673247586, -1.8714890195529843, 10.698396604549014], [-1.9675927799070922, -1.6417231178381533, 10.953120333204943], [-1.814447992486302, -1.44100430535615, 11.207844061860872], [-1.619009607533772, -1.2630056017702629, 11.4625677905168], [-1.3895698745448395, -1.0953564210080184, 11.71729151917273], [-1.127076051784855, -0.9215803252894358, 11.972015247828658], [-0.8190284939592326, -0.7134724029873339, 12.226738976484587], [-0.39040591472121783, -0.374151202228616, 12.481462705140515], [NaN, NaN, 12.736186433796444], [NaN, NaN, 12.990910162452373], [NaN, NaN, 13.245633891108302], [NaN, NaN, 13.50035761976423], [NaN, NaN, 13.755081348420159], [NaN, NaN, 14.009805077076088], [NaN, NaN, 14.264528805732017], [NaN, NaN, 14.519252534387945], [-0.45339467307657694, -2.516494432734037, 14.773976263043874], [-0.8565652695350716, -2.7678625333055904, 15.028699991699803], [-1.1580760206534562, -2.857889190306119, 15.283423720355731], [-1.4166353825135636, -2.8655159620235366, 15.53814744901166], [-1.6425005849740446, -2.8090557081279104, 15.792871177667589], [-1.8337628637627525, -2.6921726303704117, 16.047594906323518], [-1.9814483365691462, -2.5160523412622773, 16.302318634979446], [-2.0719511233011527, -2.289835619956372, 16.557042363635375], [-2.0925466606911582, -2.0378491886201093, 16.811766092291304], [-2.0397210101434964, -1.7917552604167781, 17.066489820947233], [-1.9219959821931611, -1.571707141786323, 17.32121354960316], [-1.7534637865587175, -1.379683452312789, 17.57593727825909], [-1.5460860357075015, -1.2066809453931286, 17.83066100691502], [-1.3059702537216733, -1.0391126446736894, 18.085384735570948], [-1.0307790081037416, -0.8581623638345108, 18.340108464226876], [-0.6987496743577964, -0.6258001867214343, 18.594832192882805], [-3.567478502345724e-08, -3.5674785023457215e-08, 18.84955592153876]], &quot;color&quot;:&quot;blue&quot;, &quot;opacity&quot;:1.0, &quot;linewidth&quot;:1},{&quot;points&quot;:[[NaN, NaN, 1e-09], [NaN, NaN, 0.2547237296559292], [NaN, NaN, 0.5094474583118584], [NaN, NaN, 0.7641711869677876], [NaN, NaN, 1.0188949156237168], [NaN, NaN, 1.273618644279646], [NaN, NaN, 1.5283423729355752], [NaN, NaN, 1.7830661015915044], [NaN, NaN, 2.0377898302474335], [0.6097976448590987, -1.5368984408318462, 2.2925135589033627], [0.9634412353821524, -1.2812399646503378, 2.547237287559292], [1.2481591118133768, -1.0934868562988054, 2.801961016215221], [1.495479800538478, -0.9248749019016194, 3.0566847448711503], [1.7104164651080578, -0.7543734551338462, 3.3114084735270795], [1.8884423263181183, -0.5675726695288654, 3.5661322021830086], [2.018694903146524, -0.3541153816739846, 3.820855930838938], [2.087018958028218, -0.11274610931403176, 4.075579659494867], [2.0828903337408917, 0.14054145927802866, 4.330303388150796], [2.007020095309721, 0.37510844527370757, 4.5850271168067245], [1.8707773366557787, 0.5636372755835042, 4.839750845462653], [1.688213169699452, 0.6938966620184976, 5.094474574118582], [1.4695889893886485, 0.7638590258799673, 5.349198302774511], [1.2185965344562406, 0.7712795542244162, 5.603922031430439], [0.9286728803923198, 0.7026879648924539, 5.858645760086368], [0.5615158258923137, 0.503763767913529, 6.113369488742297], [NaN, NaN, 6.368093217398226], [NaN, NaN, 6.622816946054154], [NaN, NaN, 6.877540674710083], [NaN, NaN, 7.132264403366012], [NaN, NaN, 7.386988132021941], [NaN, NaN, 7.641711860677869], [NaN, NaN, 7.896435589333798], [NaN, NaN, 8.151159317989727], [0.22275636188628198, -1.8749925632816036, 8.405883046645656], [0.740311338881479, -1.4377355351544479, 8.660606775301584], [1.06346189704128, -1.214615006181968, 8.915330503957513], [1.334243419884281, -1.0364226705119037, 9.170054232613442], [1.5707963272279013, -0.8690375047196919, 9.42477796126937], [1.7742836004085851, -0.6945314212484979, 9.6795016899253], [1.9378460810842206, -0.49971504844675163, 9.934225418581228], [2.049033325496157, -0.27638254605819373, 10.188949147237157], [2.0939327147646116, -0.0282951441313584, 10.443672875893085], [2.065165067324759, 0.22242088171454324, 10.698396604549014], [1.9675927799070925, 0.4439888659307148, 10.953120333204943], [1.8144479924863015, 0.6137404122359483, 11.207844061860872], [1.6190096075337732, 0.7239274972972517, 11.4625677905168], [1.3895698745448337, 0.7735888466415742, 11.71729151917273], [1.1270760517848575, 0.7581533551054036, 11.972015247828658], [0.8190284939592333, 0.6563434238240753, 12.226738976484587], [0.3904059147212176, 0.37017645425347334, 12.481462705140515], [NaN, NaN, 12.736186433796444], [NaN, NaN, 12.990910162452373], [NaN, NaN, 13.245633891108302], [NaN, NaN, 13.50035761976423], [NaN, NaN, 13.755081348420159], [NaN, NaN, 14.009805077076088], [NaN, NaN, 14.264528805732017], [NaN, NaN, 14.519252534387945], [0.45339467307657705, -1.6653286961540605, 14.773976263043874], [0.8565652695350716, -1.3545048100402242, 15.028699991699803], [1.158076020653456, -1.1525194896689315, 15.283423720355731], [1.416635382513563, -0.9804598131223489, 15.53814744901166], [1.6425005849740442, -0.8123788217055031, 15.792871177667589], [1.8337628637627528, -0.6323995617523233, 16.047594906323518], [1.9814483365691467, -0.4285927802477511, 16.302318634979446], [2.0719511233011514, -0.19572766295723454, 16.557042363635375], [2.09254666069116, 0.05654394322050623, 16.811766092291304], [2.0397210101434964, 0.3009655800335648, 17.066489820947233], [1.9219959821931607, 0.5069722858993835, 17.32121354960316], [1.7534637865587182, 0.6571699247672179, 17.57593727825909], [1.5460860357075004, 0.7472630418507821, 17.83066100691502], [1.3059702537216915, 0.7762030862847641, 18.085384735570948], [1.0307790081037411, 0.7358079155168823, 18.340108464226876], [0.6987496743577968, 0.5926539009866559, 18.594832192882805], [3.567478502345724e-08, 3.5674785023457215e-08, 18.84955592153876]], &quot;color&quot;:&quot;blue&quot;, &quot;opacity&quot;:1.0, &quot;linewidth&quot;:1}];\n",
       "    for ( var i=0 ; i < lines.length ; i++ ) addLine( lines[i] );\n",
       "\n",
       "    function addLine( json ) {\n",
       "\n",
       "        var geometry = new THREE.Geometry();\n",
       "        for ( var i=0 ; i < json.points.length - 1 ; i++ ) {\n",
       "            var v = json.points[i];\n",
       "            geometry.vertices.push( new THREE.Vector3( a[0]*v[0], a[1]*v[1], a[2]*v[2] ) );\n",
       "        }\n",
       "\n",
       "        var transparent = json.opacity < 1 ? true : false;\n",
       "        var material = new THREE.LineBasicMaterial( { color: json.color, linewidth: json.linewidth,\n",
       "                                                      transparent: transparent, opacity: json.opacity } );\n",
       "\n",
       "        var c = new THREE.Vector3();\n",
       "        geometry.computeBoundingBox();\n",
       "        geometry.boundingBox.getCenter( c );\n",
       "        geometry.translate( -c.x, -c.y, -c.z );\n",
       "\n",
       "        var mesh = new THREE.Line( geometry, material );\n",
       "        mesh.position.set( c.x, c.y, c.z );\n",
       "        scene.add( mesh );\n",
       "\n",
       "    }\n",
       "\n",
       "    var surfaces = [];\n",
       "    for ( var i=0 ; i < surfaces.length ; i++ ) addSurface( surfaces[i] );\n",
       "\n",
       "    function addSurface( json ) {\n",
       "\n",
       "        var useFaceColors = 'faceColors' in json ? true : false;\n",
       "\n",
       "        var geometry = new THREE.Geometry();\n",
       "        for ( var i=0 ; i < json.vertices.length ; i++ ) {\n",
       "            var v = json.vertices[i];\n",
       "            geometry.vertices.push( new THREE.Vector3( a[0]*v.x, a[1]*v.y, a[2]*v.z ) );\n",
       "        }\n",
       "        for ( var i=0 ; i < json.faces.length ; i++ ) {\n",
       "            var f = json.faces[i];\n",
       "            for ( var j=0 ; j < f.length - 2 ; j++ ) {\n",
       "                var face = new THREE.Face3( f[0], f[j+1], f[j+2] );\n",
       "                if ( useFaceColors ) face.color.set( json.faceColors[i] );\n",
       "                geometry.faces.push( face );\n",
       "            }\n",
       "        }\n",
       "        geometry.computeVertexNormals();\n",
       "\n",
       "        var transparent = json.opacity < 1 ? true : false;\n",
       "        var flatShading = 'useFlatShading' in json ? true : false;\n",
       "\n",
       "        var material = new THREE.MeshPhongMaterial( { side: THREE.DoubleSide,\n",
       "                                     color: useFaceColors ? 'white' : json.color,\n",
       "                                     vertexColors: useFaceColors ? THREE.FaceColors : THREE.NoColors,\n",
       "                                     transparent: transparent, opacity: json.opacity,\n",
       "                                     shininess: 20, flatShading: flatShading } );\n",
       "\n",
       "        var c = new THREE.Vector3();\n",
       "        geometry.computeBoundingBox();\n",
       "        geometry.boundingBox.getCenter( c );\n",
       "        geometry.translate( -c.x, -c.y, -c.z );\n",
       "\n",
       "        var mesh = new THREE.Mesh( geometry, material );\n",
       "        mesh.position.set( c.x, c.y, c.z );\n",
       "        if ( transparent && json.renderOrder ) mesh.renderOrder = json.renderOrder\n",
       "        scene.add( mesh );\n",
       "\n",
       "        if ( 'showMeshGrid' in json ) {\n",
       "\n",
       "            var geometry = new THREE.Geometry();\n",
       "\n",
       "            for ( var i=0 ; i < json.faces.length ; i++ ) {\n",
       "                var f = json.faces[i];\n",
       "                for ( var j=0 ; j < f.length ; j++ ) {\n",
       "                    var k = j === f.length-1 ? 0 : j+1;\n",
       "                    var v1 = json.vertices[f[j]];\n",
       "                    var v2 = json.vertices[f[k]];\n",
       "                    // vertices in opposite directions on neighboring faces\n",
       "                    var nudge = f[j] < f[k] ? .0005*zRange : -.0005*zRange;\n",
       "                    geometry.vertices.push( new THREE.Vector3( a[0]*v1.x, a[1]*v1.y, a[2]*(v1.z+nudge) ) );\n",
       "                    geometry.vertices.push( new THREE.Vector3( a[0]*v2.x, a[1]*v2.y, a[2]*(v2.z+nudge) ) );\n",
       "                }\n",
       "            }\n",
       "\n",
       "            var material = new THREE.LineBasicMaterial( { color: 'black', linewidth: 1 } );\n",
       "\n",
       "            var c = new THREE.Vector3();\n",
       "            geometry.computeBoundingBox();\n",
       "            geometry.boundingBox.getCenter( c );\n",
       "            geometry.translate( -c.x, -c.y, -c.z );\n",
       "\n",
       "            var mesh = new THREE.LineSegments( geometry, material );\n",
       "            mesh.position.set( c.x, c.y, c.z );\n",
       "            scene.add( mesh );\n",
       "\n",
       "        }\n",
       "\n",
       "    }\n",
       "\n",
       "    var scratch = new THREE.Vector3();\n",
       "\n",
       "    function render() {\n",
       "\n",
       "        if ( animate ) requestAnimationFrame( render );\n",
       "        renderer.render( scene, camera );\n",
       "\n",
       "        // Resize text based on distance from camera.\n",
       "        // Not neccessary for orthographic due to the nature of the projection (preserves sizes).\n",
       "        if ( !camera.isOrthographicCamera ) {\n",
       "            for ( var i=0 ; i < scene.children.length ; i++ ) {\n",
       "                if ( scene.children[i].type === 'Sprite' ) {\n",
       "                    var sprite = scene.children[i];\n",
       "                    var adjust = scratch.addVectors( sprite.position, scene.position )\n",
       "                                    .sub( camera.position ).length() / 5;\n",
       "                    sprite.scale.set( adjust, .25*adjust ); // ratio of canvas width to height\n",
       "                }\n",
       "            }\n",
       "        }\n",
       "    }\n",
       "    \n",
       "    render();\n",
       "    controls.update();\n",
       "    if ( !animate ) render();\n",
       "\n",
       "</script>\n",
       "\n",
       "<span id=&quot;download&quot; onclick=&quot;saveAsPNG()&quot;>&#x2b07;</span>\n",
       "\n",
       "</body>\n",
       "</html>\n",
       "\"\n",
       "        width=\"100%\"\n",
       "        height=\"400\"\n",
       "        style=\"border: 0;\">\n",
       "</iframe>\n"
      ],
      "text/plain": [
       "Graphics3d Object"
      ]
     },
     "execution_count": 121,
     "metadata": {},
     "output_type": "execute_result"
    }
   ],
   "source": [
    "parametric_plot3d([[x1S, y1S,zz],[x2S, y2S,zz]], (alpha3, 0.000000001, 6*pi))"
   ]
  },
  {
   "cell_type": "code",
   "execution_count": 29,
   "metadata": {},
   "outputs": [
    {
     "data": {
      "text/plain": [
       "[cos1 == -(a1*a2*a3 - a2*a3*b1 + (a3 - b3)*c1*c2 + (a1*a3 + a3*b1)*b2 - (a1*a2 + a2*b1 - (a1 - b1)*b2)*b3 - ((a2 - b2)*c1 - (a1 - b1)*c2)*c3 + ((a3 + b3)*c1 - (a1 + b1)*c3)*cos2 + ((a2 + b2)*c1 - (a1 + b1)*c2 - (a1 - b1)*cos2)*cos3)/((a3 + b3)*c2 - (a2 + b2)*c3 - (a3 - b3)*cos2 - (a2 - b2)*cos3)]"
      ]
     },
     "execution_count": 29,
     "metadata": {},
     "output_type": "execute_result"
    }
   ],
   "source": [
    "#now they are in the symbolic ring\n",
    "var('cos1')\n",
    "f_cos1_1 = solve(SR(monster[1]) == SR(monster[2]), cos1)\n",
    "f_cos1_1"
   ]
  },
  {
   "cell_type": "code",
   "execution_count": 76,
   "metadata": {},
   "outputs": [
    {
     "data": {
      "text/plain": [
       "-(a1*a2*a3 + a3*b1*b2 - a2*b1*b3 + a1*b2*b3 + a3*c1*c2 - a2*c1*c3 + a1*c2*c3 + (b3*c1 - b1*c3)*cos2 + (b2*c1 - b1*c2 - a1*cos2)*cos3)/(b3*c2 - b2*c3 - a3*cos2 - a2*cos3)"
      ]
     },
     "execution_count": 76,
     "metadata": {},
     "output_type": "execute_result"
    }
   ],
   "source": []
  },
  {
   "cell_type": "code",
   "execution_count": 30,
   "metadata": {},
   "outputs": [],
   "source": [
    "f_cos1_2 = solve(SR(monster[2]) == SR(monster[3]), cos1)"
   ]
  },
  {
   "cell_type": "code",
   "execution_count": 31,
   "metadata": {},
   "outputs": [],
   "source": [
    "#eliminate cos1 by setting f_cos1_1 = f_cos1_2\n",
    "thing = SR(-(a1*a2*a3 - a2*a3*b1 + (a3 - b3)*c1*c2 + (a1*a3 + a3*b1)*b2 - (a1*a2 + a2*b1 - (a1 - b1)*b2)*b3 - ((a2 - b2)*c1 - (a1 - b1)*c2)*c3 + ((a3 + b3)*c1 - (a1 + b1)*c3)*cos2 + ((a2 + b2)*c1 - (a1 + b1)*c2 - (a1 - b1)*cos2)*cos3)/((a3 + b3)*c2 - (a2 + b2)*c3 - (a3 - b3)*cos2 - (a2 - b2)*cos3)) == SR((a2*a3*b1 - a1*a3*b2 + (a1*a2 + b1*b2)*b3 - (a2*a3 + b2*b3)*c1 + (a1*a3 + b1*b3 + b3*c1)*c2 - (a1*a2 + b1*b2 + b2*c1 - (b1 - c1)*c2)*c3 - (a3*b1 - a1*b3 + a3*c1 - a1*c3)*cos2 - (a2*b1 - a1*b2 + a2*c1 - a1*c2 + (b1 - c1)*cos2)*cos3)/(a3*b2 - a2*b3 + a3*c2 - a2*c3 + (b3 - c3)*cos2 + (b2 - c2)*cos3))"
   ]
  },
  {
   "cell_type": "code",
   "execution_count": 32,
   "metadata": {},
   "outputs": [
    {
     "data": {
      "text/plain": [
       "[cos2 == 1/2*(a2*a3^2*b1 - a1*a3^2*b2 + (a2*b1 - a1*b2)*b3^2 - (a2*b1 - a1*b2 + (a2 - b2)*c1 - (a1 - b1)*c2)*c3^2 - (a2*b1 - a1*b2 - (a2 - b2)*c1 + (a1 - b1)*c2)*cos3^2 - (a2*a3^2 + a3^2*b2 - (a2 + b2)*b3^2 - 2*(a2*a3 - a3*b2)*b3)*c1 + (a1*a3^2 + a3^2*b1 - (a1 + b1)*b3^2 - 2*(a1*a3 - a3*b1)*b3)*c2 - 2*(a2*a3*b1 - a1*a3*b2 + (a2*b1 - a1*b2)*b3 + (a3*b2 - a2*b3)*c1 - (a3*b1 - a1*b3)*c2)*c3 - 2*(a2*a3*b1 - a1*a3*b2 - (a2*b1 - a1*b2)*b3 + (a2*a3 + b2*b3)*c1 - (a1*a3 + b1*b3)*c2 - ((a2 + b2)*c1 - (a1 + b1)*c2)*c3)*cos3 + sqrt(a2^2*a3^4*b1^2 - (4*a1^2*a2^2 + 4*a1*a2^2*b1 - a2^2*b1^2 - a1^2*b2^2 - 2*(2*a1^2*a2 - 3*a1*a2*b1)*b2)*b3^4 - (4*a1^2*a2^2 + 4*a1*a2^2*b1 - a2^2*b1^2 - (a1^2 - 4*a1*b1 - 4*b1^2)*b2^2 - (a2^2 - 2*a2*b2 + b2^2)*c1^2 - (a1^2 - 2*a1*b1 + b1^2)*c2^2 + 2*(2*a1^2*a2 + 5*a1*a2*b1 + 2*a2*b1^2)*b2 + 2*(2*a1*a2^2 + a2^2*b1 + (a1 + 2*b1)*b2^2 + (a1*a2 + a2*b1)*b2)*c1 - 2*(2*a1^2*a2 + a1*a2*b1 + a2*b1^2 + (a1^2 + a1*b1 + 2*b1^2)*b2 - (3*a1*a2 + a2*b1 + (a1 + 3*b1)*b2)*c1)*c2)*c3^4 + (a2^2*b1^2 - 2*a1*a2*b1*b2 + a1^2*b2^2 + (a2^2 - 2*a2*b2 + b2^2)*c1^2 + (a1^2 - 2*a1*b1 + b1^2)*c2^2 - 2*(a2^2*b1 + a1*b2^2 - (a1*a2 + a2*b1)*b2)*c1 + 2*(a1*a2*b1 - a2*b1^2 - (a1^2 - a1*b1)*b2 - (a1*a2 - a2*b1 - (a1 - b1)*b2)*c1)*c2)*cos3^4 + 4*(2*a1^2*a2^2*a3 + a1*a2^2*a3*b1 + a2^2*a3*b1^2 - (a1^2*a3 - a1*a3*b1)*b2^2 + (a1^2*a2*a3 + 2*a1*a2*a3*b1 + a2*a3*b1^2)*b2)*b3^3 + 4*(2*a1^2*a2^2*a3 + a1*a2^2*a3*b1 + a2^2*a3*b1^2 + (a2^2*a3 + a2*a3*b2 + (a2*b2 + b2^2)*b3)*c1^2 - (a1^2*a3 + a3*b1^2 + (a1^2 + b1^2)*b3 - (a1*a3 + a3*b1 + (a1 + b1)*b3)*c1)*c2^2 + (a1^2*a2*a3 + a1*a2*a3*b1 + 2*a2*a3*b1^2)*b2 + ((a1^2 + a1*b1 + 2*b1^2)*b2^2 + (2*a1^2*a2 + a1*a2*b1 + a2*b1^2)*b2)*b3 + (a1*a2^2*a3 + a2*a3*b1*b2 + (a1*a2*b2 + b1*b2^2)*b3)*c1 + (a1^2*a2*a3 + a1*a2*a3*b1 + (a2*a3 + a3*b2 + (a2 + b2)*b3)*c1^2 + (a1^2*a3 + a1*a3*b1 + 2*a3*b1^2)*b2 + (2*a1^2*a2 + a1*a2*b1 + a2*b1^2 + (a1*b1 + b1^2)*b2)*b3 + (2*a1*a2*a3 + a2*a3*b1 + a3*b1*b2 + (a1*a2 + (a1 + 2*b1)*b2)*b3)*c1)*c2)*c3^3 + 4*((a1^2*a3 - a1*a3*b1)*b2^2 + (a2*a3*b2 + a3*b2^2 - (a2^2 + a2*b2)*b3)*c1^2 - (a1^2*a3 + a3*b1^2 - (a1^2 + b1^2)*b3 - (a1*a3 + a3*b1 - (a1 + b1)*b3)*c1)*c2^2 - (a1*a2*a3*b1 - a2*a3*b1^2)*b2 + (a1*a2^2*b1 - a2^2*b1^2 - (a1^2*a2 - a1*a2*b1)*b2)*b3 - (a1*a2*a3*b2 + a3*b1*b2^2 - (a1*a2^2 + a2*b1*b2)*b3)*c1 + (a1*a2*a3*b1 - a2*a3*b1^2 - (a2*a3 + a3*b2 - (a2 + b2)*b3)*c1^2 + (a1*a3*b1 + a3*b1^2)*b2 - (a1^2*a2 + a1*a2*b1 - (a1^2 - a1*b1)*b2)*b3 + (a1*a2*a3 - a1*a3*b2 + (a2*b1 - b1*b2)*b3)*c1)*c2 - (a1*a2^2*b1 - a2^2*b1^2 + (a1^2 - a1*b1)*b2^2 - (a2^2 - b2^2)*c1^2 - (a1^2*a2 - a2*b1^2)*b2 + (a1*a2^2 - b1*b2^2 - (a1*a2 - a2*b1)*b2)*c1 - (a1^2*a2 + a2*b1^2 - (a1^2 + b1^2)*b2 - (a1*a2 + a2*b1 - (a1 + b1)*b2)*c1)*c2)*c3)*cos3^3 + (a1^2*a3^4 - 4*a1*a3^4*b1 - 4*a3^4*b1^2)*b2^2 - 2*(2*a1^2*a2^2*a3^2 + 2*a1*a2^2*a3^2*b1 - a2^2*a3^2*b1^2 - (a1^2*a3^2 - 2*a1*a3^2*b1 - 2*a3^2*b1^2)*b2^2 + 6*(a1^2*a2*a3^2 + a1*a2*a3^2*b1 + a2*a3^2*b1^2)*b2)*b3^2 + (a2^2*a3^4 + 2*a2*a3^4*b2 + a3^4*b2^2 + (a2^2 + 2*a2*b2 + b2^2)*b3^4 + 4*(a2^2*a3 - a3*b2^2)*b3^3 + 2*(a2^2*a3^2 - 6*a2*a3^2*b2 + a3^2*b2^2)*b3^2 - 4*(a2^2*a3^3 - a3^3*b2^2)*b3)*c1^2 + (a1^2*a3^4 - 2*a1*a3^4*b1 + a3^4*b1^2 + (a1^2 - 2*a1*b1 + b1^2)*b3^4 + 2*(a1^2*a3^2 - 2*a1*a3^2*b1 + a3^2*b1^2)*b3^2 - 4*(a3^4 + 2*a3^2*b3^2 + b3^4)*c1^2 - 4*(a1*a3^4 + a3^4*b1 + (a1 + b1)*b3^4 + 2*(a1*a3^2 + a3^2*b1)*b3^2)*c1)*c2^2 - 2*(2*a1^2*a2^2*a3^2 + 2*a1*a2^2*a3^2*b1 - a2^2*a3^2*b1^2 - (a1^2*a3^2 - 4*a1*a3^2*b1 - 4*a3^2*b1^2)*b2^2 + (4*a1^2*a2^2 + 4*a1*a2^2*b1 - a2^2*b1^2 - (a1^2 - 2*a1*b1 - 2*b1^2)*b2^2 + 2*(4*a1*a2*b1 + a2*b1^2)*b2)*b3^2 - (a2^2*a3^2 + a3^2*b2^2 + (a2^2 + b2^2)*b3^2 + 2*(a2^2*a3 + a3*b2^2)*b3)*c1^2 - (a1^2*a3^2 - 2*a1*a3^2*b1 + a3^2*b1^2 + (a1^2 - 2*a1*b1 + b1^2)*b3^2 - 2*(a3^2 + 2*a3*b3 + b3^2)*c1^2 - 4*(a1^2*a3 + a3*b1^2)*b3 - 2*(a1*a3^2 + a3^2*b1 + (a1 + b1)*b3^2)*c1)*c2^2 + 2*(a1^2*a2*a3^2 + 4*a1*a2*a3^2*b1)*b2 - 2*(2*a1^2*a2^2*a3 + a1*a2^2*a3*b1 + a2^2*a3*b1^2 + (a1^2*a3 + a1*a3*b1 + 2*a3*b1^2)*b2^2 + (a1^2*a2*a3 + 2*a1*a2*a3*b1 + a2*a3*b1^2)*b2)*b3 + 2*(a1*a2^2*a3^2 + a2^2*a3^2*b1 + a1*a2*a3^2*b2 + (a1*a3^2 + 2*a3^2*b1)*b2^2 + (2*a1*a2^2 + a2^2*b1 + a2*b1*b2 + (a1 + b1)*b2^2)*b3^2 - (a1*a2^2*a3 + a3*b1*b2^2 + (a1*a2*a3 + a2*a3*b1)*b2)*b3)*c1 + 2*(3*a1^2*a2*a3^2 + 3*a2*a3^2*b1^2 + 3*(a1^2 + b1^2)*b2*b3^2 + (3*a2*a3^2 + a3^2*b2 + (a2 + 3*b2)*b3^2 + 2*(a2*a3 + a3*b2)*b3)*c1^2 + 3*(a1^2*a2*a3 + a2*a3*b1^2 + (a1^2*a3 + a3*b1^2)*b2)*b3 + (3*a1*a2*a3^2 + (4*a1*a2 + a2*b1 + 3*b1*b2)*b3^2 + (a1*a3^2 + 4*a3^2*b1)*b2 - (a1*a2*a3 + a2*a3*b1 + (a1*a3 + a3*b1)*b2)*b3)*c1)*c2)*c3^2 + 2*(a2^2*a3^2*b1^2 + (a1^2*a3^2 - 2*a1*a3^2*b1 - 2*a3^2*b1^2)*b2^2 - (2*a1^2*a2^2 + 2*a1*a2^2*b1 - a2^2*b1^2 - a1^2*b2^2 - 2*(a1^2*a2 - 2*a1*a2*b1)*b2)*b3^2 + (a2^2*a3^2 + a3^2*b2^2 + (a2^2 + b2^2)*b3^2 - 2*(a2^2*a3 + a3*b2^2)*b3)*c1^2 + (a1^2*a3^2 - 2*a1*a3^2*b1 + a3^2*b1^2 + (a1^2 - 2*a1*b1 + b1^2)*b3^2 - 2*(a3^2 - 2*a3*b3 + b3^2)*c1^2 + 4*(a1^2*a3 + a3*b1^2)*b3 - 2*(a1*a3^2 + a3^2*b1 + (a1 + b1)*b3^2)*c1)*c2^2 - (2*a1^2*a2^2 + 2*a1*a2^2*b1 - a2^2*b1^2 - (a1^2 - 2*a1*b1 - 2*b1^2)*b2^2 - (a2^2 + 6*a2*b2 + b2^2)*c1^2 - (a1^2 - 2*a1*b1 + b1^2)*c2^2 - 6*(a1^2*a2 - a1*a2*b1 + a2*b1^2)*b2 + 2*(a1*a2^2 + a2^2*b1 + (a1 + b1)*b2^2)*c1 - 2*(a1^2*a2 + a1*a2*b1 + (a1*b1 + b1^2)*b2 - 2*(a1*a2 + b1*b2)*c1)*c2)*c3^2 - 2*(2*a1*a2*a3^2*b1 - a2*a3^2*b1^2)*b2 + 2*(a1*a2^2*a3*b1 - a2^2*a3*b1^2 - (a1^2*a3 - a1*a3*b1)*b2^2 + (a1^2*a2*a3 + 2*a1*a2*a3*b1 + a2*a3*b1^2)*b2)*b3 - 2*(a2^2*a3^2*b1 - a2*a3^2*b1*b2 + (a1*a3^2 + a3^2*b1)*b2^2 + (a1*a2^2 + a2^2*b1 - a1*a2*b2 + a1*b2^2)*b3^2 - (a1*a2^2*a3 + a3*b1*b2^2 + (a1*a2*a3 + a2*a3*b1)*b2)*b3)*c1 + 2*(3*(a1^2*a2 + a2*b1^2)*b3^2 + (a2*a3^2 + 3*a3^2*b2 + (3*a2 + b2)*b3^2 - 2*(a2*a3 + a3*b2)*b3)*c1^2 + 3*(a1^2*a3^2 + a3^2*b1^2)*b2 - 3*(a1^2*a2*a3 + a2*a3*b1^2 + (a1^2*a3 + a3*b1^2)*b2)*b3 - (2*a1*a2*a3^2 - a2*a3^2*b1 + 3*a3^2*b1*b2 + (3*a1*a2 - (a1 - 2*b1)*b2)*b3^2 - (a1*a2*a3 + a2*a3*b1 + (a1*a3 + a3*b1)*b2)*b3)*c1)*c2 + 2*(a1*a2^2*a3*b1 - a2^2*a3*b1^2 + 2*(a1^2*a3 + a3*b1^2)*b2^2 - (a2^2*a3 + 3*a2*a3*b2 - 2*a3*b2^2 - (2*a2^2 - 3*a2*b2 - b2^2)*b3)*c1^2 - (a1^2*a3 + a3*b1^2 + (a1^2 + b1^2)*b3 - (a1*a3 + a3*b1 + (a1 + b1)*b3)*c1)*c2^2 - (3*a1^2*a2*a3 - a1*a2*a3*b1 + 2*a2*a3*b1^2)*b2 + (2*a1^2*a2^2 + 2*a2^2*b1^2 - (a1^2 - a1*b1)*b2^2 - (2*a1^2*a2 - a1*a2*b1 + 3*a2*b1^2)*b2)*b3 + (a1*a2^2*a3 + a2*a3*b1*b2 + (a1*a2*b2 + b1*b2^2)*b3)*c1 + (a1^2*a2*a3 + a1*a2*a3*b1 + (a2*a3 - 3*a3*b2 - (3*a2 - b2)*b3)*c1^2 - (3*a1^2*a3 - a1*a3*b1 + 2*a3*b1^2)*b2 - (2*a1^2*a2 - a1*a2*b1 + 3*a2*b1^2 - (a1*b1 + b1^2)*b2)*b3 + (2*a1*a2*a3 + a2*a3*b1 + a3*b1*b2 + (a1*a2 + (a1 + 2*b1)*b2)*b3)*c1)*c2)*c3)*cos3^2 - 2*(3*a1*a2*a3^4*b1 - 2*a2*a3^4*b1^2)*b2 + 4*(a1*a2^2*a3^3*b1 - a2^2*a3^3*b1^2 + (a1^2*a3^3 + a1*a3^3*b1 + 2*a3^3*b1^2)*b2^2 + (a1^2*a2*a3^3 + 2*a1*a2*a3^3*b1 + a2*a3^3*b1^2)*b2)*b3 - 2*(a2^2*a3^4*b1 + (2*a1*a2^2 + a2^2*b1 + a1*b2^2 - (a1*a2 - a2*b1)*b2)*b3^4 - 2*(a1*a2^2*a3 + a3*b1*b2^2 + (a1*a2*a3 + a2*a3*b1)*b2)*b3^3 + (a1*a3^4 + 2*a3^4*b1)*b2^2 + 2*(a1*a2^2*a3^2 + a2^2*a3^2*b1 + (a1*a3^2 + a3^2*b1)*b2^2)*b3^2 + (a1*a2*a3^4 - a2*a3^4*b1)*b2 - 2*(a1*a2^2*a3^3 + a3^3*b1*b2^2 + (a1*a2*a3^3 + a2*a3^3*b1)*b2)*b3)*c1 - 2*(a1*a2*a3^4*b1 - a2*a3^4*b1^2 + (2*a1^2*a2 + a1*a2*b1 + a2*b1^2 - (a1^2 - a1*b1)*b2)*b3^4 - 2*(a1^2*a2*a3 + a2*a3*b1^2 + (a1^2*a3 + a3*b1^2)*b2)*b3^3 + 2*(a1^2*a2*a3^2 + a1*a2*a3^2*b1 + (a1*a3^2*b1 + a3^2*b1^2)*b2)*b3^2 - 2*(a2*a3^4 - a3^4*b2 - (a2 - b2)*b3^4 + 2*(a2*a3 + a3*b2)*b3^3 + 2*(a2*a3^3 + a3^3*b2)*b3)*c1^2 + (a1^2*a3^4 + a1*a3^4*b1 + 2*a3^4*b1^2)*b2 - 2*(a1^2*a2*a3^3 + a2*a3^3*b1^2 + (a1^2*a3^3 + a3^3*b1^2)*b2)*b3 + (3*a1*a2*a3^4 - a2*a3^4*b1 + (5*a1*a2 + a2*b1 - (a1 - 3*b1)*b2)*b3^4 - 2*(a1*a2*a3 + a2*a3*b1 + (a1*a3 + a3*b1)*b2)*b3^3 + 8*(a1*a2*a3^2 + a3^2*b1*b2)*b3^2 + (a1*a3^4 + 5*a3^4*b1)*b2 - 2*(a1*a2*a3^3 + a2*a3^3*b1 + (a1*a3^3 + a3^3*b1)*b2)*b3)*c1)*c2 + 4*(a1*a2^2*a3^3*b1 - a2^2*a3^3*b1^2 - ((a1^2 - a1*b1)*b2^2 - (2*a1^2*a2 + a1*a2*b1 + a2*b1^2)*b2)*b3^3 + (2*a1^2*a2^2*a3 + a1*a2^2*a3*b1 + a2^2*a3*b1^2 - 2*(a1^2*a3 + a3*b1^2)*b2^2 - (3*a1^2*a2*a3 - a1*a2*a3*b1 + 2*a2*a3*b1^2)*b2)*b3^2 - (a2^2*a3^3 - a2*a3^3*b2 - (a2*b2 - b2^2)*b3^3 - (a2^2*a3 - 3*a2*a3*b2 - 2*a3*b2^2)*b3^2 + (2*a2^2*a3^2 + 3*a2*a3^2*b2 - a3^2*b2^2)*b3)*c1^2 + (a1^2*a3^3 + a3^3*b1^2 + (a1^2 + b1^2)*b3^3 + (a1^2*a3 + a3*b1^2)*b3^2 + 2*(a3^3 + a3^2*b3 + a3*b3^2 + b3^3)*c1^2 + (a1^2*a3^2 + a3^2*b1^2)*b3 + (a1*a3^3 + a3^3*b1 + (a1 + b1)*b3^3 + (a1*a3 + a3*b1)*b3^2 + (a1*a3^2 + a3^2*b1)*b3)*c1)*c2^2 + (a1^2*a2*a3^3 + a1*a2*a3^3*b1 + 2*a2*a3^3*b1^2)*b2 - (2*a1^2*a2^2*a3^2 + 2*a2^2*a3^2*b1^2 - (a1^2*a3^2 + a1*a3^2*b1 + 2*a3^2*b1^2)*b2^2 + (2*a1^2*a2*a3^2 - a1*a2*a3^2*b1 + 3*a2*a3^2*b1^2)*b2)*b3 + (a1*a2^2*a3^3 + a2*a3^3*b1*b2 + (a1*a2*b2 + b1*b2^2)*b3^3 + (a1*a2^2*a3 + a2*a3*b1*b2)*b3^2 + (a1*a2*a3^2*b2 + a3^2*b1*b2^2)*b3)*c1 + (a1^2*a2*a3^3 + a1*a2*a3^3*b1 + (2*a1^2*a2 + a1*a2*b1 + a2*b1^2 + (a1*b1 + b1^2)*b2)*b3^3 + (a1^2*a2*a3 + a1*a2*a3*b1 - (3*a1^2*a3 - a1*a3*b1 + 2*a3*b1^2)*b2)*b3^2 + (a2*a3^3 + a3^3*b2 + (a2 + b2)*b3^3 + (a2*a3 - 3*a3*b2)*b3^2 - (3*a2*a3^2 - a3^2*b2)*b3)*c1^2 + (a1^2*a3^3 + a1*a3^3*b1 + 2*a3^3*b1^2)*b2 - (2*a1^2*a2*a3^2 - a1*a2*a3^2*b1 + 3*a2*a3^2*b1^2 - (a1*a3^2*b1 + a3^2*b1^2)*b2)*b3 + (2*a1*a2*a3^3 + a2*a3^3*b1 + a3^3*b1*b2 + (a1*a2 + (a1 + 2*b1)*b2)*b3^3 + (2*a1*a2*a3 + a2*a3*b1 + a3*b1*b2)*b3^2 + (a1*a2*a3^2 + (a1*a3^2 + 2*a3^2*b1)*b2)*b3)*c1)*c2)*c3 + 4*((2*a1^2*a2^2 + a1*a2^2*b1 + a2^2*b1^2 - (a1^2*a2 - a1*a2*b1)*b2)*b3^3 - (2*a1^2*a2^2 + a1*a2^2*b1 + a2^2*b1^2 - (a1^2 + a1*b1 + 2*b1^2)*b2^2 + (a2^2 - b2^2)*c1^2 - (a1^2*a2 - a2*b1^2)*b2 + (a1*a2^2 - b1*b2^2 - (a1*a2 - a2*b1)*b2)*c1 - (a1^2*a2 + a2*b1^2 - (a1^2 + b1^2)*b2 - (a1*a2 + a2*b1 - (a1 + b1)*b2)*c1)*c2)*c3^3 - (a1^2*a3^3 + a1*a3^3*b1 + 2*a3^3*b1^2)*b2^2 - (2*a1^2*a2^2*a3 + 2*a2^2*a3*b1^2 - (a1^2*a3 - a1*a3*b1)*b2^2 + (4*a1^2*a2*a3 + a1*a2*a3*b1 + 3*a2*a3*b1^2)*b2)*b3^2 + (a2*a3^3*b2 - a3^3*b2^2 + (a2^2 - a2*b2)*b3^3 - (2*a2^2*a3 + 3*a2*a3*b2 - a3*b2^2)*b3^2 - (a2^2*a3^2 - 3*a2*a3^2*b2 - 2*a3^2*b2^2)*b3)*c1^2 + (a1^2*a3^3 + a3^3*b1^2 - (a1^2 + b1^2)*b3^3 + (a1^2*a3 + a3*b1^2)*b3^2 + 2*(a3^3 - a3^2*b3 + a3*b3^2 - b3^3)*c1^2 - (a1^2*a3^2 + a3^2*b1^2)*b3 + (a1*a3^3 + a3^3*b1 - (a1 + b1)*b3^3 + (a1*a3 + a3*b1)*b3^2 - (a1*a3^2 + a3^2*b1)*b3)*c1)*c2^2 + (2*a1^2*a2^2*a3 + 2*a2^2*a3*b1^2 - (a1^2*a3 + a1*a3*b1 + 2*a3*b1^2)*b2^2 + (2*a2^2*a3 - 3*a2*a3*b2 - a3*b2^2 + (a2^2 + 3*a2*b2 - 2*b2^2)*b3)*c1^2 - (a1^2*a3 + a3*b1^2 - (a1^2 + b1^2)*b3 - (a1*a3 + a3*b1 - (a1 + b1)*b3)*c1)*c2^2 - (4*a1^2*a2*a3 + a1*a2*a3*b1 + 3*a2*a3*b1^2)*b2 + (2*a1^2*a2^2 + a1*a2^2*b1 + a2^2*b1^2 - 2*(a1^2 + b1^2)*b2^2 + (3*a1^2*a2 + a1*a2*b1 + 4*a2*b1^2)*b2)*b3 - (a1*a2*a3*b2 + a3*b1*b2^2 - (a1*a2^2 + a2*b1*b2)*b3)*c1 + (4*a1^2*a2*a3 + a1*a2*a3*b1 + 3*a2*a3*b1^2 + (3*a2*a3 - a3*b2 + (a2 - 3*b2)*b3)*c1^2 + (a1*a3*b1 + a3*b1^2)*b2 - (a1^2*a2 + a1*a2*b1 + (3*a1^2 + a1*b1 + 4*b1^2)*b2)*b3 + (a1*a2*a3 - a1*a3*b2 + (a2*b1 - b1*b2)*b3)*c1)*c2)*c3^2 - (a1*a2*a3^3*b1 - a2*a3^3*b1^2)*b2 + (a1*a2^2*a3^2*b1 - a2^2*a3^2*b1^2 + 2*(a1^2*a3^2 + a3^2*b1^2)*b2^2 + (3*a1^2*a2*a3^2 + a1*a2*a3^2*b1 + 4*a2*a3^2*b1^2)*b2)*b3 - (a1*a2*a3^3*b2 + a3^3*b1*b2^2 - (a1*a2^2 + a2*b1*b2)*b3^3 + (a1*a2*a3*b2 + a3*b1*b2^2)*b3^2 - (a1*a2^2*a3^2 + a2*a3^2*b1*b2)*b3)*c1 + (a1*a2*a3^3*b1 - a2*a3^3*b1^2 - (a1^2*a2 + a1*a2*b1 - (a1^2 - a1*b1)*b2)*b3^3 + (4*a1^2*a2*a3 + a1*a2*a3*b1 + 3*a2*a3*b1^2 + (a1*a3*b1 + a3*b1^2)*b2)*b3^2 - (a2*a3^3 + a3^3*b2 - (a2 + b2)*b3^3 - (3*a2*a3 - a3*b2)*b3^2 - (a2*a3^2 - 3*a3^2*b2)*b3)*c1^2 + (a1*a3^3*b1 + a3^3*b1^2)*b2 - (a1^2*a2*a3^2 + a1*a2*a3^2*b1 + (3*a1^2*a3^2 + a1*a3^2*b1 + 4*a3^2*b1^2)*b2)*b3 + (a1*a2*a3^3 - a1*a3^3*b2 + (a2*b1 - b1*b2)*b3^3 + (a1*a2*a3 - a1*a3*b2)*b3^2 + (a2*a3^2*b1 - a3^2*b1*b2)*b3)*c1)*c2 - (a1*a2^2*a3^2*b1 - a2^2*a3^2*b1^2 - (a1^2*a3^2 + a1*a3^2*b1 + 2*a3^2*b1^2)*b2^2 + (2*a1^2*a2^2 + a1*a2^2*b1 + a2^2*b1^2 + (a1^2 - a1*b1)*b2^2 - (a1^2*a2 - a2*b1^2)*b2)*b3^2 - (a2^2*a3^2 + a3^2*b2^2 - (a2^2 + b2^2)*b3^2)*c1^2 + 2*(a1^2*a3^2 + a3^2*b1^2 - (a1^2 + b1^2)*b3^2 + (a3^2 - b3^2)*c1^2)*c2^2 - (a1^2*a2*a3^2 - a2*a3^2*b1^2)*b2 + (a1*a2^2*a3^2 - a3^2*b1*b2^2 + (a1*a2^2 - b1*b2^2 - (a1*a2 - a2*b1)*b2)*b3^2 - (a1*a2*a3^2 - a2*a3^2*b1)*b2)*c1 + (3*a1^2*a2*a3^2 + 3*a2*a3^2*b1^2 + 3*(a1^2*a2 + a2*b1^2 - (a1^2 + b1^2)*b2)*b3^2 + 4*(a2*a3^2 - a3^2*b2 + (a2 - b2)*b3^2)*c1^2 - 3*(a1^2*a3^2 + a3^2*b1^2)*b2 + (a1*a2*a3^2 + a2*a3^2*b1 + (a1*a2 + a2*b1 - (a1 + b1)*b2)*b3^2 - (a1*a3^2 + a3^2*b1)*b2)*c1)*c2)*c3)*cos3))/(a3^2*b1 + a1*b3^2 + (a1 + b1)*c3^2 - (a1*a3 + a3*b1)*b3 + (a3^2 + b3^2)*c1 - (a1*a3 + b1*b3 + (a3 + b3)*c1)*c3 + (a3*b1 - a1*b3 - (a3 - b3)*c1 + (a1 - b1)*c3)*cos3), cos2 == 1/2*(a2*a3^2*b1 - a1*a3^2*b2 + (a2*b1 - a1*b2)*b3^2 - (a2*b1 - a1*b2 + (a2 - b2)*c1 - (a1 - b1)*c2)*c3^2 - (a2*b1 - a1*b2 - (a2 - b2)*c1 + (a1 - b1)*c2)*cos3^2 - (a2*a3^2 + a3^2*b2 - (a2 + b2)*b3^2 - 2*(a2*a3 - a3*b2)*b3)*c1 + (a1*a3^2 + a3^2*b1 - (a1 + b1)*b3^2 - 2*(a1*a3 - a3*b1)*b3)*c2 - 2*(a2*a3*b1 - a1*a3*b2 + (a2*b1 - a1*b2)*b3 + (a3*b2 - a2*b3)*c1 - (a3*b1 - a1*b3)*c2)*c3 - 2*(a2*a3*b1 - a1*a3*b2 - (a2*b1 - a1*b2)*b3 + (a2*a3 + b2*b3)*c1 - (a1*a3 + b1*b3)*c2 - ((a2 + b2)*c1 - (a1 + b1)*c2)*c3)*cos3 - sqrt(a2^2*a3^4*b1^2 - (4*a1^2*a2^2 + 4*a1*a2^2*b1 - a2^2*b1^2 - a1^2*b2^2 - 2*(2*a1^2*a2 - 3*a1*a2*b1)*b2)*b3^4 - (4*a1^2*a2^2 + 4*a1*a2^2*b1 - a2^2*b1^2 - (a1^2 - 4*a1*b1 - 4*b1^2)*b2^2 - (a2^2 - 2*a2*b2 + b2^2)*c1^2 - (a1^2 - 2*a1*b1 + b1^2)*c2^2 + 2*(2*a1^2*a2 + 5*a1*a2*b1 + 2*a2*b1^2)*b2 + 2*(2*a1*a2^2 + a2^2*b1 + (a1 + 2*b1)*b2^2 + (a1*a2 + a2*b1)*b2)*c1 - 2*(2*a1^2*a2 + a1*a2*b1 + a2*b1^2 + (a1^2 + a1*b1 + 2*b1^2)*b2 - (3*a1*a2 + a2*b1 + (a1 + 3*b1)*b2)*c1)*c2)*c3^4 + (a2^2*b1^2 - 2*a1*a2*b1*b2 + a1^2*b2^2 + (a2^2 - 2*a2*b2 + b2^2)*c1^2 + (a1^2 - 2*a1*b1 + b1^2)*c2^2 - 2*(a2^2*b1 + a1*b2^2 - (a1*a2 + a2*b1)*b2)*c1 + 2*(a1*a2*b1 - a2*b1^2 - (a1^2 - a1*b1)*b2 - (a1*a2 - a2*b1 - (a1 - b1)*b2)*c1)*c2)*cos3^4 + 4*(2*a1^2*a2^2*a3 + a1*a2^2*a3*b1 + a2^2*a3*b1^2 - (a1^2*a3 - a1*a3*b1)*b2^2 + (a1^2*a2*a3 + 2*a1*a2*a3*b1 + a2*a3*b1^2)*b2)*b3^3 + 4*(2*a1^2*a2^2*a3 + a1*a2^2*a3*b1 + a2^2*a3*b1^2 + (a2^2*a3 + a2*a3*b2 + (a2*b2 + b2^2)*b3)*c1^2 - (a1^2*a3 + a3*b1^2 + (a1^2 + b1^2)*b3 - (a1*a3 + a3*b1 + (a1 + b1)*b3)*c1)*c2^2 + (a1^2*a2*a3 + a1*a2*a3*b1 + 2*a2*a3*b1^2)*b2 + ((a1^2 + a1*b1 + 2*b1^2)*b2^2 + (2*a1^2*a2 + a1*a2*b1 + a2*b1^2)*b2)*b3 + (a1*a2^2*a3 + a2*a3*b1*b2 + (a1*a2*b2 + b1*b2^2)*b3)*c1 + (a1^2*a2*a3 + a1*a2*a3*b1 + (a2*a3 + a3*b2 + (a2 + b2)*b3)*c1^2 + (a1^2*a3 + a1*a3*b1 + 2*a3*b1^2)*b2 + (2*a1^2*a2 + a1*a2*b1 + a2*b1^2 + (a1*b1 + b1^2)*b2)*b3 + (2*a1*a2*a3 + a2*a3*b1 + a3*b1*b2 + (a1*a2 + (a1 + 2*b1)*b2)*b3)*c1)*c2)*c3^3 + 4*((a1^2*a3 - a1*a3*b1)*b2^2 + (a2*a3*b2 + a3*b2^2 - (a2^2 + a2*b2)*b3)*c1^2 - (a1^2*a3 + a3*b1^2 - (a1^2 + b1^2)*b3 - (a1*a3 + a3*b1 - (a1 + b1)*b3)*c1)*c2^2 - (a1*a2*a3*b1 - a2*a3*b1^2)*b2 + (a1*a2^2*b1 - a2^2*b1^2 - (a1^2*a2 - a1*a2*b1)*b2)*b3 - (a1*a2*a3*b2 + a3*b1*b2^2 - (a1*a2^2 + a2*b1*b2)*b3)*c1 + (a1*a2*a3*b1 - a2*a3*b1^2 - (a2*a3 + a3*b2 - (a2 + b2)*b3)*c1^2 + (a1*a3*b1 + a3*b1^2)*b2 - (a1^2*a2 + a1*a2*b1 - (a1^2 - a1*b1)*b2)*b3 + (a1*a2*a3 - a1*a3*b2 + (a2*b1 - b1*b2)*b3)*c1)*c2 - (a1*a2^2*b1 - a2^2*b1^2 + (a1^2 - a1*b1)*b2^2 - (a2^2 - b2^2)*c1^2 - (a1^2*a2 - a2*b1^2)*b2 + (a1*a2^2 - b1*b2^2 - (a1*a2 - a2*b1)*b2)*c1 - (a1^2*a2 + a2*b1^2 - (a1^2 + b1^2)*b2 - (a1*a2 + a2*b1 - (a1 + b1)*b2)*c1)*c2)*c3)*cos3^3 + (a1^2*a3^4 - 4*a1*a3^4*b1 - 4*a3^4*b1^2)*b2^2 - 2*(2*a1^2*a2^2*a3^2 + 2*a1*a2^2*a3^2*b1 - a2^2*a3^2*b1^2 - (a1^2*a3^2 - 2*a1*a3^2*b1 - 2*a3^2*b1^2)*b2^2 + 6*(a1^2*a2*a3^2 + a1*a2*a3^2*b1 + a2*a3^2*b1^2)*b2)*b3^2 + (a2^2*a3^4 + 2*a2*a3^4*b2 + a3^4*b2^2 + (a2^2 + 2*a2*b2 + b2^2)*b3^4 + 4*(a2^2*a3 - a3*b2^2)*b3^3 + 2*(a2^2*a3^2 - 6*a2*a3^2*b2 + a3^2*b2^2)*b3^2 - 4*(a2^2*a3^3 - a3^3*b2^2)*b3)*c1^2 + (a1^2*a3^4 - 2*a1*a3^4*b1 + a3^4*b1^2 + (a1^2 - 2*a1*b1 + b1^2)*b3^4 + 2*(a1^2*a3^2 - 2*a1*a3^2*b1 + a3^2*b1^2)*b3^2 - 4*(a3^4 + 2*a3^2*b3^2 + b3^4)*c1^2 - 4*(a1*a3^4 + a3^4*b1 + (a1 + b1)*b3^4 + 2*(a1*a3^2 + a3^2*b1)*b3^2)*c1)*c2^2 - 2*(2*a1^2*a2^2*a3^2 + 2*a1*a2^2*a3^2*b1 - a2^2*a3^2*b1^2 - (a1^2*a3^2 - 4*a1*a3^2*b1 - 4*a3^2*b1^2)*b2^2 + (4*a1^2*a2^2 + 4*a1*a2^2*b1 - a2^2*b1^2 - (a1^2 - 2*a1*b1 - 2*b1^2)*b2^2 + 2*(4*a1*a2*b1 + a2*b1^2)*b2)*b3^2 - (a2^2*a3^2 + a3^2*b2^2 + (a2^2 + b2^2)*b3^2 + 2*(a2^2*a3 + a3*b2^2)*b3)*c1^2 - (a1^2*a3^2 - 2*a1*a3^2*b1 + a3^2*b1^2 + (a1^2 - 2*a1*b1 + b1^2)*b3^2 - 2*(a3^2 + 2*a3*b3 + b3^2)*c1^2 - 4*(a1^2*a3 + a3*b1^2)*b3 - 2*(a1*a3^2 + a3^2*b1 + (a1 + b1)*b3^2)*c1)*c2^2 + 2*(a1^2*a2*a3^2 + 4*a1*a2*a3^2*b1)*b2 - 2*(2*a1^2*a2^2*a3 + a1*a2^2*a3*b1 + a2^2*a3*b1^2 + (a1^2*a3 + a1*a3*b1 + 2*a3*b1^2)*b2^2 + (a1^2*a2*a3 + 2*a1*a2*a3*b1 + a2*a3*b1^2)*b2)*b3 + 2*(a1*a2^2*a3^2 + a2^2*a3^2*b1 + a1*a2*a3^2*b2 + (a1*a3^2 + 2*a3^2*b1)*b2^2 + (2*a1*a2^2 + a2^2*b1 + a2*b1*b2 + (a1 + b1)*b2^2)*b3^2 - (a1*a2^2*a3 + a3*b1*b2^2 + (a1*a2*a3 + a2*a3*b1)*b2)*b3)*c1 + 2*(3*a1^2*a2*a3^2 + 3*a2*a3^2*b1^2 + 3*(a1^2 + b1^2)*b2*b3^2 + (3*a2*a3^2 + a3^2*b2 + (a2 + 3*b2)*b3^2 + 2*(a2*a3 + a3*b2)*b3)*c1^2 + 3*(a1^2*a2*a3 + a2*a3*b1^2 + (a1^2*a3 + a3*b1^2)*b2)*b3 + (3*a1*a2*a3^2 + (4*a1*a2 + a2*b1 + 3*b1*b2)*b3^2 + (a1*a3^2 + 4*a3^2*b1)*b2 - (a1*a2*a3 + a2*a3*b1 + (a1*a3 + a3*b1)*b2)*b3)*c1)*c2)*c3^2 + 2*(a2^2*a3^2*b1^2 + (a1^2*a3^2 - 2*a1*a3^2*b1 - 2*a3^2*b1^2)*b2^2 - (2*a1^2*a2^2 + 2*a1*a2^2*b1 - a2^2*b1^2 - a1^2*b2^2 - 2*(a1^2*a2 - 2*a1*a2*b1)*b2)*b3^2 + (a2^2*a3^2 + a3^2*b2^2 + (a2^2 + b2^2)*b3^2 - 2*(a2^2*a3 + a3*b2^2)*b3)*c1^2 + (a1^2*a3^2 - 2*a1*a3^2*b1 + a3^2*b1^2 + (a1^2 - 2*a1*b1 + b1^2)*b3^2 - 2*(a3^2 - 2*a3*b3 + b3^2)*c1^2 + 4*(a1^2*a3 + a3*b1^2)*b3 - 2*(a1*a3^2 + a3^2*b1 + (a1 + b1)*b3^2)*c1)*c2^2 - (2*a1^2*a2^2 + 2*a1*a2^2*b1 - a2^2*b1^2 - (a1^2 - 2*a1*b1 - 2*b1^2)*b2^2 - (a2^2 + 6*a2*b2 + b2^2)*c1^2 - (a1^2 - 2*a1*b1 + b1^2)*c2^2 - 6*(a1^2*a2 - a1*a2*b1 + a2*b1^2)*b2 + 2*(a1*a2^2 + a2^2*b1 + (a1 + b1)*b2^2)*c1 - 2*(a1^2*a2 + a1*a2*b1 + (a1*b1 + b1^2)*b2 - 2*(a1*a2 + b1*b2)*c1)*c2)*c3^2 - 2*(2*a1*a2*a3^2*b1 - a2*a3^2*b1^2)*b2 + 2*(a1*a2^2*a3*b1 - a2^2*a3*b1^2 - (a1^2*a3 - a1*a3*b1)*b2^2 + (a1^2*a2*a3 + 2*a1*a2*a3*b1 + a2*a3*b1^2)*b2)*b3 - 2*(a2^2*a3^2*b1 - a2*a3^2*b1*b2 + (a1*a3^2 + a3^2*b1)*b2^2 + (a1*a2^2 + a2^2*b1 - a1*a2*b2 + a1*b2^2)*b3^2 - (a1*a2^2*a3 + a3*b1*b2^2 + (a1*a2*a3 + a2*a3*b1)*b2)*b3)*c1 + 2*(3*(a1^2*a2 + a2*b1^2)*b3^2 + (a2*a3^2 + 3*a3^2*b2 + (3*a2 + b2)*b3^2 - 2*(a2*a3 + a3*b2)*b3)*c1^2 + 3*(a1^2*a3^2 + a3^2*b1^2)*b2 - 3*(a1^2*a2*a3 + a2*a3*b1^2 + (a1^2*a3 + a3*b1^2)*b2)*b3 - (2*a1*a2*a3^2 - a2*a3^2*b1 + 3*a3^2*b1*b2 + (3*a1*a2 - (a1 - 2*b1)*b2)*b3^2 - (a1*a2*a3 + a2*a3*b1 + (a1*a3 + a3*b1)*b2)*b3)*c1)*c2 + 2*(a1*a2^2*a3*b1 - a2^2*a3*b1^2 + 2*(a1^2*a3 + a3*b1^2)*b2^2 - (a2^2*a3 + 3*a2*a3*b2 - 2*a3*b2^2 - (2*a2^2 - 3*a2*b2 - b2^2)*b3)*c1^2 - (a1^2*a3 + a3*b1^2 + (a1^2 + b1^2)*b3 - (a1*a3 + a3*b1 + (a1 + b1)*b3)*c1)*c2^2 - (3*a1^2*a2*a3 - a1*a2*a3*b1 + 2*a2*a3*b1^2)*b2 + (2*a1^2*a2^2 + 2*a2^2*b1^2 - (a1^2 - a1*b1)*b2^2 - (2*a1^2*a2 - a1*a2*b1 + 3*a2*b1^2)*b2)*b3 + (a1*a2^2*a3 + a2*a3*b1*b2 + (a1*a2*b2 + b1*b2^2)*b3)*c1 + (a1^2*a2*a3 + a1*a2*a3*b1 + (a2*a3 - 3*a3*b2 - (3*a2 - b2)*b3)*c1^2 - (3*a1^2*a3 - a1*a3*b1 + 2*a3*b1^2)*b2 - (2*a1^2*a2 - a1*a2*b1 + 3*a2*b1^2 - (a1*b1 + b1^2)*b2)*b3 + (2*a1*a2*a3 + a2*a3*b1 + a3*b1*b2 + (a1*a2 + (a1 + 2*b1)*b2)*b3)*c1)*c2)*c3)*cos3^2 - 2*(3*a1*a2*a3^4*b1 - 2*a2*a3^4*b1^2)*b2 + 4*(a1*a2^2*a3^3*b1 - a2^2*a3^3*b1^2 + (a1^2*a3^3 + a1*a3^3*b1 + 2*a3^3*b1^2)*b2^2 + (a1^2*a2*a3^3 + 2*a1*a2*a3^3*b1 + a2*a3^3*b1^2)*b2)*b3 - 2*(a2^2*a3^4*b1 + (2*a1*a2^2 + a2^2*b1 + a1*b2^2 - (a1*a2 - a2*b1)*b2)*b3^4 - 2*(a1*a2^2*a3 + a3*b1*b2^2 + (a1*a2*a3 + a2*a3*b1)*b2)*b3^3 + (a1*a3^4 + 2*a3^4*b1)*b2^2 + 2*(a1*a2^2*a3^2 + a2^2*a3^2*b1 + (a1*a3^2 + a3^2*b1)*b2^2)*b3^2 + (a1*a2*a3^4 - a2*a3^4*b1)*b2 - 2*(a1*a2^2*a3^3 + a3^3*b1*b2^2 + (a1*a2*a3^3 + a2*a3^3*b1)*b2)*b3)*c1 - 2*(a1*a2*a3^4*b1 - a2*a3^4*b1^2 + (2*a1^2*a2 + a1*a2*b1 + a2*b1^2 - (a1^2 - a1*b1)*b2)*b3^4 - 2*(a1^2*a2*a3 + a2*a3*b1^2 + (a1^2*a3 + a3*b1^2)*b2)*b3^3 + 2*(a1^2*a2*a3^2 + a1*a2*a3^2*b1 + (a1*a3^2*b1 + a3^2*b1^2)*b2)*b3^2 - 2*(a2*a3^4 - a3^4*b2 - (a2 - b2)*b3^4 + 2*(a2*a3 + a3*b2)*b3^3 + 2*(a2*a3^3 + a3^3*b2)*b3)*c1^2 + (a1^2*a3^4 + a1*a3^4*b1 + 2*a3^4*b1^2)*b2 - 2*(a1^2*a2*a3^3 + a2*a3^3*b1^2 + (a1^2*a3^3 + a3^3*b1^2)*b2)*b3 + (3*a1*a2*a3^4 - a2*a3^4*b1 + (5*a1*a2 + a2*b1 - (a1 - 3*b1)*b2)*b3^4 - 2*(a1*a2*a3 + a2*a3*b1 + (a1*a3 + a3*b1)*b2)*b3^3 + 8*(a1*a2*a3^2 + a3^2*b1*b2)*b3^2 + (a1*a3^4 + 5*a3^4*b1)*b2 - 2*(a1*a2*a3^3 + a2*a3^3*b1 + (a1*a3^3 + a3^3*b1)*b2)*b3)*c1)*c2 + 4*(a1*a2^2*a3^3*b1 - a2^2*a3^3*b1^2 - ((a1^2 - a1*b1)*b2^2 - (2*a1^2*a2 + a1*a2*b1 + a2*b1^2)*b2)*b3^3 + (2*a1^2*a2^2*a3 + a1*a2^2*a3*b1 + a2^2*a3*b1^2 - 2*(a1^2*a3 + a3*b1^2)*b2^2 - (3*a1^2*a2*a3 - a1*a2*a3*b1 + 2*a2*a3*b1^2)*b2)*b3^2 - (a2^2*a3^3 - a2*a3^3*b2 - (a2*b2 - b2^2)*b3^3 - (a2^2*a3 - 3*a2*a3*b2 - 2*a3*b2^2)*b3^2 + (2*a2^2*a3^2 + 3*a2*a3^2*b2 - a3^2*b2^2)*b3)*c1^2 + (a1^2*a3^3 + a3^3*b1^2 + (a1^2 + b1^2)*b3^3 + (a1^2*a3 + a3*b1^2)*b3^2 + 2*(a3^3 + a3^2*b3 + a3*b3^2 + b3^3)*c1^2 + (a1^2*a3^2 + a3^2*b1^2)*b3 + (a1*a3^3 + a3^3*b1 + (a1 + b1)*b3^3 + (a1*a3 + a3*b1)*b3^2 + (a1*a3^2 + a3^2*b1)*b3)*c1)*c2^2 + (a1^2*a2*a3^3 + a1*a2*a3^3*b1 + 2*a2*a3^3*b1^2)*b2 - (2*a1^2*a2^2*a3^2 + 2*a2^2*a3^2*b1^2 - (a1^2*a3^2 + a1*a3^2*b1 + 2*a3^2*b1^2)*b2^2 + (2*a1^2*a2*a3^2 - a1*a2*a3^2*b1 + 3*a2*a3^2*b1^2)*b2)*b3 + (a1*a2^2*a3^3 + a2*a3^3*b1*b2 + (a1*a2*b2 + b1*b2^2)*b3^3 + (a1*a2^2*a3 + a2*a3*b1*b2)*b3^2 + (a1*a2*a3^2*b2 + a3^2*b1*b2^2)*b3)*c1 + (a1^2*a2*a3^3 + a1*a2*a3^3*b1 + (2*a1^2*a2 + a1*a2*b1 + a2*b1^2 + (a1*b1 + b1^2)*b2)*b3^3 + (a1^2*a2*a3 + a1*a2*a3*b1 - (3*a1^2*a3 - a1*a3*b1 + 2*a3*b1^2)*b2)*b3^2 + (a2*a3^3 + a3^3*b2 + (a2 + b2)*b3^3 + (a2*a3 - 3*a3*b2)*b3^2 - (3*a2*a3^2 - a3^2*b2)*b3)*c1^2 + (a1^2*a3^3 + a1*a3^3*b1 + 2*a3^3*b1^2)*b2 - (2*a1^2*a2*a3^2 - a1*a2*a3^2*b1 + 3*a2*a3^2*b1^2 - (a1*a3^2*b1 + a3^2*b1^2)*b2)*b3 + (2*a1*a2*a3^3 + a2*a3^3*b1 + a3^3*b1*b2 + (a1*a2 + (a1 + 2*b1)*b2)*b3^3 + (2*a1*a2*a3 + a2*a3*b1 + a3*b1*b2)*b3^2 + (a1*a2*a3^2 + (a1*a3^2 + 2*a3^2*b1)*b2)*b3)*c1)*c2)*c3 + 4*((2*a1^2*a2^2 + a1*a2^2*b1 + a2^2*b1^2 - (a1^2*a2 - a1*a2*b1)*b2)*b3^3 - (2*a1^2*a2^2 + a1*a2^2*b1 + a2^2*b1^2 - (a1^2 + a1*b1 + 2*b1^2)*b2^2 + (a2^2 - b2^2)*c1^2 - (a1^2*a2 - a2*b1^2)*b2 + (a1*a2^2 - b1*b2^2 - (a1*a2 - a2*b1)*b2)*c1 - (a1^2*a2 + a2*b1^2 - (a1^2 + b1^2)*b2 - (a1*a2 + a2*b1 - (a1 + b1)*b2)*c1)*c2)*c3^3 - (a1^2*a3^3 + a1*a3^3*b1 + 2*a3^3*b1^2)*b2^2 - (2*a1^2*a2^2*a3 + 2*a2^2*a3*b1^2 - (a1^2*a3 - a1*a3*b1)*b2^2 + (4*a1^2*a2*a3 + a1*a2*a3*b1 + 3*a2*a3*b1^2)*b2)*b3^2 + (a2*a3^3*b2 - a3^3*b2^2 + (a2^2 - a2*b2)*b3^3 - (2*a2^2*a3 + 3*a2*a3*b2 - a3*b2^2)*b3^2 - (a2^2*a3^2 - 3*a2*a3^2*b2 - 2*a3^2*b2^2)*b3)*c1^2 + (a1^2*a3^3 + a3^3*b1^2 - (a1^2 + b1^2)*b3^3 + (a1^2*a3 + a3*b1^2)*b3^2 + 2*(a3^3 - a3^2*b3 + a3*b3^2 - b3^3)*c1^2 - (a1^2*a3^2 + a3^2*b1^2)*b3 + (a1*a3^3 + a3^3*b1 - (a1 + b1)*b3^3 + (a1*a3 + a3*b1)*b3^2 - (a1*a3^2 + a3^2*b1)*b3)*c1)*c2^2 + (2*a1^2*a2^2*a3 + 2*a2^2*a3*b1^2 - (a1^2*a3 + a1*a3*b1 + 2*a3*b1^2)*b2^2 + (2*a2^2*a3 - 3*a2*a3*b2 - a3*b2^2 + (a2^2 + 3*a2*b2 - 2*b2^2)*b3)*c1^2 - (a1^2*a3 + a3*b1^2 - (a1^2 + b1^2)*b3 - (a1*a3 + a3*b1 - (a1 + b1)*b3)*c1)*c2^2 - (4*a1^2*a2*a3 + a1*a2*a3*b1 + 3*a2*a3*b1^2)*b2 + (2*a1^2*a2^2 + a1*a2^2*b1 + a2^2*b1^2 - 2*(a1^2 + b1^2)*b2^2 + (3*a1^2*a2 + a1*a2*b1 + 4*a2*b1^2)*b2)*b3 - (a1*a2*a3*b2 + a3*b1*b2^2 - (a1*a2^2 + a2*b1*b2)*b3)*c1 + (4*a1^2*a2*a3 + a1*a2*a3*b1 + 3*a2*a3*b1^2 + (3*a2*a3 - a3*b2 + (a2 - 3*b2)*b3)*c1^2 + (a1*a3*b1 + a3*b1^2)*b2 - (a1^2*a2 + a1*a2*b1 + (3*a1^2 + a1*b1 + 4*b1^2)*b2)*b3 + (a1*a2*a3 - a1*a3*b2 + (a2*b1 - b1*b2)*b3)*c1)*c2)*c3^2 - (a1*a2*a3^3*b1 - a2*a3^3*b1^2)*b2 + (a1*a2^2*a3^2*b1 - a2^2*a3^2*b1^2 + 2*(a1^2*a3^2 + a3^2*b1^2)*b2^2 + (3*a1^2*a2*a3^2 + a1*a2*a3^2*b1 + 4*a2*a3^2*b1^2)*b2)*b3 - (a1*a2*a3^3*b2 + a3^3*b1*b2^2 - (a1*a2^2 + a2*b1*b2)*b3^3 + (a1*a2*a3*b2 + a3*b1*b2^2)*b3^2 - (a1*a2^2*a3^2 + a2*a3^2*b1*b2)*b3)*c1 + (a1*a2*a3^3*b1 - a2*a3^3*b1^2 - (a1^2*a2 + a1*a2*b1 - (a1^2 - a1*b1)*b2)*b3^3 + (4*a1^2*a2*a3 + a1*a2*a3*b1 + 3*a2*a3*b1^2 + (a1*a3*b1 + a3*b1^2)*b2)*b3^2 - (a2*a3^3 + a3^3*b2 - (a2 + b2)*b3^3 - (3*a2*a3 - a3*b2)*b3^2 - (a2*a3^2 - 3*a3^2*b2)*b3)*c1^2 + (a1*a3^3*b1 + a3^3*b1^2)*b2 - (a1^2*a2*a3^2 + a1*a2*a3^2*b1 + (3*a1^2*a3^2 + a1*a3^2*b1 + 4*a3^2*b1^2)*b2)*b3 + (a1*a2*a3^3 - a1*a3^3*b2 + (a2*b1 - b1*b2)*b3^3 + (a1*a2*a3 - a1*a3*b2)*b3^2 + (a2*a3^2*b1 - a3^2*b1*b2)*b3)*c1)*c2 - (a1*a2^2*a3^2*b1 - a2^2*a3^2*b1^2 - (a1^2*a3^2 + a1*a3^2*b1 + 2*a3^2*b1^2)*b2^2 + (2*a1^2*a2^2 + a1*a2^2*b1 + a2^2*b1^2 + (a1^2 - a1*b1)*b2^2 - (a1^2*a2 - a2*b1^2)*b2)*b3^2 - (a2^2*a3^2 + a3^2*b2^2 - (a2^2 + b2^2)*b3^2)*c1^2 + 2*(a1^2*a3^2 + a3^2*b1^2 - (a1^2 + b1^2)*b3^2 + (a3^2 - b3^2)*c1^2)*c2^2 - (a1^2*a2*a3^2 - a2*a3^2*b1^2)*b2 + (a1*a2^2*a3^2 - a3^2*b1*b2^2 + (a1*a2^2 - b1*b2^2 - (a1*a2 - a2*b1)*b2)*b3^2 - (a1*a2*a3^2 - a2*a3^2*b1)*b2)*c1 + (3*a1^2*a2*a3^2 + 3*a2*a3^2*b1^2 + 3*(a1^2*a2 + a2*b1^2 - (a1^2 + b1^2)*b2)*b3^2 + 4*(a2*a3^2 - a3^2*b2 + (a2 - b2)*b3^2)*c1^2 - 3*(a1^2*a3^2 + a3^2*b1^2)*b2 + (a1*a2*a3^2 + a2*a3^2*b1 + (a1*a2 + a2*b1 - (a1 + b1)*b2)*b3^2 - (a1*a3^2 + a3^2*b1)*b2)*c1)*c2)*c3)*cos3))/(a3^2*b1 + a1*b3^2 + (a1 + b1)*c3^2 - (a1*a3 + a3*b1)*b3 + (a3^2 + b3^2)*c1 - (a1*a3 + b1*b3 + (a3 + b3)*c1)*c3 + (a3*b1 - a1*b3 - (a3 - b3)*c1 + (a1 - b1)*c3)*cos3)]"
      ]
     },
     "execution_count": 32,
     "metadata": {},
     "output_type": "execute_result"
    }
   ],
   "source": [
    "#... and then colve for cos2 (cos = cotangent remember!)\n",
    "var('cos2')\n",
    "f_cos2 = solve(SR(thing), cos2)\n",
    "f_cos2"
   ]
  },
  {
   "cell_type": "code",
   "execution_count": 21,
   "metadata": {},
   "outputs": [
    {
     "ename": "SyntaxError",
     "evalue": "invalid syntax (<ipython-input-21-41f8856a8b3e>, line 1)",
     "output_type": "error",
     "traceback": [
      "\u001b[1;36m  File \u001b[1;32m\"<ipython-input-21-41f8856a8b3e>\"\u001b[1;36m, line \u001b[1;32m1\u001b[0m\n\u001b[1;33m    f2 = /Integer(2)*(a2*a3**Integer(2)*b1 - a1*a3**Integer(2)*b2 + (a2*b1 - a1*b2)*b3**Integer(2) - (a2*b1 - a1*b2 + (a2 - b2)*c1 - (a1 - b1)*c2)*c3**Integer(2) - (a2*b1 - a1*b2 - (a2 - b2)*c1 + (a1 - b1)*c2)*cos3**Integer(2) - (a2*a3**Integer(2) + a3**Integer(2)*b2 - (a2 + b2)*b3**Integer(2) - Integer(2)*(a2*a3 - a3*b2)*b3)*c1 + (a1*a3**Integer(2) + a3**Integer(2)*b1 - (a1 + b1)*b3**Integer(2) - Integer(2)*(a1*a3 - a3*b1)*b3)*c2 - Integer(2)*(a2*a3*b1 - a1*a3*b2 + (a2*b1 - a1*b2)*b3 + (a3*b2 - a2*b3)*c1 - (a3*b1 - a1*b3)*c2)*c3 - Integer(2)*(a2*a3*b1 - a1*a3*b2 - (a2*b1 - a1*b2)*b3 + (a2*a3 + b2*b3)*c1 - (a1*a3 + b1*b3)*c2 - ((a2 + b2)*c1 - (a1 + b1)*c2)*c3)*cos3 + sqrt(a2**Integer(2)*a3**Integer(4)*b1**Integer(2) - (Integer(4)*a1**Integer(2)*a2**Integer(2) + Integer(4)*a1*a2**Integer(2)*b1 - a2**Integer(2)*b1**Integer(2) - a1**Integer(2)*b2**Integer(2) - Integer(2)*(Integer(2)*a1**Integer(2)*a2 - Integer(3)*a1*a2*b1)*b2)*b3**Integer(4) - (Integer(4)*a1**Integer(2)*a2**Integer(2) + Integer(4)*a1*a2**Integer(2)*b1 - a2**Integer(2)*b1**Integer(2) - (a1**Integer(2) - Integer(4)*a1*b1 - Integer(4)*b1**Integer(2))*b2**Integer(2) - (a2**Integer(2) - Integer(2)*a2*b2 + b2**Integer(2))*c1**Integer(2) - (a1**Integer(2) - Integer(2)*a1*b1 + b1**Integer(2))*c2**Integer(2) + Integer(2)*(Integer(2)*a1**Integer(2)*a2 + Integer(5)*a1*a2*b1 + Integer(2)*a2*b1**Integer(2))*b2 + Integer(2)*(Integer(2)*a1*a2**Integer(2) + a2**Integer(2)*b1 + (a1 + Integer(2)*b1)*b2**Integer(2) + (a1*a2 + a2*b1)*b2)*c1 - Integer(2)*(Integer(2)*a1**Integer(2)*a2 + a1*a2*b1 + a2*b1**Integer(2) + (a1**Integer(2) + a1*b1 + Integer(2)*b1**Integer(2))*b2 - (Integer(3)*a1*a2 + a2*b1 + (a1 + Integer(3)*b1)*b2)*c1)*c2)*c3**Integer(4) + (a2**Integer(2)*b1**Integer(2) - Integer(2)*a1*a2*b1*b2 + a1**Integer(2)*b2**Integer(2) + (a2**Integer(2) - Integer(2)*a2*b2 + b2**Integer(2))*c1**Integer(2) + (a1**Integer(2) - Integer(2)*a1*b1 + b1**Integer(2))*c2**Integer(2) - Integer(2)*(a2**Integer(2)*b1 + a1*b2**Integer(2) - (a1*a2 + a2*b1)*b2)*c1 + Integer(2)*(a1*a2*b1 - a2*b1**Integer(2) - (a1**Integer(2) - a1*b1)*b2 - (a1*a2 - a2*b1 - (a1 - b1)*b2)*c1)*c2)*cos3**Integer(4) + Integer(4)*(Integer(2)*a1**Integer(2)*a2**Integer(2)*a3 + a1*a2**Integer(2)*a3*b1 + a2**Integer(2)*a3*b1**Integer(2) - (a1**Integer(2)*a3 - a1*a3*b1)*b2**Integer(2) + (a1**Integer(2)*a2*a3 + Integer(2)*a1*a2*a3*b1 + a2*a3*b1**Integer(2))*b2)*b3**Integer(3) + Integer(4)*(Integer(2)*a1**Integer(2)*a2**Integer(2)*a3 + a1*a2**Integer(2)*a3*b1 + a2**Integer(2)*a3*b1**Integer(2) + (a2**Integer(2)*a3 + a2*a3*b2 + (a2*b2 + b2**Integer(2))*b3)*c1**Integer(2) - (a1**Integer(2)*a3 + a3*b1**Integer(2) + (a1**Integer(2) + b1**Integer(2))*b3 - (a1*a3 + a3*b1 + (a1 + b1)*b3)*c1)*c2**Integer(2) + (a1**Integer(2)*a2*a3 + a1*a2*a3*b1 + Integer(2)*a2*a3*b1**Integer(2))*b2 + ((a1**Integer(2) + a1*b1 + Integer(2)*b1**Integer(2))*b2**Integer(2) + (Integer(2)*a1**Integer(2)*a2 + a1*a2*b1 + a2*b1**Integer(2))*b2)*b3 + (a1*a2**Integer(2)*a3 + a2*a3*b1*b2 + (a1*a2*b2 + b1*b2**Integer(2))*b3)*c1 + (a1**Integer(2)*a2*a3 + a1*a2*a3*b1 + (a2*a3 + a3*b2 + (a2 + b2)*b3)*c1**Integer(2) + (a1**Integer(2)*a3 + a1*a3*b1 + Integer(2)*a3*b1**Integer(2))*b2 + (Integer(2)*a1**Integer(2)*a2 + a1*a2*b1 + a2*b1**Integer(2) + (a1*b1 + b1**Integer(2))*b2)*b3 + (Integer(2)*a1*a2*a3 + a2*a3*b1 + a3*b1*b2 + (a1*a2 + (a1 + Integer(2)*b1)*b2)*b3)*c1)*c2)*c3**Integer(3) + Integer(4)*((a1**Integer(2)*a3 - a1*a3*b1)*b2**Integer(2) + (a2*a3*b2 + a3*b2**Integer(2) - (a2**Integer(2) + a2*b2)*b3)*c1**Integer(2) - (a1**Integer(2)*a3 + a3*b1**Integer(2) - (a1**Integer(2) + b1**Integer(2))*b3 - (a1*a3 + a3*b1 - (a1 + b1)*b3)*c1)*c2**Integer(2) - (a1*a2*a3*b1 - a2*a3*b1**Integer(2))*b2 + (a1*a2**Integer(2)*b1 - a2**Integer(2)*b1**Integer(2) - (a1**Integer(2)*a2 - a1*a2*b1)*b2)*b3 - (a1*a2*a3*b2 + a3*b1*b2**Integer(2) - (a1*a2**Integer(2) + a2*b1*b2)*b3)*c1 + (a1*a2*a3*b1 - a2*a3*b1**Integer(2) - (a2*a3 + a3*b2 - (a2 + b2)*b3)*c1**Integer(2) + (a1*a3*b1 + a3*b1**Integer(2))*b2 - (a1**Integer(2)*a2 + a1*a2*b1 - (a1**Integer(2) - a1*b1)*b2)*b3 + (a1*a2*a3 - a1*a3*b2 + (a2*b1 - b1*b2)*b3)*c1)*c2 - (a1*a2**Integer(2)*b1 - a2**Integer(2)*b1**Integer(2) + (a1**Integer(2) - a1*b1)*b2**Integer(2) - (a2**Integer(2) - b2**Integer(2))*c1**Integer(2) - (a1**Integer(2)*a2 - a2*b1**Integer(2))*b2 + (a1*a2**Integer(2) - b1*b2**Integer(2) - (a1*a2 - a2*b1)*b2)*c1 - (a1**Integer(2)*a2 + a2*b1**Integer(2) - (a1**Integer(2) + b1**Integer(2))*b2 - (a1*a2 + a2*b1 - (a1 + b1)*b2)*c1)*c2)*c3)*cos3**Integer(3) + (a1**Integer(2)*a3**Integer(4) - Integer(4)*a1*a3**Integer(4)*b1 - Integer(4)*a3**Integer(4)*b1**Integer(2))*b2**Integer(2) - Integer(2)*(Integer(2)*a1**Integer(2)*a2**Integer(2)*a3**Integer(2) + Integer(2)*a1*a2**Integer(2)*a3**Integer(2)*b1 - a2**Integer(2)*a3**Integer(2)*b1**Integer(2) - (a1**Integer(2)*a3**Integer(2) - Integer(2)*a1*a3**Integer(2)*b1 - Integer(2)*a3**Integer(2)*b1**Integer(2))*b2**Integer(2) + Integer(6)*(a1**Integer(2)*a2*a3**Integer(2) + a1*a2*a3**Integer(2)*b1 + a2*a3**Integer(2)*b1**Integer(2))*b2)*b3**Integer(2) + (a2**Integer(2)*a3**Integer(4) + Integer(2)*a2*a3**Integer(4)*b2 + a3**Integer(4)*b2**Integer(2) + (a2**Integer(2) + Integer(2)*a2*b2 + b2**Integer(2))*b3**Integer(4) + Integer(4)*(a2**Integer(2)*a3 - a3*b2**Integer(2))*b3**Integer(3) + Integer(2)*(a2**Integer(2)*a3**Integer(2) - Integer(6)*a2*a3**Integer(2)*b2 + a3**Integer(2)*b2**Integer(2))*b3**Integer(2) - Integer(4)*(a2**Integer(2)*a3**Integer(3) - a3**Integer(3)*b2**Integer(2))*b3)*c1**Integer(2) + (a1**Integer(2)*a3**Integer(4) - Integer(2)*a1*a3**Integer(4)*b1 + a3**Integer(4)*b1**Integer(2) + (a1**Integer(2) - Integer(2)*a1*b1 + b1**Integer(2))*b3**Integer(4) + Integer(2)*(a1**Integer(2)*a3**Integer(2) - Integer(2)*a1*a3**Integer(2)*b1 + a3**Integer(2)*b1**Integer(2))*b3**Integer(2) - Integer(4)*(a3**Integer(4) + Integer(2)*a3**Integer(2)*b3**Integer(2) + b3**Integer(4))*c1**Integer(2) - Integer(4)*(a1*a3**Integer(4) + a3**Integer(4)*b1 + (a1 + b1)*b3**Integer(4) + Integer(2)*(a1*a3**Integer(2) + a3**Integer(2)*b1)*b3**Integer(2))*c1)*c2**Integer(2) - Integer(2)*(Integer(2)*a1**Integer(2)*a2**Integer(2)*a3**Integer(2) + Integer(2)*a1*a2**Integer(2)*a3**Integer(2)*b1 - a2**Integer(2)*a3**Integer(2)*b1**Integer(2) - (a1**Integer(2)*a3**Integer(2) - Integer(4)*a1*a3**Integer(2)*b1 - Integer(4)*a3**Integer(2)*b1**Integer(2))*b2**Integer(2) + (Integer(4)*a1**Integer(2)*a2**Integer(2) + Integer(4)*a1*a2**Integer(2)*b1 - a2**Integer(2)*b1**Integer(2) - (a1**Integer(2) - Integer(2)*a1*b1 - Integer(2)*b1**Integer(2))*b2**Integer(2) + Integer(2)*(Integer(4)*a1*a2*b1 + a2*b1**Integer(2))*b2)*b3**Integer(2) - (a2**Integer(2)*a3**Integer(2) + a3**Integer(2)*b2**Integer(2) + (a2**Integer(2) + b2**Integer(2))*b3**Integer(2) + Integer(2)*(a2**Integer(2)*a3 + a3*b2**Integer(2))*b3)*c1**Integer(2) - (a1**Integer(2)*a3**Integer(2) - Integer(2)*a1*a3**Integer(2)*b1 + a3**Integer(2)*b1**Integer(2) + (a1**Integer(2) - Integer(2)*a1*b1 + b1**Integer(2))*b3**Integer(2) - Integer(2)*(a3**Integer(2) + Integer(2)*a3*b3 + b3**Integer(2))*c1**Integer(2) - Integer(4)*(a1**Integer(2)*a3 + a3*b1**Integer(2))*b3 - Integer(2)*(a1*a3**Integer(2) + a3**Integer(2)*b1 + (a1 + b1)*b3**Integer(2))*c1)*c2**Integer(2) + Integer(2)*(a1**Integer(2)*a2*a3**Integer(2) + Integer(4)*a1*a2*a3**Integer(2)*b1)*b2 - Integer(2)*(Integer(2)*a1**Integer(2)*a2**Integer(2)*a3 + a1*a2**Integer(2)*a3*b1 + a2**Integer(2)*a3*b1**Integer(2) + (a1**Integer(2)*a3 + a1*a3*b1 + Integer(2)*a3*b1**Integer(2))*b2**Integer(2) + (a1**Integer(2)*a2*a3 + Integer(2)*a1*a2*a3*b1 + a2*a3*b1**Integer(2))*b2)*b3 + Integer(2)*(a1*a2**Integer(2)*a3**Integer(2) + a2**Integer(2)*a3**Integer(2)*b1 + a1*a2*a3**Integer(2)*b2 + (a1*a3**Integer(2) + Integer(2)*a3**Integer(2)*b1)*b2**Integer(2) + (Integer(2)*a1*a2**Integer(2) + a2**Integer(2)*b1 + a2*b1*b2 + (a1 + b1)*b2**Integer(2))*b3**Integer(2) - (a1*a2**Integer(2)*a3 + a3*b1*b2**Integer(2) + (a1*a2*a3 + a2*a3*b1)*b2)*b3)*c1 + Integer(2)*(Integer(3)*a1**Integer(2)*a2*a3**Integer(2) + Integer(3)*a2*a3**Integer(2)*b1**Integer(2) + Integer(3)*(a1**Integer(2) + b1**Integer(2))*b2*b3**Integer(2) + (Integer(3)*a2*a3**Integer(2) + a3**Integer(2)*b2 + (a2 + Integer(3)*b2)*b3**Integer(2) + Integer(2)*(a2*a3 + a3*b2)*b3)*c1**Integer(2) + Integer(3)*(a1**Integer(2)*a2*a3 + a2*a3*b1**Integer(2) + (a1**Integer(2)*a3 + a3*b1**Integer(2))*b2)*b3 + (Integer(3)*a1*a2*a3**Integer(2) + (Integer(4)*a1*a2 + a2*b1 + Integer(3)*b1*b2)*b3**Integer(2) + (a1*a3**Integer(2) + Integer(4)*a3**Integer(2)*b1)*b2 - (a1*a2*a3 + a2*a3*b1 + (a1*a3 + a3*b1)*b2)*b3)*c1)*c2)*c3**Integer(2) + Integer(2)*(a2**Integer(2)*a3**Integer(2)*b1**Integer(2) + (a1**Integer(2)*a3**Integer(2) - Integer(2)*a1*a3**Integer(2)*b1 - Integer(2)*a3**Integer(2)*b1**Integer(2))*b2**Integer(2) - (Integer(2)*a1**Integer(2)*a2**Integer(2) + Integer(2)*a1*a2**Integer(2)*b1 - a2**Integer(2)*b1**Integer(2) - a1**Integer(2)*b2**Integer(2) - Integer(2)*(a1**Integer(2)*a2 - Integer(2)*a1*a2*b1)*b2)*b3**Integer(2) + (a2**Integer(2)*a3**Integer(2) + a3**Integer(2)*b2**Integer(2) + (a2**Integer(2) + b2**Integer(2))*b3**Integer(2) - Integer(2)*(a2**Integer(2)*a3 + a3*b2**Integer(2))*b3)*c1**Integer(2) + (a1**Integer(2)*a3**Integer(2) - Integer(2)*a1*a3**Integer(2)*b1 + a3**Integer(2)*b1**Integer(2) + (a1**Integer(2) - Integer(2)*a1*b1 + b1**Integer(2))*b3**Integer(2) - Integer(2)*(a3**Integer(2) - Integer(2)*a3*b3 + b3**Integer(2))*c1**Integer(2) + Integer(4)*(a1**Integer(2)*a3 + a3*b1**Integer(2))*b3 - Integer(2)*(a1*a3**Integer(2) + a3**Integer(2)*b1 + (a1 + b1)*b3**Integer(2))*c1)*c2**Integer(2) - (Integer(2)*a1**Integer(2)*a2**Integer(2) + Integer(2)*a1*a2**Integer(2)*b1 - a2**Integer(2)*b1**Integer(2) - (a1**Integer(2) - Integer(2)*a1*b1 - Integer(2)*b1**Integer(2))*b2**Integer(2) - (a2**Integer(2) + Integer(6)*a2*b2 + b2**Integer(2))*c1**Integer(2) - (a1**Integer(2) - Integer(2)*a1*b1 + b1**Integer(2))*c2**Integer(2) - Integer(6)*(a1**Integer(2)*a2 - a1*a2*b1 + a2*b1**Integer(2))*b2 + Integer(2)*(a1*a2**Integer(2) + a2**Integer(2)*b1 + (a1 + b1)*b2**Integer(2))*c1 - Integer(2)*(a1**Integer(2)*a2 + a1*a2*b1 + (a1*b1 + b1**Integer(2))*b2 - Integer(2)*(a1*a2 + b1*b2)*c1)*c2)*c3**Integer(2) - Integer(2)*(Integer(2)*a1*a2*a3**Integer(2)*b1 - a2*a3**Integer(2)*b1**Integer(2))*b2 + Integer(2)*(a1*a2**Integer(2)*a3*b1 - a2**Integer(2)*a3*b1**Integer(2) - (a1**Integer(2)*a3 - a1*a3*b1)*b2**Integer(2) + (a1**Integer(2)*a2*a3 + Integer(2)*a1*a2*a3*b1 + a2*a3*b1**Integer(2))*b2)*b3 - Integer(2)*(a2**Integer(2)*a3**Integer(2)*b1 - a2*a3**Integer(2)*b1*b2 + (a1*a3**Integer(2) + a3**Integer(2)*b1)*b2**Integer(2) + (a1*a2**Integer(2) + a2**Integer(2)*b1 - a1*a2*b2 + a1*b2**Integer(2))*b3**Integer(2) - (a1*a2**Integer(2)*a3 + a3*b1*b2**Integer(2) + (a1*a2*a3 + a2*a3*b1)*b2)*b3)*c1 + Integer(2)*(Integer(3)*(a1**Integer(2)*a2 + a2*b1**Integer(2))*b3**Integer(2) + (a2*a3**Integer(2) + Integer(3)*a3**Integer(2)*b2 + (Integer(3)*a2 + b2)*b3**Integer(2) - Integer(2)*(a2*a3 + a3*b2)*b3)*c1**Integer(2) + Integer(3)*(a1**Integer(2)*a3**Integer(2) + a3**Integer(2)*b1**Integer(2))*b2 - Integer(3)*(a1**Integer(2)*a2*a3 + a2*a3*b1**Integer(2) + (a1**Integer(2)*a3 + a3*b1**Integer(2))*b2)*b3 - (Integer(2)*a1*a2*a3**Integer(2) - a2*a3**Integer(2)*b1 + Integer(3)*a3**Integer(2)*b1*b2 + (Integer(3)*a1*a2 - (a1 - Integer(2)*b1)*b2)*b3**Integer(2) - (a1*a2*a3 + a2*a3*b1 + (a1*a3 + a3*b1)*b2)*b3)*c1)*c2 + Integer(2)*(a1*a2**Integer(2)*a3*b1 - a2**Integer(2)*a3*b1**Integer(2) + Integer(2)*(a1**Integer(2)*a3 + a3*b1**Integer(2))*b2**Integer(2) - (a2**Integer(2)*a3 + Integer(3)*a2*a3*b2 - Integer(2)*a3*b2**Integer(2) - (Integer(2)*a2**Integer(2) - Integer(3)*a2*b2 - b2**Integer(2))*b3)*c1**Integer(2) - (a1**Integer(2)*a3 + a3*b1**Integer(2) + (a1**Integer(2) + b1**Integer(2))*b3 - (a1*a3 + a3*b1 + (a1 + b1)*b3)*c1)*c2**Integer(2) - (Integer(3)*a1**Integer(2)*a2*a3 - a1*a2*a3*b1 + Integer(2)*a2*a3*b1**Integer(2))*b2 + (Integer(2)*a1**Integer(2)*a2**Integer(2) + Integer(2)*a2**Integer(2)*b1**Integer(2) - (a1**Integer(2) - a1*b1)*b2**Integer(2) - (Integer(2)*a1**Integer(2)*a2 - a1*a2*b1 + Integer(3)*a2*b1**Integer(2))*b2)*b3 + (a1*a2**Integer(2)*a3 + a2*a3*b1*b2 + (a1*a2*b2 + b1*b2**Integer(2))*b3)*c1 + (a1**Integer(2)*a2*a3 + a1*a2*a3*b1 + (a2*a3 - Integer(3)*a3*b2 - (Integer(3)*a2 - b2)*b3)*c1**Integer(2) - (Integer(3)*a1**Integer(2)*a3 - a1*a3*b1 + Integer(2)*a3*b1**Integer(2))*b2 - (Integer(2)*a1**Integer(2)*a2 - a1*a2*b1 + Integer(3)*a2*b1**Integer(2) - (a1*b1 + b1**Integer(2))*b2)*b3 + (Integer(2)*a1*a2*a3 + a2*a3*b1 + a3*b1*b2 + (a1*a2 + (a1 + Integer(2)*b1)*b2)*b3)*c1)*c2)*c3)*cos3**Integer(2) - Integer(2)*(Integer(3)*a1*a2*a3**Integer(4)*b1 - Integer(2)*a2*a3**Integer(4)*b1**Integer(2))*b2 + Integer(4)*(a1*a2**Integer(2)*a3**Integer(3)*b1 - a2**Integer(2)*a3**Integer(3)*b1**Integer(2) + (a1**Integer(2)*a3**Integer(3) + a1*a3**Integer(3)*b1 + Integer(2)*a3**Integer(3)*b1**Integer(2))*b2**Integer(2) + (a1**Integer(2)*a2*a3**Integer(3) + Integer(2)*a1*a2*a3**Integer(3)*b1 + a2*a3**Integer(3)*b1**Integer(2))*b2)*b3 - Integer(2)*(a2**Integer(2)*a3**Integer(4)*b1 + (Integer(2)*a1*a2**Integer(2) + a2**Integer(2)*b1 + a1*b2**Integer(2) - (a1*a2 - a2*b1)*b2)*b3**Integer(4) - Integer(2)*(a1*a2**Integer(2)*a3 + a3*b1*b2**Integer(2) + (a1*a2*a3 + a2*a3*b1)*b2)*b3**Integer(3) + (a1*a3**Integer(4) + Integer(2)*a3**Integer(4)*b1)*b2**Integer(2) + Integer(2)*(a1*a2**Integer(2)*a3**Integer(2) + a2**Integer(2)*a3**Integer(2)*b1 + (a1*a3**Integer(2) + a3**Integer(2)*b1)*b2**Integer(2))*b3**Integer(2) + (a1*a2*a3**Integer(4) - a2*a3**Integer(4)*b1)*b2 - Integer(2)*(a1*a2**Integer(2)*a3**Integer(3) + a3**Integer(3)*b1*b2**Integer(2) + (a1*a2*a3**Integer(3) + a2*a3**Integer(3)*b1)*b2)*b3)*c1 - Integer(2)*(a1*a2*a3**Integer(4)*b1 - a2*a3**Integer(4)*b1**Integer(2) + (Integer(2)*a1**Integer(2)*a2 + a1*a2*b1 + a2*b1**Integer(2) - (a1**Integer(2) - a1*b1)*b2)*b3**Integer(4) - Integer(2)*(a1**Integer(2)*a2*a3 + a2*a3*b1**Integer(2) + (a1**Integer(2)*a3 + a3*b1**Integer(2))*b2)*b3**Integer(3) + Integer(2)*(a1**Integer(2)*a2*a3**Integer(2) + a1*a2*a3**Integer(2)*b1 + (a1*a3**Integer(2)*b1 + a3**Integer(2)*b1**Integer(2))*b2)*b3**Integer(2) - Integer(2)*(a2*a3**Integer(4) - a3**Integer(4)*b2 - (a2 - b2)*b3**Integer(4) + Integer(2)*(a2*a3 + a3*b2)*b3**Integer(3) + Integer(2)*(a2*a3**Integer(3) + a3**Integer(3)*b2)*b3)*c1**Integer(2) + (a1**Integer(2)*a3**Integer(4) + a1*a3**Integer(4)*b1 + Integer(2)*a3**Integer(4)*b1**Integer(2))*b2 - Integer(2)*(a1**Integer(2)*a2*a3**Integer(3) + a2*a3**Integer(3)*b1**Integer(2) + (a1**Integer(2)*a3**Integer(3) + a3**Integer(3)*b1**Integer(2))*b2)*b3 + (Integer(3)*a1*a2*a3**Integer(4) - a2*a3**Integer(4)*b1 + (Integer(5)*a1*a2 + a2*b1 - (a1 - Integer(3)*b1)*b2)*b3**Integer(4) - Integer(2)*(a1*a2*a3 + a2*a3*b1 + (a1*a3 + a3*b1)*b2)*b3**Integer(3) + Integer(8)*(a1*a2*a3**Integer(2) + a3**Integer(2)*b1*b2)*b3**Integer(2) + (a1*a3**Integer(4) + Integer(5)*a3**Integer(4)*b1)*b2 - Integer(2)*(a1*a2*a3**Integer(3) + a2*a3**Integer(3)*b1 + (a1*a3**Integer(3) + a3**Integer(3)*b1)*b2)*b3)*c1)*c2 + Integer(4)*(a1*a2**Integer(2)*a3**Integer(3)*b1 - a2**Integer(2)*a3**Integer(3)*b1**Integer(2) - ((a1**Integer(2) - a1*b1)*b2**Integer(2) - (Integer(2)*a1**Integer(2)*a2 + a1*a2*b1 + a2*b1**Integer(2))*b2)*b3**Integer(3) + (Integer(2)*a1**Integer(2)*a2**Integer(2)*a3 + a1*a2**Integer(2)*a3*b1 + a2**Integer(2)*a3*b1**Integer(2) - Integer(2)*(a1**Integer(2)*a3 + a3*b1**Integer(2))*b2**Integer(2) - (Integer(3)*a1**Integer(2)*a2*a3 - a1*a2*a3*b1 + Integer(2)*a2*a3*b1**Integer(2))*b2)*b3**Integer(2) - (a2**Integer(2)*a3**Integer(3) - a2*a3**Integer(3)*b2 - (a2*b2 - b2**Integer(2))*b3**Integer(3) - (a2**Integer(2)*a3 - Integer(3)*a2*a3*b2 - Integer(2)*a3*b2**Integer(2))*b3**Integer(2) + (Integer(2)*a2**Integer(2)*a3**Integer(2) + Integer(3)*a2*a3**Integer(2)*b2 - a3**Integer(2)*b2**Integer(2))*b3)*c1**Integer(2) + (a1**Integer(2)*a3**Integer(3) + a3**Integer(3)*b1**Integer(2) + (a1**Integer(2) + b1**Integer(2))*b3**Integer(3) + (a1**Integer(2)*a3 + a3*b1**Integer(2))*b3**Integer(2) + Integer(2)*(a3**Integer(3) + a3**Integer(2)*b3 + a3*b3**Integer(2) + b3**Integer(3))*c1**Integer(2) + (a1**Integer(2)*a3**Integer(2) + a3**Integer(2)*b1**Integer(2))*b3 + (a1*a3**Integer(3) + a3**Integer(3)*b1 + (a1 + b1)*b3**Integer(3) + (a1*a3 + a3*b1)*b3**Integer(2) + (a1*a3**Integer(2) + a3**Integer(2)*b1)*b3)*c1)*c2**Integer(2) + (a1**Integer(2)*a2*a3**Integer(3) + a1*a2*a3**Integer(3)*b1 + Integer(2)*a2*a3**Integer(3)*b1**Integer(2))*b2 - (Integer(2)*a1**Integer(2)*a2**Integer(2)*a3**Integer(2) + Integer(2)*a2**Integer(2)*a3**Integer(2)*b1**Integer(2) - (a1**Integer(2)*a3**Integer(2) + a1*a3**Integer(2)*b1 + Integer(2)*a3**Integer(2)*b1**Integer(2))*b2**Integer(2) + (Integer(2)*a1**Integer(2)*a2*a3**Integer(2) - a1*a2*a3**Integer(2)*b1 + Integer(3)*a2*a3**Integer(2)*b1**Integer(2))*b2)*b3 + (a1*a2**Integer(2)*a3**Integer(3) + a2*a3**Integer(3)*b1*b2 + (a1*a2*b2 + b1*b2**Integer(2))*b3**Integer(3) + (a1*a2**Integer(2)*a3 + a2*a3*b1*b2)*b3**Integer(2) + (a1*a2*a3**Integer(2)*b2 + a3**Integer(2)*b1*b2**Integer(2))*b3)*c1 + (a1**Integer(2)*a2*a3**Integer(3) + a1*a2*a3**Integer(3)*b1 + (Integer(2)*a1**Integer(2)*a2 + a1*a2*b1 + a2*b1**Integer(2) + (a1*b1 + b1**Integer(2))*b2)*b3**Integer(3) + (a1**Integer(2)*a2*a3 + a1*a2*a3*b1 - (Integer(3)*a1**Integer(2)*a3 - a1*a3*b1 + Integer(2)*a3*b1**Integer(2))*b2)*b3**Integer(2) + (a2*a3**Integer(3) + a3**Integer(3)*b2 + (a2 + b2)*b3**Integer(3) + (a2*a3 - Integer(3)*a3*b2)*b3**Integer(2) - (Integer(3)*a2*a3**Integer(2) - a3**Integer(2)*b2)*b3)*c1**Integer(2) + (a1**Integer(2)*a3**Integer(3) + a1*a3**Integer(3)*b1 + Integer(2)*a3**Integer(3)*b1**Integer(2))*b2 - (Integer(2)*a1**Integer(2)*a2*a3**Integer(2) - a1*a2*a3**Integer(2)*b1 + Integer(3)*a2*a3**Integer(2)*b1**Integer(2) - (a1*a3**Integer(2)*b1 + a3**Integer(2)*b1**Integer(2))*b2)*b3 + (Integer(2)*a1*a2*a3**Integer(3) + a2*a3**Integer(3)*b1 + a3**Integer(3)*b1*b2 + (a1*a2 + (a1 + Integer(2)*b1)*b2)*b3**Integer(3) + (Integer(2)*a1*a2*a3 + a2*a3*b1 + a3*b1*b2)*b3**Integer(2) + (a1*a2*a3**Integer(2) + (a1*a3**Integer(2) + Integer(2)*a3**Integer(2)*b1)*b2)*b3)*c1)*c2)*c3 + Integer(4)*((Integer(2)*a1**Integer(2)*a2**Integer(2) + a1*a2**Integer(2)*b1 + a2**Integer(2)*b1**Integer(2) - (a1**Integer(2)*a2 - a1*a2*b1)*b2)*b3**Integer(3) - (Integer(2)*a1**Integer(2)*a2**Integer(2) + a1*a2**Integer(2)*b1 + a2**Integer(2)*b1**Integer(2) - (a1**Integer(2) + a1*b1 + Integer(2)*b1**Integer(2))*b2**Integer(2) + (a2**Integer(2) - b2**Integer(2))*c1**Integer(2) - (a1**Integer(2)*a2 - a2*b1**Integer(2))*b2 + (a1*a2**Integer(2) - b1*b2**Integer(2) - (a1*a2 - a2*b1)*b2)*c1 - (a1**Integer(2)*a2 + a2*b1**Integer(2) - (a1**Integer(2) + b1**Integer(2))*b2 - (a1*a2 + a2*b1 - (a1 + b1)*b2)*c1)*c2)*c3**Integer(3) - (a1**Integer(2)*a3**Integer(3) + a1*a3**Integer(3)*b1 + Integer(2)*a3**Integer(3)*b1**Integer(2))*b2**Integer(2) - (Integer(2)*a1**Integer(2)*a2**Integer(2)*a3 + Integer(2)*a2**Integer(2)*a3*b1**Integer(2) - (a1**Integer(2)*a3 - a1*a3*b1)*b2**Integer(2) + (Integer(4)*a1**Integer(2)*a2*a3 + a1*a2*a3*b1 + Integer(3)*a2*a3*b1**Integer(2))*b2)*b3**Integer(2) + (a2*a3**Integer(3)*b2 - a3**Integer(3)*b2**Integer(2) + (a2**Integer(2) - a2*b2)*b3**Integer(3) - (Integer(2)*a2**Integer(2)*a3 + Integer(3)*a2*a3*b2 - a3*b2**Integer(2))*b3**Integer(2) - (a2**Integer(2)*a3**Integer(2) - Integer(3)*a2*a3**Integer(2)*b2 - Integer(2)*a3**Integer(2)*b2**Integer(2))*b3)*c1**Integer(2) + (a1**Integer(2)*a3**Integer(3) + a3**Integer(3)*b1**Integer(2) - (a1**Integer(2) + b1**Integer(2))*b3**Integer(3) + (a1**Integer(2)*a3 + a3*b1**Integer(2))*b3**Integer(2) + Integer(2)*(a3**Integer(3) - a3**Integer(2)*b3 + a3*b3**Integer(2) - b3**Integer(3))*c1**Integer(2) - (a1**Integer(2)*a3**Integer(2) + a3**Integer(2)*b1**Integer(2))*b3 + (a1*a3**Integer(3) + a3**Integer(3)*b1 - (a1 + b1)*b3**Integer(3) + (a1*a3 + a3*b1)*b3**Integer(2) - (a1*a3**Integer(2) + a3**Integer(2)*b1)*b3)*c1)*c2**Integer(2) + (Integer(2)*a1**Integer(2)*a2**Integer(2)*a3 + Integer(2)*a2**Integer(2)*a3*b1**Integer(2) - (a1**Integer(2)*a3 + a1*a3*b1 + Integer(2)*a3*b1**Integer(2))*b2**Integer(2) + (Integer(2)*a2**Integer(2)*a3 - Integer(3)*a2*a3*b2 - a3*b2**Integer(2) + (a2**Integer(2) + Integer(3)*a2*b2 - Integer(2)*b2**Integer(2))*b3)*c1**Integer(2) - (a1**Integer(2)*a3 + a3*b1**Integer(2) - (a1**Integer(2) + b1**Integer(2))*b3 - (a1*a3 + a3*b1 - (a1 + b1)*b3)*c1)*c2**Integer(2) - (Integer(4)*a1**Integer(2)*a2*a3 + a1*a2*a3*b1 + Integer(3)*a2*a3*b1**Integer(2))*b2 + (Integer(2)*a1**Integer(2)*a2**Integer(2) + a1*a2**Integer(2)*b1 + a2**Integer(2)*b1**Integer(2) - Integer(2)*(a1**Integer(2) + b1**Integer(2))*b2**Integer(2) + (Integer(3)*a1**Integer(2)*a2 + a1*a2*b1 + Integer(4)*a2*b1**Integer(2))*b2)*b3 - (a1*a2*a3*b2 + a3*b1*b2**Integer(2) - (a1*a2**Integer(2) + a2*b1*b2)*b3)*c1 + (Integer(4)*a1**Integer(2)*a2*a3 + a1*a2*a3*b1 + Integer(3)*a2*a3*b1**Integer(2) + (Integer(3)*a2*a3 - a3*b2 + (a2 - Integer(3)*b2)*b3)*c1**Integer(2) + (a1*a3*b1 + a3*b1**Integer(2))*b2 - (a1**Integer(2)*a2 + a1*a2*b1 + (Integer(3)*a1**Integer(2) + a1*b1 + Integer(4)*b1**Integer(2))*b2)*b3 + (a1*a2*a3 - a1*a3*b2 + (a2*b1 - b1*b2)*b3)*c1)*c2)*c3**Integer(2) - (a1*a2*a3**Integer(3)*b1 - a2*a3**Integer(3)*b1**Integer(2))*b2 + (a1*a2**Integer(2)*a3**Integer(2)*b1 - a2**Integer(2)*a3**Integer(2)*b1**Integer(2) + Integer(2)*(a1**Integer(2)*a3**Integer(2) + a3**Integer(2)*b1**Integer(2))*b2**Integer(2) + (Integer(3)*a1**Integer(2)*a2*a3**Integer(2) + a1*a2*a3**Integer(2)*b1 + Integer(4)*a2*a3**Integer(2)*b1**Integer(2))*b2)*b3 - (a1*a2*a3**Integer(3)*b2 + a3**Integer(3)*b1*b2**Integer(2) - (a1*a2**Integer(2) + a2*b1*b2)*b3**Integer(3) + (a1*a2*a3*b2 + a3*b1*b2**Integer(2))*b3**Integer(2) - (a1*a2**Integer(2)*a3**Integer(2) + a2*a3**Integer(2)*b1*b2)*b3)*c1 + (a1*a2*a3**Integer(3)*b1 - a2*a3**Integer(3)*b1**Integer(2) - (a1**Integer(2)*a2 + a1*a2*b1 - (a1**Integer(2) - a1*b1)*b2)*b3**Integer(3) + (Integer(4)*a1**Integer(2)*a2*a3 + a1*a2*a3*b1 + Integer(3)*a2*a3*b1**Integer(2) + (a1*a3*b1 + a3*b1**Integer(2))*b2)*b3**Integer(2) - (a2*a3**Integer(3) + a3**Integer(3)*b2 - (a2 + b2)*b3**Integer(3) - (Integer(3)*a2*a3 - a3*b2)*b3**Integer(2) - (a2*a3**Integer(2) - Integer(3)*a3**Integer(2)*b2)*b3)*c1**Integer(2) + (a1*a3**Integer(3)*b1 + a3**Integer(3)*b1**Integer(2))*b2 - (a1**Integer(2)*a2*a3**Integer(2) + a1*a2*a3**Integer(2)*b1 + (Integer(3)*a1**Integer(2)*a3**Integer(2) + a1*a3**Integer(2)*b1 + Integer(4)*a3**Integer(2)*b1**Integer(2))*b2)*b3 + (a1*a2*a3**Integer(3) - a1*a3**Integer(3)*b2 + (a2*b1 - b1*b2)*b3**Integer(3) + (a1*a2*a3 - a1*a3*b2)*b3**Integer(2) + (a2*a3**Integer(2)*b1 - a3**Integer(2)*b1*b2)*b3)*c1)*c2 - (a1*a2**Integer(2)*a3**Integer(2)*b1 - a2**Integer(2)*a3**Integer(2)*b1**Integer(2) - (a1**Integer(2)*a3**Integer(2) + a1*a3**Integer(2)*b1 + Integer(2)*a3**Integer(2)*b1**Integer(2))*b2**Integer(2) + (Integer(2)*a1**Integer(2)*a2**Integer(2) + a1*a2**Integer(2)*b1 + a2**Integer(2)*b1**Integer(2) + (a1**Integer(2) - a1*b1)*b2**Integer(2) - (a1**Integer(2)*a2 - a2*b1**Integer(2))*b2)*b3**Integer(2) - (a2**Integer(2)*a3**Integer(2) + a3**Integer(2)*b2**Integer(2) - (a2**Integer(2) + b2**Integer(2))*b3**Integer(2))*c1**Integer(2) + Integer(2)*(a1**Integer(2)*a3**Integer(2) + a3**Integer(2)*b1**Integer(2) - (a1**Integer(2) + b1**Integer(2))*b3**Integer(2) + (a3**Integer(2) - b3**Integer(2))*c1**Integer(2))*c2**Integer(2) - (a1**Integer(2)*a2*a3**Integer(2) - a2*a3**Integer(2)*b1**Integer(2))*b2 + (a1*a2**Integer(2)*a3**Integer(2) - a3**Integer(2)*b1*b2**Integer(2) + (a1*a2**Integer(2) - b1*b2**Integer(2) - (a1*a2 - a2*b1)*b2)*b3**Integer(2) - (a1*a2*a3**Integer(2) - a2*a3**Integer(2)*b1)*b2)*c1 + (Integer(3)*a1**Integer(2)*a2*a3**Integer(2) + Integer(3)*a2*a3**Integer(2)*b1**Integer(2) + Integer(3)*(a1**Integer(2)*a2 + a2*b1**Integer(2) - (a1**Integer(2) + b1**Integer(2))*b2)*b3**Integer(2) + Integer(4)*(a2*a3**Integer(2) - a3**Integer(2)*b2 + (a2 - b2)*b3**Integer(2))*c1**Integer(2) - Integer(3)*(a1**Integer(2)*a3**Integer(2) + a3**Integer(2)*b1**Integer(2))*b2 + (a1*a2*a3**Integer(2) + a2*a3**Integer(2)*b1 + (a1*a2 + a2*b1 - (a1 + b1)*b2)*b3**Integer(2) - (a1*a3**Integer(2) + a3**Integer(2)*b1)*b2)*c1)*c2)*c3)*cos3))/(a3**Integer(2)*b1 + a1*b3**Integer(2) + (a1 + b1)*c3**Integer(2) - (a1*a3 + a3*b1)*b3 + (a3**Integer(2) + b3**Integer(2))*c1 - (a1*a3 + b1*b3 + (a3 + b3)*c1)*c3 + (a3*b1 - a1*b3 - (a3 - b3)*c1 + (a1 - b1)*c3)*cos3)\u001b[0m\n\u001b[1;37m         ^\u001b[0m\n\u001b[1;31mSyntaxError\u001b[0m\u001b[1;31m:\u001b[0m invalid syntax\n"
     ]
    }
   ],
   "source": [
    "f2 = 1/2*(a2*a3^2*b1 - a1*a3^2*b2 + (a2*b1 - a1*b2)*b3^2 - (a2*b1 - a1*b2 + (a2 - b2)*c1 - (a1 - b1)*c2)*c3^2 - (a2*b1 - a1*b2 - (a2 - b2)*c1 + (a1 - b1)*c2)*cos3^2 - (a2*a3^2 + a3^2*b2 - (a2 + b2)*b3^2 - 2*(a2*a3 - a3*b2)*b3)*c1 + (a1*a3^2 + a3^2*b1 - (a1 + b1)*b3^2 - 2*(a1*a3 - a3*b1)*b3)*c2 - 2*(a2*a3*b1 - a1*a3*b2 + (a2*b1 - a1*b2)*b3 + (a3*b2 - a2*b3)*c1 - (a3*b1 - a1*b3)*c2)*c3 - 2*(a2*a3*b1 - a1*a3*b2 - (a2*b1 - a1*b2)*b3 + (a2*a3 + b2*b3)*c1 - (a1*a3 + b1*b3)*c2 - ((a2 + b2)*c1 - (a1 + b1)*c2)*c3)*cos3 + sqrt(a2^2*a3^4*b1^2 - (4*a1^2*a2^2 + 4*a1*a2^2*b1 - a2^2*b1^2 - a1^2*b2^2 - 2*(2*a1^2*a2 - 3*a1*a2*b1)*b2)*b3^4 - (4*a1^2*a2^2 + 4*a1*a2^2*b1 - a2^2*b1^2 - (a1^2 - 4*a1*b1 - 4*b1^2)*b2^2 - (a2^2 - 2*a2*b2 + b2^2)*c1^2 - (a1^2 - 2*a1*b1 + b1^2)*c2^2 + 2*(2*a1^2*a2 + 5*a1*a2*b1 + 2*a2*b1^2)*b2 + 2*(2*a1*a2^2 + a2^2*b1 + (a1 + 2*b1)*b2^2 + (a1*a2 + a2*b1)*b2)*c1 - 2*(2*a1^2*a2 + a1*a2*b1 + a2*b1^2 + (a1^2 + a1*b1 + 2*b1^2)*b2 - (3*a1*a2 + a2*b1 + (a1 + 3*b1)*b2)*c1)*c2)*c3^4 + (a2^2*b1^2 - 2*a1*a2*b1*b2 + a1^2*b2^2 + (a2^2 - 2*a2*b2 + b2^2)*c1^2 + (a1^2 - 2*a1*b1 + b1^2)*c2^2 - 2*(a2^2*b1 + a1*b2^2 - (a1*a2 + a2*b1)*b2)*c1 + 2*(a1*a2*b1 - a2*b1^2 - (a1^2 - a1*b1)*b2 - (a1*a2 - a2*b1 - (a1 - b1)*b2)*c1)*c2)*cos3^4 + 4*(2*a1^2*a2^2*a3 + a1*a2^2*a3*b1 + a2^2*a3*b1^2 - (a1^2*a3 - a1*a3*b1)*b2^2 + (a1^2*a2*a3 + 2*a1*a2*a3*b1 + a2*a3*b1^2)*b2)*b3^3 + 4*(2*a1^2*a2^2*a3 + a1*a2^2*a3*b1 + a2^2*a3*b1^2 + (a2^2*a3 + a2*a3*b2 + (a2*b2 + b2^2)*b3)*c1^2 - (a1^2*a3 + a3*b1^2 + (a1^2 + b1^2)*b3 - (a1*a3 + a3*b1 + (a1 + b1)*b3)*c1)*c2^2 + (a1^2*a2*a3 + a1*a2*a3*b1 + 2*a2*a3*b1^2)*b2 + ((a1^2 + a1*b1 + 2*b1^2)*b2^2 + (2*a1^2*a2 + a1*a2*b1 + a2*b1^2)*b2)*b3 + (a1*a2^2*a3 + a2*a3*b1*b2 + (a1*a2*b2 + b1*b2^2)*b3)*c1 + (a1^2*a2*a3 + a1*a2*a3*b1 + (a2*a3 + a3*b2 + (a2 + b2)*b3)*c1^2 + (a1^2*a3 + a1*a3*b1 + 2*a3*b1^2)*b2 + (2*a1^2*a2 + a1*a2*b1 + a2*b1^2 + (a1*b1 + b1^2)*b2)*b3 + (2*a1*a2*a3 + a2*a3*b1 + a3*b1*b2 + (a1*a2 + (a1 + 2*b1)*b2)*b3)*c1)*c2)*c3^3 + 4*((a1^2*a3 - a1*a3*b1)*b2^2 + (a2*a3*b2 + a3*b2^2 - (a2^2 + a2*b2)*b3)*c1^2 - (a1^2*a3 + a3*b1^2 - (a1^2 + b1^2)*b3 - (a1*a3 + a3*b1 - (a1 + b1)*b3)*c1)*c2^2 - (a1*a2*a3*b1 - a2*a3*b1^2)*b2 + (a1*a2^2*b1 - a2^2*b1^2 - (a1^2*a2 - a1*a2*b1)*b2)*b3 - (a1*a2*a3*b2 + a3*b1*b2^2 - (a1*a2^2 + a2*b1*b2)*b3)*c1 + (a1*a2*a3*b1 - a2*a3*b1^2 - (a2*a3 + a3*b2 - (a2 + b2)*b3)*c1^2 + (a1*a3*b1 + a3*b1^2)*b2 - (a1^2*a2 + a1*a2*b1 - (a1^2 - a1*b1)*b2)*b3 + (a1*a2*a3 - a1*a3*b2 + (a2*b1 - b1*b2)*b3)*c1)*c2 - (a1*a2^2*b1 - a2^2*b1^2 + (a1^2 - a1*b1)*b2^2 - (a2^2 - b2^2)*c1^2 - (a1^2*a2 - a2*b1^2)*b2 + (a1*a2^2 - b1*b2^2 - (a1*a2 - a2*b1)*b2)*c1 - (a1^2*a2 + a2*b1^2 - (a1^2 + b1^2)*b2 - (a1*a2 + a2*b1 - (a1 + b1)*b2)*c1)*c2)*c3)*cos3^3 + (a1^2*a3^4 - 4*a1*a3^4*b1 - 4*a3^4*b1^2)*b2^2 - 2*(2*a1^2*a2^2*a3^2 + 2*a1*a2^2*a3^2*b1 - a2^2*a3^2*b1^2 - (a1^2*a3^2 - 2*a1*a3^2*b1 - 2*a3^2*b1^2)*b2^2 + 6*(a1^2*a2*a3^2 + a1*a2*a3^2*b1 + a2*a3^2*b1^2)*b2)*b3^2 + (a2^2*a3^4 + 2*a2*a3^4*b2 + a3^4*b2^2 + (a2^2 + 2*a2*b2 + b2^2)*b3^4 + 4*(a2^2*a3 - a3*b2^2)*b3^3 + 2*(a2^2*a3^2 - 6*a2*a3^2*b2 + a3^2*b2^2)*b3^2 - 4*(a2^2*a3^3 - a3^3*b2^2)*b3)*c1^2 + (a1^2*a3^4 - 2*a1*a3^4*b1 + a3^4*b1^2 + (a1^2 - 2*a1*b1 + b1^2)*b3^4 + 2*(a1^2*a3^2 - 2*a1*a3^2*b1 + a3^2*b1^2)*b3^2 - 4*(a3^4 + 2*a3^2*b3^2 + b3^4)*c1^2 - 4*(a1*a3^4 + a3^4*b1 + (a1 + b1)*b3^4 + 2*(a1*a3^2 + a3^2*b1)*b3^2)*c1)*c2^2 - 2*(2*a1^2*a2^2*a3^2 + 2*a1*a2^2*a3^2*b1 - a2^2*a3^2*b1^2 - (a1^2*a3^2 - 4*a1*a3^2*b1 - 4*a3^2*b1^2)*b2^2 + (4*a1^2*a2^2 + 4*a1*a2^2*b1 - a2^2*b1^2 - (a1^2 - 2*a1*b1 - 2*b1^2)*b2^2 + 2*(4*a1*a2*b1 + a2*b1^2)*b2)*b3^2 - (a2^2*a3^2 + a3^2*b2^2 + (a2^2 + b2^2)*b3^2 + 2*(a2^2*a3 + a3*b2^2)*b3)*c1^2 - (a1^2*a3^2 - 2*a1*a3^2*b1 + a3^2*b1^2 + (a1^2 - 2*a1*b1 + b1^2)*b3^2 - 2*(a3^2 + 2*a3*b3 + b3^2)*c1^2 - 4*(a1^2*a3 + a3*b1^2)*b3 - 2*(a1*a3^2 + a3^2*b1 + (a1 + b1)*b3^2)*c1)*c2^2 + 2*(a1^2*a2*a3^2 + 4*a1*a2*a3^2*b1)*b2 - 2*(2*a1^2*a2^2*a3 + a1*a2^2*a3*b1 + a2^2*a3*b1^2 + (a1^2*a3 + a1*a3*b1 + 2*a3*b1^2)*b2^2 + (a1^2*a2*a3 + 2*a1*a2*a3*b1 + a2*a3*b1^2)*b2)*b3 + 2*(a1*a2^2*a3^2 + a2^2*a3^2*b1 + a1*a2*a3^2*b2 + (a1*a3^2 + 2*a3^2*b1)*b2^2 + (2*a1*a2^2 + a2^2*b1 + a2*b1*b2 + (a1 + b1)*b2^2)*b3^2 - (a1*a2^2*a3 + a3*b1*b2^2 + (a1*a2*a3 + a2*a3*b1)*b2)*b3)*c1 + 2*(3*a1^2*a2*a3^2 + 3*a2*a3^2*b1^2 + 3*(a1^2 + b1^2)*b2*b3^2 + (3*a2*a3^2 + a3^2*b2 + (a2 + 3*b2)*b3^2 + 2*(a2*a3 + a3*b2)*b3)*c1^2 + 3*(a1^2*a2*a3 + a2*a3*b1^2 + (a1^2*a3 + a3*b1^2)*b2)*b3 + (3*a1*a2*a3^2 + (4*a1*a2 + a2*b1 + 3*b1*b2)*b3^2 + (a1*a3^2 + 4*a3^2*b1)*b2 - (a1*a2*a3 + a2*a3*b1 + (a1*a3 + a3*b1)*b2)*b3)*c1)*c2)*c3^2 + 2*(a2^2*a3^2*b1^2 + (a1^2*a3^2 - 2*a1*a3^2*b1 - 2*a3^2*b1^2)*b2^2 - (2*a1^2*a2^2 + 2*a1*a2^2*b1 - a2^2*b1^2 - a1^2*b2^2 - 2*(a1^2*a2 - 2*a1*a2*b1)*b2)*b3^2 + (a2^2*a3^2 + a3^2*b2^2 + (a2^2 + b2^2)*b3^2 - 2*(a2^2*a3 + a3*b2^2)*b3)*c1^2 + (a1^2*a3^2 - 2*a1*a3^2*b1 + a3^2*b1^2 + (a1^2 - 2*a1*b1 + b1^2)*b3^2 - 2*(a3^2 - 2*a3*b3 + b3^2)*c1^2 + 4*(a1^2*a3 + a3*b1^2)*b3 - 2*(a1*a3^2 + a3^2*b1 + (a1 + b1)*b3^2)*c1)*c2^2 - (2*a1^2*a2^2 + 2*a1*a2^2*b1 - a2^2*b1^2 - (a1^2 - 2*a1*b1 - 2*b1^2)*b2^2 - (a2^2 + 6*a2*b2 + b2^2)*c1^2 - (a1^2 - 2*a1*b1 + b1^2)*c2^2 - 6*(a1^2*a2 - a1*a2*b1 + a2*b1^2)*b2 + 2*(a1*a2^2 + a2^2*b1 + (a1 + b1)*b2^2)*c1 - 2*(a1^2*a2 + a1*a2*b1 + (a1*b1 + b1^2)*b2 - 2*(a1*a2 + b1*b2)*c1)*c2)*c3^2 - 2*(2*a1*a2*a3^2*b1 - a2*a3^2*b1^2)*b2 + 2*(a1*a2^2*a3*b1 - a2^2*a3*b1^2 - (a1^2*a3 - a1*a3*b1)*b2^2 + (a1^2*a2*a3 + 2*a1*a2*a3*b1 + a2*a3*b1^2)*b2)*b3 - 2*(a2^2*a3^2*b1 - a2*a3^2*b1*b2 + (a1*a3^2 + a3^2*b1)*b2^2 + (a1*a2^2 + a2^2*b1 - a1*a2*b2 + a1*b2^2)*b3^2 - (a1*a2^2*a3 + a3*b1*b2^2 + (a1*a2*a3 + a2*a3*b1)*b2)*b3)*c1 + 2*(3*(a1^2*a2 + a2*b1^2)*b3^2 + (a2*a3^2 + 3*a3^2*b2 + (3*a2 + b2)*b3^2 - 2*(a2*a3 + a3*b2)*b3)*c1^2 + 3*(a1^2*a3^2 + a3^2*b1^2)*b2 - 3*(a1^2*a2*a3 + a2*a3*b1^2 + (a1^2*a3 + a3*b1^2)*b2)*b3 - (2*a1*a2*a3^2 - a2*a3^2*b1 + 3*a3^2*b1*b2 + (3*a1*a2 - (a1 - 2*b1)*b2)*b3^2 - (a1*a2*a3 + a2*a3*b1 + (a1*a3 + a3*b1)*b2)*b3)*c1)*c2 + 2*(a1*a2^2*a3*b1 - a2^2*a3*b1^2 + 2*(a1^2*a3 + a3*b1^2)*b2^2 - (a2^2*a3 + 3*a2*a3*b2 - 2*a3*b2^2 - (2*a2^2 - 3*a2*b2 - b2^2)*b3)*c1^2 - (a1^2*a3 + a3*b1^2 + (a1^2 + b1^2)*b3 - (a1*a3 + a3*b1 + (a1 + b1)*b3)*c1)*c2^2 - (3*a1^2*a2*a3 - a1*a2*a3*b1 + 2*a2*a3*b1^2)*b2 + (2*a1^2*a2^2 + 2*a2^2*b1^2 - (a1^2 - a1*b1)*b2^2 - (2*a1^2*a2 - a1*a2*b1 + 3*a2*b1^2)*b2)*b3 + (a1*a2^2*a3 + a2*a3*b1*b2 + (a1*a2*b2 + b1*b2^2)*b3)*c1 + (a1^2*a2*a3 + a1*a2*a3*b1 + (a2*a3 - 3*a3*b2 - (3*a2 - b2)*b3)*c1^2 - (3*a1^2*a3 - a1*a3*b1 + 2*a3*b1^2)*b2 - (2*a1^2*a2 - a1*a2*b1 + 3*a2*b1^2 - (a1*b1 + b1^2)*b2)*b3 + (2*a1*a2*a3 + a2*a3*b1 + a3*b1*b2 + (a1*a2 + (a1 + 2*b1)*b2)*b3)*c1)*c2)*c3)*cos3^2 - 2*(3*a1*a2*a3^4*b1 - 2*a2*a3^4*b1^2)*b2 + 4*(a1*a2^2*a3^3*b1 - a2^2*a3^3*b1^2 + (a1^2*a3^3 + a1*a3^3*b1 + 2*a3^3*b1^2)*b2^2 + (a1^2*a2*a3^3 + 2*a1*a2*a3^3*b1 + a2*a3^3*b1^2)*b2)*b3 - 2*(a2^2*a3^4*b1 + (2*a1*a2^2 + a2^2*b1 + a1*b2^2 - (a1*a2 - a2*b1)*b2)*b3^4 - 2*(a1*a2^2*a3 + a3*b1*b2^2 + (a1*a2*a3 + a2*a3*b1)*b2)*b3^3 + (a1*a3^4 + 2*a3^4*b1)*b2^2 + 2*(a1*a2^2*a3^2 + a2^2*a3^2*b1 + (a1*a3^2 + a3^2*b1)*b2^2)*b3^2 + (a1*a2*a3^4 - a2*a3^4*b1)*b2 - 2*(a1*a2^2*a3^3 + a3^3*b1*b2^2 + (a1*a2*a3^3 + a2*a3^3*b1)*b2)*b3)*c1 - 2*(a1*a2*a3^4*b1 - a2*a3^4*b1^2 + (2*a1^2*a2 + a1*a2*b1 + a2*b1^2 - (a1^2 - a1*b1)*b2)*b3^4 - 2*(a1^2*a2*a3 + a2*a3*b1^2 + (a1^2*a3 + a3*b1^2)*b2)*b3^3 + 2*(a1^2*a2*a3^2 + a1*a2*a3^2*b1 + (a1*a3^2*b1 + a3^2*b1^2)*b2)*b3^2 - 2*(a2*a3^4 - a3^4*b2 - (a2 - b2)*b3^4 + 2*(a2*a3 + a3*b2)*b3^3 + 2*(a2*a3^3 + a3^3*b2)*b3)*c1^2 + (a1^2*a3^4 + a1*a3^4*b1 + 2*a3^4*b1^2)*b2 - 2*(a1^2*a2*a3^3 + a2*a3^3*b1^2 + (a1^2*a3^3 + a3^3*b1^2)*b2)*b3 + (3*a1*a2*a3^4 - a2*a3^4*b1 + (5*a1*a2 + a2*b1 - (a1 - 3*b1)*b2)*b3^4 - 2*(a1*a2*a3 + a2*a3*b1 + (a1*a3 + a3*b1)*b2)*b3^3 + 8*(a1*a2*a3^2 + a3^2*b1*b2)*b3^2 + (a1*a3^4 + 5*a3^4*b1)*b2 - 2*(a1*a2*a3^3 + a2*a3^3*b1 + (a1*a3^3 + a3^3*b1)*b2)*b3)*c1)*c2 + 4*(a1*a2^2*a3^3*b1 - a2^2*a3^3*b1^2 - ((a1^2 - a1*b1)*b2^2 - (2*a1^2*a2 + a1*a2*b1 + a2*b1^2)*b2)*b3^3 + (2*a1^2*a2^2*a3 + a1*a2^2*a3*b1 + a2^2*a3*b1^2 - 2*(a1^2*a3 + a3*b1^2)*b2^2 - (3*a1^2*a2*a3 - a1*a2*a3*b1 + 2*a2*a3*b1^2)*b2)*b3^2 - (a2^2*a3^3 - a2*a3^3*b2 - (a2*b2 - b2^2)*b3^3 - (a2^2*a3 - 3*a2*a3*b2 - 2*a3*b2^2)*b3^2 + (2*a2^2*a3^2 + 3*a2*a3^2*b2 - a3^2*b2^2)*b3)*c1^2 + (a1^2*a3^3 + a3^3*b1^2 + (a1^2 + b1^2)*b3^3 + (a1^2*a3 + a3*b1^2)*b3^2 + 2*(a3^3 + a3^2*b3 + a3*b3^2 + b3^3)*c1^2 + (a1^2*a3^2 + a3^2*b1^2)*b3 + (a1*a3^3 + a3^3*b1 + (a1 + b1)*b3^3 + (a1*a3 + a3*b1)*b3^2 + (a1*a3^2 + a3^2*b1)*b3)*c1)*c2^2 + (a1^2*a2*a3^3 + a1*a2*a3^3*b1 + 2*a2*a3^3*b1^2)*b2 - (2*a1^2*a2^2*a3^2 + 2*a2^2*a3^2*b1^2 - (a1^2*a3^2 + a1*a3^2*b1 + 2*a3^2*b1^2)*b2^2 + (2*a1^2*a2*a3^2 - a1*a2*a3^2*b1 + 3*a2*a3^2*b1^2)*b2)*b3 + (a1*a2^2*a3^3 + a2*a3^3*b1*b2 + (a1*a2*b2 + b1*b2^2)*b3^3 + (a1*a2^2*a3 + a2*a3*b1*b2)*b3^2 + (a1*a2*a3^2*b2 + a3^2*b1*b2^2)*b3)*c1 + (a1^2*a2*a3^3 + a1*a2*a3^3*b1 + (2*a1^2*a2 + a1*a2*b1 + a2*b1^2 + (a1*b1 + b1^2)*b2)*b3^3 + (a1^2*a2*a3 + a1*a2*a3*b1 - (3*a1^2*a3 - a1*a3*b1 + 2*a3*b1^2)*b2)*b3^2 + (a2*a3^3 + a3^3*b2 + (a2 + b2)*b3^3 + (a2*a3 - 3*a3*b2)*b3^2 - (3*a2*a3^2 - a3^2*b2)*b3)*c1^2 + (a1^2*a3^3 + a1*a3^3*b1 + 2*a3^3*b1^2)*b2 - (2*a1^2*a2*a3^2 - a1*a2*a3^2*b1 + 3*a2*a3^2*b1^2 - (a1*a3^2*b1 + a3^2*b1^2)*b2)*b3 + (2*a1*a2*a3^3 + a2*a3^3*b1 + a3^3*b1*b2 + (a1*a2 + (a1 + 2*b1)*b2)*b3^3 + (2*a1*a2*a3 + a2*a3*b1 + a3*b1*b2)*b3^2 + (a1*a2*a3^2 + (a1*a3^2 + 2*a3^2*b1)*b2)*b3)*c1)*c2)*c3 + 4*((2*a1^2*a2^2 + a1*a2^2*b1 + a2^2*b1^2 - (a1^2*a2 - a1*a2*b1)*b2)*b3^3 - (2*a1^2*a2^2 + a1*a2^2*b1 + a2^2*b1^2 - (a1^2 + a1*b1 + 2*b1^2)*b2^2 + (a2^2 - b2^2)*c1^2 - (a1^2*a2 - a2*b1^2)*b2 + (a1*a2^2 - b1*b2^2 - (a1*a2 - a2*b1)*b2)*c1 - (a1^2*a2 + a2*b1^2 - (a1^2 + b1^2)*b2 - (a1*a2 + a2*b1 - (a1 + b1)*b2)*c1)*c2)*c3^3 - (a1^2*a3^3 + a1*a3^3*b1 + 2*a3^3*b1^2)*b2^2 - (2*a1^2*a2^2*a3 + 2*a2^2*a3*b1^2 - (a1^2*a3 - a1*a3*b1)*b2^2 + (4*a1^2*a2*a3 + a1*a2*a3*b1 + 3*a2*a3*b1^2)*b2)*b3^2 + (a2*a3^3*b2 - a3^3*b2^2 + (a2^2 - a2*b2)*b3^3 - (2*a2^2*a3 + 3*a2*a3*b2 - a3*b2^2)*b3^2 - (a2^2*a3^2 - 3*a2*a3^2*b2 - 2*a3^2*b2^2)*b3)*c1^2 + (a1^2*a3^3 + a3^3*b1^2 - (a1^2 + b1^2)*b3^3 + (a1^2*a3 + a3*b1^2)*b3^2 + 2*(a3^3 - a3^2*b3 + a3*b3^2 - b3^3)*c1^2 - (a1^2*a3^2 + a3^2*b1^2)*b3 + (a1*a3^3 + a3^3*b1 - (a1 + b1)*b3^3 + (a1*a3 + a3*b1)*b3^2 - (a1*a3^2 + a3^2*b1)*b3)*c1)*c2^2 + (2*a1^2*a2^2*a3 + 2*a2^2*a3*b1^2 - (a1^2*a3 + a1*a3*b1 + 2*a3*b1^2)*b2^2 + (2*a2^2*a3 - 3*a2*a3*b2 - a3*b2^2 + (a2^2 + 3*a2*b2 - 2*b2^2)*b3)*c1^2 - (a1^2*a3 + a3*b1^2 - (a1^2 + b1^2)*b3 - (a1*a3 + a3*b1 - (a1 + b1)*b3)*c1)*c2^2 - (4*a1^2*a2*a3 + a1*a2*a3*b1 + 3*a2*a3*b1^2)*b2 + (2*a1^2*a2^2 + a1*a2^2*b1 + a2^2*b1^2 - 2*(a1^2 + b1^2)*b2^2 + (3*a1^2*a2 + a1*a2*b1 + 4*a2*b1^2)*b2)*b3 - (a1*a2*a3*b2 + a3*b1*b2^2 - (a1*a2^2 + a2*b1*b2)*b3)*c1 + (4*a1^2*a2*a3 + a1*a2*a3*b1 + 3*a2*a3*b1^2 + (3*a2*a3 - a3*b2 + (a2 - 3*b2)*b3)*c1^2 + (a1*a3*b1 + a3*b1^2)*b2 - (a1^2*a2 + a1*a2*b1 + (3*a1^2 + a1*b1 + 4*b1^2)*b2)*b3 + (a1*a2*a3 - a1*a3*b2 + (a2*b1 - b1*b2)*b3)*c1)*c2)*c3^2 - (a1*a2*a3^3*b1 - a2*a3^3*b1^2)*b2 + (a1*a2^2*a3^2*b1 - a2^2*a3^2*b1^2 + 2*(a1^2*a3^2 + a3^2*b1^2)*b2^2 + (3*a1^2*a2*a3^2 + a1*a2*a3^2*b1 + 4*a2*a3^2*b1^2)*b2)*b3 - (a1*a2*a3^3*b2 + a3^3*b1*b2^2 - (a1*a2^2 + a2*b1*b2)*b3^3 + (a1*a2*a3*b2 + a3*b1*b2^2)*b3^2 - (a1*a2^2*a3^2 + a2*a3^2*b1*b2)*b3)*c1 + (a1*a2*a3^3*b1 - a2*a3^3*b1^2 - (a1^2*a2 + a1*a2*b1 - (a1^2 - a1*b1)*b2)*b3^3 + (4*a1^2*a2*a3 + a1*a2*a3*b1 + 3*a2*a3*b1^2 + (a1*a3*b1 + a3*b1^2)*b2)*b3^2 - (a2*a3^3 + a3^3*b2 - (a2 + b2)*b3^3 - (3*a2*a3 - a3*b2)*b3^2 - (a2*a3^2 - 3*a3^2*b2)*b3)*c1^2 + (a1*a3^3*b1 + a3^3*b1^2)*b2 - (a1^2*a2*a3^2 + a1*a2*a3^2*b1 + (3*a1^2*a3^2 + a1*a3^2*b1 + 4*a3^2*b1^2)*b2)*b3 + (a1*a2*a3^3 - a1*a3^3*b2 + (a2*b1 - b1*b2)*b3^3 + (a1*a2*a3 - a1*a3*b2)*b3^2 + (a2*a3^2*b1 - a3^2*b1*b2)*b3)*c1)*c2 - (a1*a2^2*a3^2*b1 - a2^2*a3^2*b1^2 - (a1^2*a3^2 + a1*a3^2*b1 + 2*a3^2*b1^2)*b2^2 + (2*a1^2*a2^2 + a1*a2^2*b1 + a2^2*b1^2 + (a1^2 - a1*b1)*b2^2 - (a1^2*a2 - a2*b1^2)*b2)*b3^2 - (a2^2*a3^2 + a3^2*b2^2 - (a2^2 + b2^2)*b3^2)*c1^2 + 2*(a1^2*a3^2 + a3^2*b1^2 - (a1^2 + b1^2)*b3^2 + (a3^2 - b3^2)*c1^2)*c2^2 - (a1^2*a2*a3^2 - a2*a3^2*b1^2)*b2 + (a1*a2^2*a3^2 - a3^2*b1*b2^2 + (a1*a2^2 - b1*b2^2 - (a1*a2 - a2*b1)*b2)*b3^2 - (a1*a2*a3^2 - a2*a3^2*b1)*b2)*c1 + (3*a1^2*a2*a3^2 + 3*a2*a3^2*b1^2 + 3*(a1^2*a2 + a2*b1^2 - (a1^2 + b1^2)*b2)*b3^2 + 4*(a2*a3^2 - a3^2*b2 + (a2 - b2)*b3^2)*c1^2 - 3*(a1^2*a3^2 + a3^2*b1^2)*b2 + (a1*a2*a3^2 + a2*a3^2*b1 + (a1*a2 + a2*b1 - (a1 + b1)*b2)*b3^2 - (a1*a3^2 + a3^2*b1)*b2)*c1)*c2)*c3)*cos3))/(a3^2*b1 + a1*b3^2 + (a1 + b1)*c3^2 - (a1*a3 + a3*b1)*b3 + (a3^2 + b3^2)*c1 - (a1*a3 + b1*b3 + (a3 + b3)*c1)*c3 + (a3*b1 - a1*b3 - (a3 - b3)*c1 + (a1 - b1)*c3)*cos3)"
   ]
  },
  {
   "cell_type": "code",
   "execution_count": 33,
   "metadata": {},
   "outputs": [
    {
     "data": {
      "text/plain": [
       "2"
      ]
     },
     "execution_count": 33,
     "metadata": {},
     "output_type": "execute_result"
    }
   ],
   "source": [
    "len(f_cos2)"
   ]
  },
  {
   "cell_type": "code",
   "execution_count": 36,
   "metadata": {
    "scrolled": false
   },
   "outputs": [
    {
     "data": {
      "text/plain": [
       "2"
      ]
     },
     "execution_count": 36,
     "metadata": {},
     "output_type": "execute_result"
    }
   ],
   "source": [
    "len((f_cos2[0]))"
   ]
  },
  {
   "cell_type": "code",
   "execution_count": 40,
   "metadata": {},
   "outputs": [
    {
     "data": {
      "text/plain": [
       "<class 'sage.structure.sequence.Sequence_generic'>"
      ]
     },
     "execution_count": 40,
     "metadata": {},
     "output_type": "execute_result"
    }
   ],
   "source": [
    "f_cos2.parent()"
   ]
  },
  {
   "cell_type": "code",
   "execution_count": 41,
   "metadata": {},
   "outputs": [
    {
     "data": {
      "text/plain": [
       "Symbolic Ring"
      ]
     },
     "execution_count": 41,
     "metadata": {},
     "output_type": "execute_result"
    }
   ],
   "source": [
    "f_cos2[0].parent()"
   ]
  },
  {
   "cell_type": "code",
   "execution_count": 42,
   "metadata": {},
   "outputs": [
    {
     "data": {
      "text/plain": [
       "cos2 == 1/2*(a2*a3^2*b1 - a1*a3^2*b2 + (a2*b1 - a1*b2)*b3^2 - (a2*b1 - a1*b2 + (a2 - b2)*c1 - (a1 - b1)*c2)*c3^2 - (a2*b1 - a1*b2 - (a2 - b2)*c1 + (a1 - b1)*c2)*cos3^2 - (a2*a3^2 + a3^2*b2 - (a2 + b2)*b3^2 - 2*(a2*a3 - a3*b2)*b3)*c1 + (a1*a3^2 + a3^2*b1 - (a1 + b1)*b3^2 - 2*(a1*a3 - a3*b1)*b3)*c2 - 2*(a2*a3*b1 - a1*a3*b2 + (a2*b1 - a1*b2)*b3 + (a3*b2 - a2*b3)*c1 - (a3*b1 - a1*b3)*c2)*c3 - 2*(a2*a3*b1 - a1*a3*b2 - (a2*b1 - a1*b2)*b3 + (a2*a3 + b2*b3)*c1 - (a1*a3 + b1*b3)*c2 - ((a2 + b2)*c1 - (a1 + b1)*c2)*c3)*cos3 + sqrt(a2^2*a3^4*b1^2 - (4*a1^2*a2^2 + 4*a1*a2^2*b1 - a2^2*b1^2 - a1^2*b2^2 - 2*(2*a1^2*a2 - 3*a1*a2*b1)*b2)*b3^4 - (4*a1^2*a2^2 + 4*a1*a2^2*b1 - a2^2*b1^2 - (a1^2 - 4*a1*b1 - 4*b1^2)*b2^2 - (a2^2 - 2*a2*b2 + b2^2)*c1^2 - (a1^2 - 2*a1*b1 + b1^2)*c2^2 + 2*(2*a1^2*a2 + 5*a1*a2*b1 + 2*a2*b1^2)*b2 + 2*(2*a1*a2^2 + a2^2*b1 + (a1 + 2*b1)*b2^2 + (a1*a2 + a2*b1)*b2)*c1 - 2*(2*a1^2*a2 + a1*a2*b1 + a2*b1^2 + (a1^2 + a1*b1 + 2*b1^2)*b2 - (3*a1*a2 + a2*b1 + (a1 + 3*b1)*b2)*c1)*c2)*c3^4 + (a2^2*b1^2 - 2*a1*a2*b1*b2 + a1^2*b2^2 + (a2^2 - 2*a2*b2 + b2^2)*c1^2 + (a1^2 - 2*a1*b1 + b1^2)*c2^2 - 2*(a2^2*b1 + a1*b2^2 - (a1*a2 + a2*b1)*b2)*c1 + 2*(a1*a2*b1 - a2*b1^2 - (a1^2 - a1*b1)*b2 - (a1*a2 - a2*b1 - (a1 - b1)*b2)*c1)*c2)*cos3^4 + 4*(2*a1^2*a2^2*a3 + a1*a2^2*a3*b1 + a2^2*a3*b1^2 - (a1^2*a3 - a1*a3*b1)*b2^2 + (a1^2*a2*a3 + 2*a1*a2*a3*b1 + a2*a3*b1^2)*b2)*b3^3 + 4*(2*a1^2*a2^2*a3 + a1*a2^2*a3*b1 + a2^2*a3*b1^2 + (a2^2*a3 + a2*a3*b2 + (a2*b2 + b2^2)*b3)*c1^2 - (a1^2*a3 + a3*b1^2 + (a1^2 + b1^2)*b3 - (a1*a3 + a3*b1 + (a1 + b1)*b3)*c1)*c2^2 + (a1^2*a2*a3 + a1*a2*a3*b1 + 2*a2*a3*b1^2)*b2 + ((a1^2 + a1*b1 + 2*b1^2)*b2^2 + (2*a1^2*a2 + a1*a2*b1 + a2*b1^2)*b2)*b3 + (a1*a2^2*a3 + a2*a3*b1*b2 + (a1*a2*b2 + b1*b2^2)*b3)*c1 + (a1^2*a2*a3 + a1*a2*a3*b1 + (a2*a3 + a3*b2 + (a2 + b2)*b3)*c1^2 + (a1^2*a3 + a1*a3*b1 + 2*a3*b1^2)*b2 + (2*a1^2*a2 + a1*a2*b1 + a2*b1^2 + (a1*b1 + b1^2)*b2)*b3 + (2*a1*a2*a3 + a2*a3*b1 + a3*b1*b2 + (a1*a2 + (a1 + 2*b1)*b2)*b3)*c1)*c2)*c3^3 + 4*((a1^2*a3 - a1*a3*b1)*b2^2 + (a2*a3*b2 + a3*b2^2 - (a2^2 + a2*b2)*b3)*c1^2 - (a1^2*a3 + a3*b1^2 - (a1^2 + b1^2)*b3 - (a1*a3 + a3*b1 - (a1 + b1)*b3)*c1)*c2^2 - (a1*a2*a3*b1 - a2*a3*b1^2)*b2 + (a1*a2^2*b1 - a2^2*b1^2 - (a1^2*a2 - a1*a2*b1)*b2)*b3 - (a1*a2*a3*b2 + a3*b1*b2^2 - (a1*a2^2 + a2*b1*b2)*b3)*c1 + (a1*a2*a3*b1 - a2*a3*b1^2 - (a2*a3 + a3*b2 - (a2 + b2)*b3)*c1^2 + (a1*a3*b1 + a3*b1^2)*b2 - (a1^2*a2 + a1*a2*b1 - (a1^2 - a1*b1)*b2)*b3 + (a1*a2*a3 - a1*a3*b2 + (a2*b1 - b1*b2)*b3)*c1)*c2 - (a1*a2^2*b1 - a2^2*b1^2 + (a1^2 - a1*b1)*b2^2 - (a2^2 - b2^2)*c1^2 - (a1^2*a2 - a2*b1^2)*b2 + (a1*a2^2 - b1*b2^2 - (a1*a2 - a2*b1)*b2)*c1 - (a1^2*a2 + a2*b1^2 - (a1^2 + b1^2)*b2 - (a1*a2 + a2*b1 - (a1 + b1)*b2)*c1)*c2)*c3)*cos3^3 + (a1^2*a3^4 - 4*a1*a3^4*b1 - 4*a3^4*b1^2)*b2^2 - 2*(2*a1^2*a2^2*a3^2 + 2*a1*a2^2*a3^2*b1 - a2^2*a3^2*b1^2 - (a1^2*a3^2 - 2*a1*a3^2*b1 - 2*a3^2*b1^2)*b2^2 + 6*(a1^2*a2*a3^2 + a1*a2*a3^2*b1 + a2*a3^2*b1^2)*b2)*b3^2 + (a2^2*a3^4 + 2*a2*a3^4*b2 + a3^4*b2^2 + (a2^2 + 2*a2*b2 + b2^2)*b3^4 + 4*(a2^2*a3 - a3*b2^2)*b3^3 + 2*(a2^2*a3^2 - 6*a2*a3^2*b2 + a3^2*b2^2)*b3^2 - 4*(a2^2*a3^3 - a3^3*b2^2)*b3)*c1^2 + (a1^2*a3^4 - 2*a1*a3^4*b1 + a3^4*b1^2 + (a1^2 - 2*a1*b1 + b1^2)*b3^4 + 2*(a1^2*a3^2 - 2*a1*a3^2*b1 + a3^2*b1^2)*b3^2 - 4*(a3^4 + 2*a3^2*b3^2 + b3^4)*c1^2 - 4*(a1*a3^4 + a3^4*b1 + (a1 + b1)*b3^4 + 2*(a1*a3^2 + a3^2*b1)*b3^2)*c1)*c2^2 - 2*(2*a1^2*a2^2*a3^2 + 2*a1*a2^2*a3^2*b1 - a2^2*a3^2*b1^2 - (a1^2*a3^2 - 4*a1*a3^2*b1 - 4*a3^2*b1^2)*b2^2 + (4*a1^2*a2^2 + 4*a1*a2^2*b1 - a2^2*b1^2 - (a1^2 - 2*a1*b1 - 2*b1^2)*b2^2 + 2*(4*a1*a2*b1 + a2*b1^2)*b2)*b3^2 - (a2^2*a3^2 + a3^2*b2^2 + (a2^2 + b2^2)*b3^2 + 2*(a2^2*a3 + a3*b2^2)*b3)*c1^2 - (a1^2*a3^2 - 2*a1*a3^2*b1 + a3^2*b1^2 + (a1^2 - 2*a1*b1 + b1^2)*b3^2 - 2*(a3^2 + 2*a3*b3 + b3^2)*c1^2 - 4*(a1^2*a3 + a3*b1^2)*b3 - 2*(a1*a3^2 + a3^2*b1 + (a1 + b1)*b3^2)*c1)*c2^2 + 2*(a1^2*a2*a3^2 + 4*a1*a2*a3^2*b1)*b2 - 2*(2*a1^2*a2^2*a3 + a1*a2^2*a3*b1 + a2^2*a3*b1^2 + (a1^2*a3 + a1*a3*b1 + 2*a3*b1^2)*b2^2 + (a1^2*a2*a3 + 2*a1*a2*a3*b1 + a2*a3*b1^2)*b2)*b3 + 2*(a1*a2^2*a3^2 + a2^2*a3^2*b1 + a1*a2*a3^2*b2 + (a1*a3^2 + 2*a3^2*b1)*b2^2 + (2*a1*a2^2 + a2^2*b1 + a2*b1*b2 + (a1 + b1)*b2^2)*b3^2 - (a1*a2^2*a3 + a3*b1*b2^2 + (a1*a2*a3 + a2*a3*b1)*b2)*b3)*c1 + 2*(3*a1^2*a2*a3^2 + 3*a2*a3^2*b1^2 + 3*(a1^2 + b1^2)*b2*b3^2 + (3*a2*a3^2 + a3^2*b2 + (a2 + 3*b2)*b3^2 + 2*(a2*a3 + a3*b2)*b3)*c1^2 + 3*(a1^2*a2*a3 + a2*a3*b1^2 + (a1^2*a3 + a3*b1^2)*b2)*b3 + (3*a1*a2*a3^2 + (4*a1*a2 + a2*b1 + 3*b1*b2)*b3^2 + (a1*a3^2 + 4*a3^2*b1)*b2 - (a1*a2*a3 + a2*a3*b1 + (a1*a3 + a3*b1)*b2)*b3)*c1)*c2)*c3^2 + 2*(a2^2*a3^2*b1^2 + (a1^2*a3^2 - 2*a1*a3^2*b1 - 2*a3^2*b1^2)*b2^2 - (2*a1^2*a2^2 + 2*a1*a2^2*b1 - a2^2*b1^2 - a1^2*b2^2 - 2*(a1^2*a2 - 2*a1*a2*b1)*b2)*b3^2 + (a2^2*a3^2 + a3^2*b2^2 + (a2^2 + b2^2)*b3^2 - 2*(a2^2*a3 + a3*b2^2)*b3)*c1^2 + (a1^2*a3^2 - 2*a1*a3^2*b1 + a3^2*b1^2 + (a1^2 - 2*a1*b1 + b1^2)*b3^2 - 2*(a3^2 - 2*a3*b3 + b3^2)*c1^2 + 4*(a1^2*a3 + a3*b1^2)*b3 - 2*(a1*a3^2 + a3^2*b1 + (a1 + b1)*b3^2)*c1)*c2^2 - (2*a1^2*a2^2 + 2*a1*a2^2*b1 - a2^2*b1^2 - (a1^2 - 2*a1*b1 - 2*b1^2)*b2^2 - (a2^2 + 6*a2*b2 + b2^2)*c1^2 - (a1^2 - 2*a1*b1 + b1^2)*c2^2 - 6*(a1^2*a2 - a1*a2*b1 + a2*b1^2)*b2 + 2*(a1*a2^2 + a2^2*b1 + (a1 + b1)*b2^2)*c1 - 2*(a1^2*a2 + a1*a2*b1 + (a1*b1 + b1^2)*b2 - 2*(a1*a2 + b1*b2)*c1)*c2)*c3^2 - 2*(2*a1*a2*a3^2*b1 - a2*a3^2*b1^2)*b2 + 2*(a1*a2^2*a3*b1 - a2^2*a3*b1^2 - (a1^2*a3 - a1*a3*b1)*b2^2 + (a1^2*a2*a3 + 2*a1*a2*a3*b1 + a2*a3*b1^2)*b2)*b3 - 2*(a2^2*a3^2*b1 - a2*a3^2*b1*b2 + (a1*a3^2 + a3^2*b1)*b2^2 + (a1*a2^2 + a2^2*b1 - a1*a2*b2 + a1*b2^2)*b3^2 - (a1*a2^2*a3 + a3*b1*b2^2 + (a1*a2*a3 + a2*a3*b1)*b2)*b3)*c1 + 2*(3*(a1^2*a2 + a2*b1^2)*b3^2 + (a2*a3^2 + 3*a3^2*b2 + (3*a2 + b2)*b3^2 - 2*(a2*a3 + a3*b2)*b3)*c1^2 + 3*(a1^2*a3^2 + a3^2*b1^2)*b2 - 3*(a1^2*a2*a3 + a2*a3*b1^2 + (a1^2*a3 + a3*b1^2)*b2)*b3 - (2*a1*a2*a3^2 - a2*a3^2*b1 + 3*a3^2*b1*b2 + (3*a1*a2 - (a1 - 2*b1)*b2)*b3^2 - (a1*a2*a3 + a2*a3*b1 + (a1*a3 + a3*b1)*b2)*b3)*c1)*c2 + 2*(a1*a2^2*a3*b1 - a2^2*a3*b1^2 + 2*(a1^2*a3 + a3*b1^2)*b2^2 - (a2^2*a3 + 3*a2*a3*b2 - 2*a3*b2^2 - (2*a2^2 - 3*a2*b2 - b2^2)*b3)*c1^2 - (a1^2*a3 + a3*b1^2 + (a1^2 + b1^2)*b3 - (a1*a3 + a3*b1 + (a1 + b1)*b3)*c1)*c2^2 - (3*a1^2*a2*a3 - a1*a2*a3*b1 + 2*a2*a3*b1^2)*b2 + (2*a1^2*a2^2 + 2*a2^2*b1^2 - (a1^2 - a1*b1)*b2^2 - (2*a1^2*a2 - a1*a2*b1 + 3*a2*b1^2)*b2)*b3 + (a1*a2^2*a3 + a2*a3*b1*b2 + (a1*a2*b2 + b1*b2^2)*b3)*c1 + (a1^2*a2*a3 + a1*a2*a3*b1 + (a2*a3 - 3*a3*b2 - (3*a2 - b2)*b3)*c1^2 - (3*a1^2*a3 - a1*a3*b1 + 2*a3*b1^2)*b2 - (2*a1^2*a2 - a1*a2*b1 + 3*a2*b1^2 - (a1*b1 + b1^2)*b2)*b3 + (2*a1*a2*a3 + a2*a3*b1 + a3*b1*b2 + (a1*a2 + (a1 + 2*b1)*b2)*b3)*c1)*c2)*c3)*cos3^2 - 2*(3*a1*a2*a3^4*b1 - 2*a2*a3^4*b1^2)*b2 + 4*(a1*a2^2*a3^3*b1 - a2^2*a3^3*b1^2 + (a1^2*a3^3 + a1*a3^3*b1 + 2*a3^3*b1^2)*b2^2 + (a1^2*a2*a3^3 + 2*a1*a2*a3^3*b1 + a2*a3^3*b1^2)*b2)*b3 - 2*(a2^2*a3^4*b1 + (2*a1*a2^2 + a2^2*b1 + a1*b2^2 - (a1*a2 - a2*b1)*b2)*b3^4 - 2*(a1*a2^2*a3 + a3*b1*b2^2 + (a1*a2*a3 + a2*a3*b1)*b2)*b3^3 + (a1*a3^4 + 2*a3^4*b1)*b2^2 + 2*(a1*a2^2*a3^2 + a2^2*a3^2*b1 + (a1*a3^2 + a3^2*b1)*b2^2)*b3^2 + (a1*a2*a3^4 - a2*a3^4*b1)*b2 - 2*(a1*a2^2*a3^3 + a3^3*b1*b2^2 + (a1*a2*a3^3 + a2*a3^3*b1)*b2)*b3)*c1 - 2*(a1*a2*a3^4*b1 - a2*a3^4*b1^2 + (2*a1^2*a2 + a1*a2*b1 + a2*b1^2 - (a1^2 - a1*b1)*b2)*b3^4 - 2*(a1^2*a2*a3 + a2*a3*b1^2 + (a1^2*a3 + a3*b1^2)*b2)*b3^3 + 2*(a1^2*a2*a3^2 + a1*a2*a3^2*b1 + (a1*a3^2*b1 + a3^2*b1^2)*b2)*b3^2 - 2*(a2*a3^4 - a3^4*b2 - (a2 - b2)*b3^4 + 2*(a2*a3 + a3*b2)*b3^3 + 2*(a2*a3^3 + a3^3*b2)*b3)*c1^2 + (a1^2*a3^4 + a1*a3^4*b1 + 2*a3^4*b1^2)*b2 - 2*(a1^2*a2*a3^3 + a2*a3^3*b1^2 + (a1^2*a3^3 + a3^3*b1^2)*b2)*b3 + (3*a1*a2*a3^4 - a2*a3^4*b1 + (5*a1*a2 + a2*b1 - (a1 - 3*b1)*b2)*b3^4 - 2*(a1*a2*a3 + a2*a3*b1 + (a1*a3 + a3*b1)*b2)*b3^3 + 8*(a1*a2*a3^2 + a3^2*b1*b2)*b3^2 + (a1*a3^4 + 5*a3^4*b1)*b2 - 2*(a1*a2*a3^3 + a2*a3^3*b1 + (a1*a3^3 + a3^3*b1)*b2)*b3)*c1)*c2 + 4*(a1*a2^2*a3^3*b1 - a2^2*a3^3*b1^2 - ((a1^2 - a1*b1)*b2^2 - (2*a1^2*a2 + a1*a2*b1 + a2*b1^2)*b2)*b3^3 + (2*a1^2*a2^2*a3 + a1*a2^2*a3*b1 + a2^2*a3*b1^2 - 2*(a1^2*a3 + a3*b1^2)*b2^2 - (3*a1^2*a2*a3 - a1*a2*a3*b1 + 2*a2*a3*b1^2)*b2)*b3^2 - (a2^2*a3^3 - a2*a3^3*b2 - (a2*b2 - b2^2)*b3^3 - (a2^2*a3 - 3*a2*a3*b2 - 2*a3*b2^2)*b3^2 + (2*a2^2*a3^2 + 3*a2*a3^2*b2 - a3^2*b2^2)*b3)*c1^2 + (a1^2*a3^3 + a3^3*b1^2 + (a1^2 + b1^2)*b3^3 + (a1^2*a3 + a3*b1^2)*b3^2 + 2*(a3^3 + a3^2*b3 + a3*b3^2 + b3^3)*c1^2 + (a1^2*a3^2 + a3^2*b1^2)*b3 + (a1*a3^3 + a3^3*b1 + (a1 + b1)*b3^3 + (a1*a3 + a3*b1)*b3^2 + (a1*a3^2 + a3^2*b1)*b3)*c1)*c2^2 + (a1^2*a2*a3^3 + a1*a2*a3^3*b1 + 2*a2*a3^3*b1^2)*b2 - (2*a1^2*a2^2*a3^2 + 2*a2^2*a3^2*b1^2 - (a1^2*a3^2 + a1*a3^2*b1 + 2*a3^2*b1^2)*b2^2 + (2*a1^2*a2*a3^2 - a1*a2*a3^2*b1 + 3*a2*a3^2*b1^2)*b2)*b3 + (a1*a2^2*a3^3 + a2*a3^3*b1*b2 + (a1*a2*b2 + b1*b2^2)*b3^3 + (a1*a2^2*a3 + a2*a3*b1*b2)*b3^2 + (a1*a2*a3^2*b2 + a3^2*b1*b2^2)*b3)*c1 + (a1^2*a2*a3^3 + a1*a2*a3^3*b1 + (2*a1^2*a2 + a1*a2*b1 + a2*b1^2 + (a1*b1 + b1^2)*b2)*b3^3 + (a1^2*a2*a3 + a1*a2*a3*b1 - (3*a1^2*a3 - a1*a3*b1 + 2*a3*b1^2)*b2)*b3^2 + (a2*a3^3 + a3^3*b2 + (a2 + b2)*b3^3 + (a2*a3 - 3*a3*b2)*b3^2 - (3*a2*a3^2 - a3^2*b2)*b3)*c1^2 + (a1^2*a3^3 + a1*a3^3*b1 + 2*a3^3*b1^2)*b2 - (2*a1^2*a2*a3^2 - a1*a2*a3^2*b1 + 3*a2*a3^2*b1^2 - (a1*a3^2*b1 + a3^2*b1^2)*b2)*b3 + (2*a1*a2*a3^3 + a2*a3^3*b1 + a3^3*b1*b2 + (a1*a2 + (a1 + 2*b1)*b2)*b3^3 + (2*a1*a2*a3 + a2*a3*b1 + a3*b1*b2)*b3^2 + (a1*a2*a3^2 + (a1*a3^2 + 2*a3^2*b1)*b2)*b3)*c1)*c2)*c3 + 4*((2*a1^2*a2^2 + a1*a2^2*b1 + a2^2*b1^2 - (a1^2*a2 - a1*a2*b1)*b2)*b3^3 - (2*a1^2*a2^2 + a1*a2^2*b1 + a2^2*b1^2 - (a1^2 + a1*b1 + 2*b1^2)*b2^2 + (a2^2 - b2^2)*c1^2 - (a1^2*a2 - a2*b1^2)*b2 + (a1*a2^2 - b1*b2^2 - (a1*a2 - a2*b1)*b2)*c1 - (a1^2*a2 + a2*b1^2 - (a1^2 + b1^2)*b2 - (a1*a2 + a2*b1 - (a1 + b1)*b2)*c1)*c2)*c3^3 - (a1^2*a3^3 + a1*a3^3*b1 + 2*a3^3*b1^2)*b2^2 - (2*a1^2*a2^2*a3 + 2*a2^2*a3*b1^2 - (a1^2*a3 - a1*a3*b1)*b2^2 + (4*a1^2*a2*a3 + a1*a2*a3*b1 + 3*a2*a3*b1^2)*b2)*b3^2 + (a2*a3^3*b2 - a3^3*b2^2 + (a2^2 - a2*b2)*b3^3 - (2*a2^2*a3 + 3*a2*a3*b2 - a3*b2^2)*b3^2 - (a2^2*a3^2 - 3*a2*a3^2*b2 - 2*a3^2*b2^2)*b3)*c1^2 + (a1^2*a3^3 + a3^3*b1^2 - (a1^2 + b1^2)*b3^3 + (a1^2*a3 + a3*b1^2)*b3^2 + 2*(a3^3 - a3^2*b3 + a3*b3^2 - b3^3)*c1^2 - (a1^2*a3^2 + a3^2*b1^2)*b3 + (a1*a3^3 + a3^3*b1 - (a1 + b1)*b3^3 + (a1*a3 + a3*b1)*b3^2 - (a1*a3^2 + a3^2*b1)*b3)*c1)*c2^2 + (2*a1^2*a2^2*a3 + 2*a2^2*a3*b1^2 - (a1^2*a3 + a1*a3*b1 + 2*a3*b1^2)*b2^2 + (2*a2^2*a3 - 3*a2*a3*b2 - a3*b2^2 + (a2^2 + 3*a2*b2 - 2*b2^2)*b3)*c1^2 - (a1^2*a3 + a3*b1^2 - (a1^2 + b1^2)*b3 - (a1*a3 + a3*b1 - (a1 + b1)*b3)*c1)*c2^2 - (4*a1^2*a2*a3 + a1*a2*a3*b1 + 3*a2*a3*b1^2)*b2 + (2*a1^2*a2^2 + a1*a2^2*b1 + a2^2*b1^2 - 2*(a1^2 + b1^2)*b2^2 + (3*a1^2*a2 + a1*a2*b1 + 4*a2*b1^2)*b2)*b3 - (a1*a2*a3*b2 + a3*b1*b2^2 - (a1*a2^2 + a2*b1*b2)*b3)*c1 + (4*a1^2*a2*a3 + a1*a2*a3*b1 + 3*a2*a3*b1^2 + (3*a2*a3 - a3*b2 + (a2 - 3*b2)*b3)*c1^2 + (a1*a3*b1 + a3*b1^2)*b2 - (a1^2*a2 + a1*a2*b1 + (3*a1^2 + a1*b1 + 4*b1^2)*b2)*b3 + (a1*a2*a3 - a1*a3*b2 + (a2*b1 - b1*b2)*b3)*c1)*c2)*c3^2 - (a1*a2*a3^3*b1 - a2*a3^3*b1^2)*b2 + (a1*a2^2*a3^2*b1 - a2^2*a3^2*b1^2 + 2*(a1^2*a3^2 + a3^2*b1^2)*b2^2 + (3*a1^2*a2*a3^2 + a1*a2*a3^2*b1 + 4*a2*a3^2*b1^2)*b2)*b3 - (a1*a2*a3^3*b2 + a3^3*b1*b2^2 - (a1*a2^2 + a2*b1*b2)*b3^3 + (a1*a2*a3*b2 + a3*b1*b2^2)*b3^2 - (a1*a2^2*a3^2 + a2*a3^2*b1*b2)*b3)*c1 + (a1*a2*a3^3*b1 - a2*a3^3*b1^2 - (a1^2*a2 + a1*a2*b1 - (a1^2 - a1*b1)*b2)*b3^3 + (4*a1^2*a2*a3 + a1*a2*a3*b1 + 3*a2*a3*b1^2 + (a1*a3*b1 + a3*b1^2)*b2)*b3^2 - (a2*a3^3 + a3^3*b2 - (a2 + b2)*b3^3 - (3*a2*a3 - a3*b2)*b3^2 - (a2*a3^2 - 3*a3^2*b2)*b3)*c1^2 + (a1*a3^3*b1 + a3^3*b1^2)*b2 - (a1^2*a2*a3^2 + a1*a2*a3^2*b1 + (3*a1^2*a3^2 + a1*a3^2*b1 + 4*a3^2*b1^2)*b2)*b3 + (a1*a2*a3^3 - a1*a3^3*b2 + (a2*b1 - b1*b2)*b3^3 + (a1*a2*a3 - a1*a3*b2)*b3^2 + (a2*a3^2*b1 - a3^2*b1*b2)*b3)*c1)*c2 - (a1*a2^2*a3^2*b1 - a2^2*a3^2*b1^2 - (a1^2*a3^2 + a1*a3^2*b1 + 2*a3^2*b1^2)*b2^2 + (2*a1^2*a2^2 + a1*a2^2*b1 + a2^2*b1^2 + (a1^2 - a1*b1)*b2^2 - (a1^2*a2 - a2*b1^2)*b2)*b3^2 - (a2^2*a3^2 + a3^2*b2^2 - (a2^2 + b2^2)*b3^2)*c1^2 + 2*(a1^2*a3^2 + a3^2*b1^2 - (a1^2 + b1^2)*b3^2 + (a3^2 - b3^2)*c1^2)*c2^2 - (a1^2*a2*a3^2 - a2*a3^2*b1^2)*b2 + (a1*a2^2*a3^2 - a3^2*b1*b2^2 + (a1*a2^2 - b1*b2^2 - (a1*a2 - a2*b1)*b2)*b3^2 - (a1*a2*a3^2 - a2*a3^2*b1)*b2)*c1 + (3*a1^2*a2*a3^2 + 3*a2*a3^2*b1^2 + 3*(a1^2*a2 + a2*b1^2 - (a1^2 + b1^2)*b2)*b3^2 + 4*(a2*a3^2 - a3^2*b2 + (a2 - b2)*b3^2)*c1^2 - 3*(a1^2*a3^2 + a3^2*b1^2)*b2 + (a1*a2*a3^2 + a2*a3^2*b1 + (a1*a2 + a2*b1 - (a1 + b1)*b2)*b3^2 - (a1*a3^2 + a3^2*b1)*b2)*c1)*c2)*c3)*cos3))/(a3^2*b1 + a1*b3^2 + (a1 + b1)*c3^2 - (a1*a3 + a3*b1)*b3 + (a3^2 + b3^2)*c1 - (a1*a3 + b1*b3 + (a3 + b3)*c1)*c3 + (a3*b1 - a1*b3 - (a3 - b3)*c1 + (a1 - b1)*c3)*cos3)"
      ]
     },
     "execution_count": 42,
     "metadata": {},
     "output_type": "execute_result"
    }
   ],
   "source": [
    "f_cos2[0]"
   ]
  },
  {
   "cell_type": "code",
   "execution_count": null,
   "metadata": {},
   "outputs": [],
   "source": []
  },
  {
   "cell_type": "code",
   "execution_count": 23,
   "metadata": {},
   "outputs": [],
   "source": [
    "f2 = 1/2*(a2*a3^2*b1 - a1*a3^2*b2 + (a2*b1 - a1*b2)*b3^2 - (a2*b1 - a1*b2 + (a2 - b2)*c1 - (a1 - b1)*c2)*c3^2 - (a2*b1 - a1*b2 - (a2 - b2)*c1 + (a1 - b1)*c2)*cos3^2 - (a2*a3^2 + a3^2*b2 - (a2 + b2)*b3^2 - 2*(a2*a3 - a3*b2)*b3)*c1 + (a1*a3^2 + a3^2*b1 - (a1 + b1)*b3^2 - 2*(a1*a3 - a3*b1)*b3)*c2 - 2*(a2*a3*b1 - a1*a3*b2 + (a2*b1 - a1*b2)*b3 + (a3*b2 - a2*b3)*c1 - (a3*b1 - a1*b3)*c2)*c3 - 2*(a2*a3*b1 - a1*a3*b2 - (a2*b1 - a1*b2)*b3 + (a2*a3 + b2*b3)*c1 - (a1*a3 + b1*b3)*c2 - ((a2 + b2)*c1 - (a1 + b1)*c2)*c3)*cos3 + sqrt(a2^2*a3^4*b1^2 - (4*a1^2*a2^2 + 4*a1*a2^2*b1 - a2^2*b1^2 - a1^2*b2^2 - 2*(2*a1^2*a2 - 3*a1*a2*b1)*b2)*b3^4 - (4*a1^2*a2^2 + 4*a1*a2^2*b1 - a2^2*b1^2 - (a1^2 - 4*a1*b1 - 4*b1^2)*b2^2 - (a2^2 - 2*a2*b2 + b2^2)*c1^2 - (a1^2 - 2*a1*b1 + b1^2)*c2^2 + 2*(2*a1^2*a2 + 5*a1*a2*b1 + 2*a2*b1^2)*b2 + 2*(2*a1*a2^2 + a2^2*b1 + (a1 + 2*b1)*b2^2 + (a1*a2 + a2*b1)*b2)*c1 - 2*(2*a1^2*a2 + a1*a2*b1 + a2*b1^2 + (a1^2 + a1*b1 + 2*b1^2)*b2 - (3*a1*a2 + a2*b1 + (a1 + 3*b1)*b2)*c1)*c2)*c3^4 + (a2^2*b1^2 - 2*a1*a2*b1*b2 + a1^2*b2^2 + (a2^2 - 2*a2*b2 + b2^2)*c1^2 + (a1^2 - 2*a1*b1 + b1^2)*c2^2 - 2*(a2^2*b1 + a1*b2^2 - (a1*a2 + a2*b1)*b2)*c1 + 2*(a1*a2*b1 - a2*b1^2 - (a1^2 - a1*b1)*b2 - (a1*a2 - a2*b1 - (a1 - b1)*b2)*c1)*c2)*cos3^4 + 4*(2*a1^2*a2^2*a3 + a1*a2^2*a3*b1 + a2^2*a3*b1^2 - (a1^2*a3 - a1*a3*b1)*b2^2 + (a1^2*a2*a3 + 2*a1*a2*a3*b1 + a2*a3*b1^2)*b2)*b3^3 + 4*(2*a1^2*a2^2*a3 + a1*a2^2*a3*b1 + a2^2*a3*b1^2 + (a2^2*a3 + a2*a3*b2 + (a2*b2 + b2^2)*b3)*c1^2 - (a1^2*a3 + a3*b1^2 + (a1^2 + b1^2)*b3 - (a1*a3 + a3*b1 + (a1 + b1)*b3)*c1)*c2^2 + (a1^2*a2*a3 + a1*a2*a3*b1 + 2*a2*a3*b1^2)*b2 + ((a1^2 + a1*b1 + 2*b1^2)*b2^2 + (2*a1^2*a2 + a1*a2*b1 + a2*b1^2)*b2)*b3 + (a1*a2^2*a3 + a2*a3*b1*b2 + (a1*a2*b2 + b1*b2^2)*b3)*c1 + (a1^2*a2*a3 + a1*a2*a3*b1 + (a2*a3 + a3*b2 + (a2 + b2)*b3)*c1^2 + (a1^2*a3 + a1*a3*b1 + 2*a3*b1^2)*b2 + (2*a1^2*a2 + a1*a2*b1 + a2*b1^2 + (a1*b1 + b1^2)*b2)*b3 + (2*a1*a2*a3 + a2*a3*b1 + a3*b1*b2 + (a1*a2 + (a1 + 2*b1)*b2)*b3)*c1)*c2)*c3^3 + 4*((a1^2*a3 - a1*a3*b1)*b2^2 + (a2*a3*b2 + a3*b2^2 - (a2^2 + a2*b2)*b3)*c1^2 - (a1^2*a3 + a3*b1^2 - (a1^2 + b1^2)*b3 - (a1*a3 + a3*b1 - (a1 + b1)*b3)*c1)*c2^2 - (a1*a2*a3*b1 - a2*a3*b1^2)*b2 + (a1*a2^2*b1 - a2^2*b1^2 - (a1^2*a2 - a1*a2*b1)*b2)*b3 - (a1*a2*a3*b2 + a3*b1*b2^2 - (a1*a2^2 + a2*b1*b2)*b3)*c1 + (a1*a2*a3*b1 - a2*a3*b1^2 - (a2*a3 + a3*b2 - (a2 + b2)*b3)*c1^2 + (a1*a3*b1 + a3*b1^2)*b2 - (a1^2*a2 + a1*a2*b1 - (a1^2 - a1*b1)*b2)*b3 + (a1*a2*a3 - a1*a3*b2 + (a2*b1 - b1*b2)*b3)*c1)*c2 - (a1*a2^2*b1 - a2^2*b1^2 + (a1^2 - a1*b1)*b2^2 - (a2^2 - b2^2)*c1^2 - (a1^2*a2 - a2*b1^2)*b2 + (a1*a2^2 - b1*b2^2 - (a1*a2 - a2*b1)*b2)*c1 - (a1^2*a2 + a2*b1^2 - (a1^2 + b1^2)*b2 - (a1*a2 + a2*b1 - (a1 + b1)*b2)*c1)*c2)*c3)*cos3^3 + (a1^2*a3^4 - 4*a1*a3^4*b1 - 4*a3^4*b1^2)*b2^2 - 2*(2*a1^2*a2^2*a3^2 + 2*a1*a2^2*a3^2*b1 - a2^2*a3^2*b1^2 - (a1^2*a3^2 - 2*a1*a3^2*b1 - 2*a3^2*b1^2)*b2^2 + 6*(a1^2*a2*a3^2 + a1*a2*a3^2*b1 + a2*a3^2*b1^2)*b2)*b3^2 + (a2^2*a3^4 + 2*a2*a3^4*b2 + a3^4*b2^2 + (a2^2 + 2*a2*b2 + b2^2)*b3^4 + 4*(a2^2*a3 - a3*b2^2)*b3^3 + 2*(a2^2*a3^2 - 6*a2*a3^2*b2 + a3^2*b2^2)*b3^2 - 4*(a2^2*a3^3 - a3^3*b2^2)*b3)*c1^2 + (a1^2*a3^4 - 2*a1*a3^4*b1 + a3^4*b1^2 + (a1^2 - 2*a1*b1 + b1^2)*b3^4 + 2*(a1^2*a3^2 - 2*a1*a3^2*b1 + a3^2*b1^2)*b3^2 - 4*(a3^4 + 2*a3^2*b3^2 + b3^4)*c1^2 - 4*(a1*a3^4 + a3^4*b1 + (a1 + b1)*b3^4 + 2*(a1*a3^2 + a3^2*b1)*b3^2)*c1)*c2^2 - 2*(2*a1^2*a2^2*a3^2 + 2*a1*a2^2*a3^2*b1 - a2^2*a3^2*b1^2 - (a1^2*a3^2 - 4*a1*a3^2*b1 - 4*a3^2*b1^2)*b2^2 + (4*a1^2*a2^2 + 4*a1*a2^2*b1 - a2^2*b1^2 - (a1^2 - 2*a1*b1 - 2*b1^2)*b2^2 + 2*(4*a1*a2*b1 + a2*b1^2)*b2)*b3^2 - (a2^2*a3^2 + a3^2*b2^2 + (a2^2 + b2^2)*b3^2 + 2*(a2^2*a3 + a3*b2^2)*b3)*c1^2 - (a1^2*a3^2 - 2*a1*a3^2*b1 + a3^2*b1^2 + (a1^2 - 2*a1*b1 + b1^2)*b3^2 - 2*(a3^2 + 2*a3*b3 + b3^2)*c1^2 - 4*(a1^2*a3 + a3*b1^2)*b3 - 2*(a1*a3^2 + a3^2*b1 + (a1 + b1)*b3^2)*c1)*c2^2 + 2*(a1^2*a2*a3^2 + 4*a1*a2*a3^2*b1)*b2 - 2*(2*a1^2*a2^2*a3 + a1*a2^2*a3*b1 + a2^2*a3*b1^2 + (a1^2*a3 + a1*a3*b1 + 2*a3*b1^2)*b2^2 + (a1^2*a2*a3 + 2*a1*a2*a3*b1 + a2*a3*b1^2)*b2)*b3 + 2*(a1*a2^2*a3^2 + a2^2*a3^2*b1 + a1*a2*a3^2*b2 + (a1*a3^2 + 2*a3^2*b1)*b2^2 + (2*a1*a2^2 + a2^2*b1 + a2*b1*b2 + (a1 + b1)*b2^2)*b3^2 - (a1*a2^2*a3 + a3*b1*b2^2 + (a1*a2*a3 + a2*a3*b1)*b2)*b3)*c1 + 2*(3*a1^2*a2*a3^2 + 3*a2*a3^2*b1^2 + 3*(a1^2 + b1^2)*b2*b3^2 + (3*a2*a3^2 + a3^2*b2 + (a2 + 3*b2)*b3^2 + 2*(a2*a3 + a3*b2)*b3)*c1^2 + 3*(a1^2*a2*a3 + a2*a3*b1^2 + (a1^2*a3 + a3*b1^2)*b2)*b3 + (3*a1*a2*a3^2 + (4*a1*a2 + a2*b1 + 3*b1*b2)*b3^2 + (a1*a3^2 + 4*a3^2*b1)*b2 - (a1*a2*a3 + a2*a3*b1 + (a1*a3 + a3*b1)*b2)*b3)*c1)*c2)*c3^2 + 2*(a2^2*a3^2*b1^2 + (a1^2*a3^2 - 2*a1*a3^2*b1 - 2*a3^2*b1^2)*b2^2 - (2*a1^2*a2^2 + 2*a1*a2^2*b1 - a2^2*b1^2 - a1^2*b2^2 - 2*(a1^2*a2 - 2*a1*a2*b1)*b2)*b3^2 + (a2^2*a3^2 + a3^2*b2^2 + (a2^2 + b2^2)*b3^2 - 2*(a2^2*a3 + a3*b2^2)*b3)*c1^2 + (a1^2*a3^2 - 2*a1*a3^2*b1 + a3^2*b1^2 + (a1^2 - 2*a1*b1 + b1^2)*b3^2 - 2*(a3^2 - 2*a3*b3 + b3^2)*c1^2 + 4*(a1^2*a3 + a3*b1^2)*b3 - 2*(a1*a3^2 + a3^2*b1 + (a1 + b1)*b3^2)*c1)*c2^2 - (2*a1^2*a2^2 + 2*a1*a2^2*b1 - a2^2*b1^2 - (a1^2 - 2*a1*b1 - 2*b1^2)*b2^2 - (a2^2 + 6*a2*b2 + b2^2)*c1^2 - (a1^2 - 2*a1*b1 + b1^2)*c2^2 - 6*(a1^2*a2 - a1*a2*b1 + a2*b1^2)*b2 + 2*(a1*a2^2 + a2^2*b1 + (a1 + b1)*b2^2)*c1 - 2*(a1^2*a2 + a1*a2*b1 + (a1*b1 + b1^2)*b2 - 2*(a1*a2 + b1*b2)*c1)*c2)*c3^2 - 2*(2*a1*a2*a3^2*b1 - a2*a3^2*b1^2)*b2 + 2*(a1*a2^2*a3*b1 - a2^2*a3*b1^2 - (a1^2*a3 - a1*a3*b1)*b2^2 + (a1^2*a2*a3 + 2*a1*a2*a3*b1 + a2*a3*b1^2)*b2)*b3 - 2*(a2^2*a3^2*b1 - a2*a3^2*b1*b2 + (a1*a3^2 + a3^2*b1)*b2^2 + (a1*a2^2 + a2^2*b1 - a1*a2*b2 + a1*b2^2)*b3^2 - (a1*a2^2*a3 + a3*b1*b2^2 + (a1*a2*a3 + a2*a3*b1)*b2)*b3)*c1 + 2*(3*(a1^2*a2 + a2*b1^2)*b3^2 + (a2*a3^2 + 3*a3^2*b2 + (3*a2 + b2)*b3^2 - 2*(a2*a3 + a3*b2)*b3)*c1^2 + 3*(a1^2*a3^2 + a3^2*b1^2)*b2 - 3*(a1^2*a2*a3 + a2*a3*b1^2 + (a1^2*a3 + a3*b1^2)*b2)*b3 - (2*a1*a2*a3^2 - a2*a3^2*b1 + 3*a3^2*b1*b2 + (3*a1*a2 - (a1 - 2*b1)*b2)*b3^2 - (a1*a2*a3 + a2*a3*b1 + (a1*a3 + a3*b1)*b2)*b3)*c1)*c2 + 2*(a1*a2^2*a3*b1 - a2^2*a3*b1^2 + 2*(a1^2*a3 + a3*b1^2)*b2^2 - (a2^2*a3 + 3*a2*a3*b2 - 2*a3*b2^2 - (2*a2^2 - 3*a2*b2 - b2^2)*b3)*c1^2 - (a1^2*a3 + a3*b1^2 + (a1^2 + b1^2)*b3 - (a1*a3 + a3*b1 + (a1 + b1)*b3)*c1)*c2^2 - (3*a1^2*a2*a3 - a1*a2*a3*b1 + 2*a2*a3*b1^2)*b2 + (2*a1^2*a2^2 + 2*a2^2*b1^2 - (a1^2 - a1*b1)*b2^2 - (2*a1^2*a2 - a1*a2*b1 + 3*a2*b1^2)*b2)*b3 + (a1*a2^2*a3 + a2*a3*b1*b2 + (a1*a2*b2 + b1*b2^2)*b3)*c1 + (a1^2*a2*a3 + a1*a2*a3*b1 + (a2*a3 - 3*a3*b2 - (3*a2 - b2)*b3)*c1^2 - (3*a1^2*a3 - a1*a3*b1 + 2*a3*b1^2)*b2 - (2*a1^2*a2 - a1*a2*b1 + 3*a2*b1^2 - (a1*b1 + b1^2)*b2)*b3 + (2*a1*a2*a3 + a2*a3*b1 + a3*b1*b2 + (a1*a2 + (a1 + 2*b1)*b2)*b3)*c1)*c2)*c3)*cos3^2 - 2*(3*a1*a2*a3^4*b1 - 2*a2*a3^4*b1^2)*b2 + 4*(a1*a2^2*a3^3*b1 - a2^2*a3^3*b1^2 + (a1^2*a3^3 + a1*a3^3*b1 + 2*a3^3*b1^2)*b2^2 + (a1^2*a2*a3^3 + 2*a1*a2*a3^3*b1 + a2*a3^3*b1^2)*b2)*b3 - 2*(a2^2*a3^4*b1 + (2*a1*a2^2 + a2^2*b1 + a1*b2^2 - (a1*a2 - a2*b1)*b2)*b3^4 - 2*(a1*a2^2*a3 + a3*b1*b2^2 + (a1*a2*a3 + a2*a3*b1)*b2)*b3^3 + (a1*a3^4 + 2*a3^4*b1)*b2^2 + 2*(a1*a2^2*a3^2 + a2^2*a3^2*b1 + (a1*a3^2 + a3^2*b1)*b2^2)*b3^2 + (a1*a2*a3^4 - a2*a3^4*b1)*b2 - 2*(a1*a2^2*a3^3 + a3^3*b1*b2^2 + (a1*a2*a3^3 + a2*a3^3*b1)*b2)*b3)*c1 - 2*(a1*a2*a3^4*b1 - a2*a3^4*b1^2 + (2*a1^2*a2 + a1*a2*b1 + a2*b1^2 - (a1^2 - a1*b1)*b2)*b3^4 - 2*(a1^2*a2*a3 + a2*a3*b1^2 + (a1^2*a3 + a3*b1^2)*b2)*b3^3 + 2*(a1^2*a2*a3^2 + a1*a2*a3^2*b1 + (a1*a3^2*b1 + a3^2*b1^2)*b2)*b3^2 - 2*(a2*a3^4 - a3^4*b2 - (a2 - b2)*b3^4 + 2*(a2*a3 + a3*b2)*b3^3 + 2*(a2*a3^3 + a3^3*b2)*b3)*c1^2 + (a1^2*a3^4 + a1*a3^4*b1 + 2*a3^4*b1^2)*b2 - 2*(a1^2*a2*a3^3 + a2*a3^3*b1^2 + (a1^2*a3^3 + a3^3*b1^2)*b2)*b3 + (3*a1*a2*a3^4 - a2*a3^4*b1 + (5*a1*a2 + a2*b1 - (a1 - 3*b1)*b2)*b3^4 - 2*(a1*a2*a3 + a2*a3*b1 + (a1*a3 + a3*b1)*b2)*b3^3 + 8*(a1*a2*a3^2 + a3^2*b1*b2)*b3^2 + (a1*a3^4 + 5*a3^4*b1)*b2 - 2*(a1*a2*a3^3 + a2*a3^3*b1 + (a1*a3^3 + a3^3*b1)*b2)*b3)*c1)*c2 + 4*(a1*a2^2*a3^3*b1 - a2^2*a3^3*b1^2 - ((a1^2 - a1*b1)*b2^2 - (2*a1^2*a2 + a1*a2*b1 + a2*b1^2)*b2)*b3^3 + (2*a1^2*a2^2*a3 + a1*a2^2*a3*b1 + a2^2*a3*b1^2 - 2*(a1^2*a3 + a3*b1^2)*b2^2 - (3*a1^2*a2*a3 - a1*a2*a3*b1 + 2*a2*a3*b1^2)*b2)*b3^2 - (a2^2*a3^3 - a2*a3^3*b2 - (a2*b2 - b2^2)*b3^3 - (a2^2*a3 - 3*a2*a3*b2 - 2*a3*b2^2)*b3^2 + (2*a2^2*a3^2 + 3*a2*a3^2*b2 - a3^2*b2^2)*b3)*c1^2 + (a1^2*a3^3 + a3^3*b1^2 + (a1^2 + b1^2)*b3^3 + (a1^2*a3 + a3*b1^2)*b3^2 + 2*(a3^3 + a3^2*b3 + a3*b3^2 + b3^3)*c1^2 + (a1^2*a3^2 + a3^2*b1^2)*b3 + (a1*a3^3 + a3^3*b1 + (a1 + b1)*b3^3 + (a1*a3 + a3*b1)*b3^2 + (a1*a3^2 + a3^2*b1)*b3)*c1)*c2^2 + (a1^2*a2*a3^3 + a1*a2*a3^3*b1 + 2*a2*a3^3*b1^2)*b2 - (2*a1^2*a2^2*a3^2 + 2*a2^2*a3^2*b1^2 - (a1^2*a3^2 + a1*a3^2*b1 + 2*a3^2*b1^2)*b2^2 + (2*a1^2*a2*a3^2 - a1*a2*a3^2*b1 + 3*a2*a3^2*b1^2)*b2)*b3 + (a1*a2^2*a3^3 + a2*a3^3*b1*b2 + (a1*a2*b2 + b1*b2^2)*b3^3 + (a1*a2^2*a3 + a2*a3*b1*b2)*b3^2 + (a1*a2*a3^2*b2 + a3^2*b1*b2^2)*b3)*c1 + (a1^2*a2*a3^3 + a1*a2*a3^3*b1 + (2*a1^2*a2 + a1*a2*b1 + a2*b1^2 + (a1*b1 + b1^2)*b2)*b3^3 + (a1^2*a2*a3 + a1*a2*a3*b1 - (3*a1^2*a3 - a1*a3*b1 + 2*a3*b1^2)*b2)*b3^2 + (a2*a3^3 + a3^3*b2 + (a2 + b2)*b3^3 + (a2*a3 - 3*a3*b2)*b3^2 - (3*a2*a3^2 - a3^2*b2)*b3)*c1^2 + (a1^2*a3^3 + a1*a3^3*b1 + 2*a3^3*b1^2)*b2 - (2*a1^2*a2*a3^2 - a1*a2*a3^2*b1 + 3*a2*a3^2*b1^2 - (a1*a3^2*b1 + a3^2*b1^2)*b2)*b3 + (2*a1*a2*a3^3 + a2*a3^3*b1 + a3^3*b1*b2 + (a1*a2 + (a1 + 2*b1)*b2)*b3^3 + (2*a1*a2*a3 + a2*a3*b1 + a3*b1*b2)*b3^2 + (a1*a2*a3^2 + (a1*a3^2 + 2*a3^2*b1)*b2)*b3)*c1)*c2)*c3 + 4*((2*a1^2*a2^2 + a1*a2^2*b1 + a2^2*b1^2 - (a1^2*a2 - a1*a2*b1)*b2)*b3^3 - (2*a1^2*a2^2 + a1*a2^2*b1 + a2^2*b1^2 - (a1^2 + a1*b1 + 2*b1^2)*b2^2 + (a2^2 - b2^2)*c1^2 - (a1^2*a2 - a2*b1^2)*b2 + (a1*a2^2 - b1*b2^2 - (a1*a2 - a2*b1)*b2)*c1 - (a1^2*a2 + a2*b1^2 - (a1^2 + b1^2)*b2 - (a1*a2 + a2*b1 - (a1 + b1)*b2)*c1)*c2)*c3^3 - (a1^2*a3^3 + a1*a3^3*b1 + 2*a3^3*b1^2)*b2^2 - (2*a1^2*a2^2*a3 + 2*a2^2*a3*b1^2 - (a1^2*a3 - a1*a3*b1)*b2^2 + (4*a1^2*a2*a3 + a1*a2*a3*b1 + 3*a2*a3*b1^2)*b2)*b3^2 + (a2*a3^3*b2 - a3^3*b2^2 + (a2^2 - a2*b2)*b3^3 - (2*a2^2*a3 + 3*a2*a3*b2 - a3*b2^2)*b3^2 - (a2^2*a3^2 - 3*a2*a3^2*b2 - 2*a3^2*b2^2)*b3)*c1^2 + (a1^2*a3^3 + a3^3*b1^2 - (a1^2 + b1^2)*b3^3 + (a1^2*a3 + a3*b1^2)*b3^2 + 2*(a3^3 - a3^2*b3 + a3*b3^2 - b3^3)*c1^2 - (a1^2*a3^2 + a3^2*b1^2)*b3 + (a1*a3^3 + a3^3*b1 - (a1 + b1)*b3^3 + (a1*a3 + a3*b1)*b3^2 - (a1*a3^2 + a3^2*b1)*b3)*c1)*c2^2 + (2*a1^2*a2^2*a3 + 2*a2^2*a3*b1^2 - (a1^2*a3 + a1*a3*b1 + 2*a3*b1^2)*b2^2 + (2*a2^2*a3 - 3*a2*a3*b2 - a3*b2^2 + (a2^2 + 3*a2*b2 - 2*b2^2)*b3)*c1^2 - (a1^2*a3 + a3*b1^2 - (a1^2 + b1^2)*b3 - (a1*a3 + a3*b1 - (a1 + b1)*b3)*c1)*c2^2 - (4*a1^2*a2*a3 + a1*a2*a3*b1 + 3*a2*a3*b1^2)*b2 + (2*a1^2*a2^2 + a1*a2^2*b1 + a2^2*b1^2 - 2*(a1^2 + b1^2)*b2^2 + (3*a1^2*a2 + a1*a2*b1 + 4*a2*b1^2)*b2)*b3 - (a1*a2*a3*b2 + a3*b1*b2^2 - (a1*a2^2 + a2*b1*b2)*b3)*c1 + (4*a1^2*a2*a3 + a1*a2*a3*b1 + 3*a2*a3*b1^2 + (3*a2*a3 - a3*b2 + (a2 - 3*b2)*b3)*c1^2 + (a1*a3*b1 + a3*b1^2)*b2 - (a1^2*a2 + a1*a2*b1 + (3*a1^2 + a1*b1 + 4*b1^2)*b2)*b3 + (a1*a2*a3 - a1*a3*b2 + (a2*b1 - b1*b2)*b3)*c1)*c2)*c3^2 - (a1*a2*a3^3*b1 - a2*a3^3*b1^2)*b2 + (a1*a2^2*a3^2*b1 - a2^2*a3^2*b1^2 + 2*(a1^2*a3^2 + a3^2*b1^2)*b2^2 + (3*a1^2*a2*a3^2 + a1*a2*a3^2*b1 + 4*a2*a3^2*b1^2)*b2)*b3 - (a1*a2*a3^3*b2 + a3^3*b1*b2^2 - (a1*a2^2 + a2*b1*b2)*b3^3 + (a1*a2*a3*b2 + a3*b1*b2^2)*b3^2 - (a1*a2^2*a3^2 + a2*a3^2*b1*b2)*b3)*c1 + (a1*a2*a3^3*b1 - a2*a3^3*b1^2 - (a1^2*a2 + a1*a2*b1 - (a1^2 - a1*b1)*b2)*b3^3 + (4*a1^2*a2*a3 + a1*a2*a3*b1 + 3*a2*a3*b1^2 + (a1*a3*b1 + a3*b1^2)*b2)*b3^2 - (a2*a3^3 + a3^3*b2 - (a2 + b2)*b3^3 - (3*a2*a3 - a3*b2)*b3^2 - (a2*a3^2 - 3*a3^2*b2)*b3)*c1^2 + (a1*a3^3*b1 + a3^3*b1^2)*b2 - (a1^2*a2*a3^2 + a1*a2*a3^2*b1 + (3*a1^2*a3^2 + a1*a3^2*b1 + 4*a3^2*b1^2)*b2)*b3 + (a1*a2*a3^3 - a1*a3^3*b2 + (a2*b1 - b1*b2)*b3^3 + (a1*a2*a3 - a1*a3*b2)*b3^2 + (a2*a3^2*b1 - a3^2*b1*b2)*b3)*c1)*c2 - (a1*a2^2*a3^2*b1 - a2^2*a3^2*b1^2 - (a1^2*a3^2 + a1*a3^2*b1 + 2*a3^2*b1^2)*b2^2 + (2*a1^2*a2^2 + a1*a2^2*b1 + a2^2*b1^2 + (a1^2 - a1*b1)*b2^2 - (a1^2*a2 - a2*b1^2)*b2)*b3^2 - (a2^2*a3^2 + a3^2*b2^2 - (a2^2 + b2^2)*b3^2)*c1^2 + 2*(a1^2*a3^2 + a3^2*b1^2 - (a1^2 + b1^2)*b3^2 + (a3^2 - b3^2)*c1^2)*c2^2 - (a1^2*a2*a3^2 - a2*a3^2*b1^2)*b2 + (a1*a2^2*a3^2 - a3^2*b1*b2^2 + (a1*a2^2 - b1*b2^2 - (a1*a2 - a2*b1)*b2)*b3^2 - (a1*a2*a3^2 - a2*a3^2*b1)*b2)*c1 + (3*a1^2*a2*a3^2 + 3*a2*a3^2*b1^2 + 3*(a1^2*a2 + a2*b1^2 - (a1^2 + b1^2)*b2)*b3^2 + 4*(a2*a3^2 - a3^2*b2 + (a2 - b2)*b3^2)*c1^2 - 3*(a1^2*a3^2 + a3^2*b1^2)*b2 + (a1*a2*a3^2 + a2*a3^2*b1 + (a1*a2 + a2*b1 - (a1 + b1)*b2)*b3^2 - (a1*a3^2 + a3^2*b1)*b2)*c1)*c2)*c3)*cos3))/(a3^2*b1 + a1*b3^2 + (a1 + b1)*c3^2 - (a1*a3 + a3*b1)*b3 + (a3^2 + b3^2)*c1 - (a1*a3 + b1*b3 + (a3 + b3)*c1)*c3 + (a3*b1 - a1*b3 - (a3 - b3)*c1 + (a1 - b1)*c3)*cos3)"
   ]
  },
  {
   "cell_type": "code",
   "execution_count": 27,
   "metadata": {},
   "outputs": [
    {
     "ename": "NameError",
     "evalue": "name 'f_cos2' is not defined",
     "output_type": "error",
     "traceback": [
      "\u001b[1;31m---------------------------------------------------------------------------\u001b[0m",
      "\u001b[1;31mNameError\u001b[0m                                 Traceback (most recent call last)",
      "\u001b[1;32m<ipython-input-27-2be053141d64>\u001b[0m in \u001b[0;36m<module>\u001b[1;34m()\u001b[0m\n\u001b[1;32m----> 1\u001b[1;33m \u001b[0mf_cos2\u001b[0m\u001b[1;33m[\u001b[0m\u001b[0mInteger\u001b[0m\u001b[1;33m(\u001b[0m\u001b[1;36m0\u001b[0m\u001b[1;33m)\u001b[0m\u001b[1;33m]\u001b[0m\u001b[1;33m[\u001b[0m\u001b[0mInteger\u001b[0m\u001b[1;33m(\u001b[0m\u001b[1;36m0\u001b[0m\u001b[1;33m)\u001b[0m\u001b[1;33m]\u001b[0m\u001b[1;33m\u001b[0m\u001b[1;33m\u001b[0m\u001b[0m\n\u001b[0m",
      "\u001b[1;31mNameError\u001b[0m: name 'f_cos2' is not defined"
     ]
    }
   ],
   "source": [
    "f_cos2[0][0]"
   ]
  },
  {
   "cell_type": "code",
   "execution_count": 19,
   "metadata": {
    "scrolled": true
   },
   "outputs": [
    {
     "ename": "ValueError",
     "evalue": "f must be a list, tuple, or vector of length 3",
     "output_type": "error",
     "traceback": [
      "\u001b[1;31m---------------------------------------------------------------------------\u001b[0m",
      "\u001b[1;31mValueError\u001b[0m                                Traceback (most recent call last)",
      "\u001b[1;32m<ipython-input-19-339998dfd0d3>\u001b[0m in \u001b[0;36m<module>\u001b[1;34m()\u001b[0m\n\u001b[1;32m----> 1\u001b[1;33m \u001b[0mparametric_plot3d\u001b[0m\u001b[1;33m(\u001b[0m\u001b[1;33m[\u001b[0m\u001b[0mf_cos1\u001b[0m\u001b[1;33m,\u001b[0m \u001b[0mf_cos2\u001b[0m\u001b[1;33m,\u001b[0m \u001b[0mcos3\u001b[0m\u001b[1;33m]\u001b[0m\u001b[1;33m,\u001b[0m \u001b[1;33m(\u001b[0m\u001b[0mcos3\u001b[0m\u001b[1;33m,\u001b[0m \u001b[1;33m-\u001b[0m\u001b[0mInteger\u001b[0m\u001b[1;33m(\u001b[0m\u001b[1;36m1\u001b[0m\u001b[1;33m)\u001b[0m\u001b[1;33m,\u001b[0m \u001b[0mInteger\u001b[0m\u001b[1;33m(\u001b[0m\u001b[1;36m1\u001b[0m\u001b[1;33m)\u001b[0m\u001b[1;33m)\u001b[0m\u001b[1;33m)\u001b[0m\u001b[1;33m\u001b[0m\u001b[1;33m\u001b[0m\u001b[0m\n\u001b[0m",
      "\u001b[1;32m/Users/emilydonovan/sage/local/lib/python3.7/site-packages/sage/misc/decorators.py\u001b[0m in \u001b[0;36mwrapper\u001b[1;34m(*args, **kwds)\u001b[0m\n\u001b[0;32m    651\u001b[0m                     \u001b[0mkwds\u001b[0m\u001b[1;33m[\u001b[0m\u001b[0mnew_name\u001b[0m\u001b[1;33m]\u001b[0m \u001b[1;33m=\u001b[0m \u001b[0mkwds\u001b[0m\u001b[1;33m[\u001b[0m\u001b[0mold_name\u001b[0m\u001b[1;33m]\u001b[0m\u001b[1;33m\u001b[0m\u001b[1;33m\u001b[0m\u001b[0m\n\u001b[0;32m    652\u001b[0m                     \u001b[1;32mdel\u001b[0m \u001b[0mkwds\u001b[0m\u001b[1;33m[\u001b[0m\u001b[0mold_name\u001b[0m\u001b[1;33m]\u001b[0m\u001b[1;33m\u001b[0m\u001b[1;33m\u001b[0m\u001b[0m\n\u001b[1;32m--> 653\u001b[1;33m             \u001b[1;32mreturn\u001b[0m \u001b[0mfunc\u001b[0m\u001b[1;33m(\u001b[0m\u001b[1;33m*\u001b[0m\u001b[0margs\u001b[0m\u001b[1;33m,\u001b[0m \u001b[1;33m**\u001b[0m\u001b[0mkwds\u001b[0m\u001b[1;33m)\u001b[0m\u001b[1;33m\u001b[0m\u001b[1;33m\u001b[0m\u001b[0m\n\u001b[0m\u001b[0;32m    654\u001b[0m \u001b[1;33m\u001b[0m\u001b[0m\n\u001b[0;32m    655\u001b[0m         \u001b[1;32mreturn\u001b[0m \u001b[0mwrapper\u001b[0m\u001b[1;33m\u001b[0m\u001b[1;33m\u001b[0m\u001b[0m\n",
      "\u001b[1;32m/Users/emilydonovan/sage/local/lib/python3.7/site-packages/sage/plot/plot3d/parametric_plot3d.py\u001b[0m in \u001b[0;36mparametric_plot3d\u001b[1;34m(f, urange, vrange, plot_points, boundary_style, **kwds)\u001b[0m\n\u001b[0;32m    997\u001b[0m \u001b[1;33m\u001b[0m\u001b[0m\n\u001b[0;32m    998\u001b[0m     \u001b[1;32mif\u001b[0m \u001b[0misinstance\u001b[0m\u001b[1;33m(\u001b[0m\u001b[0mf\u001b[0m\u001b[1;33m,\u001b[0m \u001b[1;33m(\u001b[0m\u001b[0mlist\u001b[0m\u001b[1;33m,\u001b[0m \u001b[0mtuple\u001b[0m\u001b[1;33m)\u001b[0m\u001b[1;33m)\u001b[0m \u001b[1;32mand\u001b[0m \u001b[0mlen\u001b[0m\u001b[1;33m(\u001b[0m\u001b[0mf\u001b[0m\u001b[1;33m)\u001b[0m \u001b[1;33m>\u001b[0m \u001b[1;36m0\u001b[0m \u001b[1;32mand\u001b[0m \u001b[0misinstance\u001b[0m\u001b[1;33m(\u001b[0m\u001b[0mf\u001b[0m\u001b[1;33m[\u001b[0m\u001b[1;36m0\u001b[0m\u001b[1;33m]\u001b[0m\u001b[1;33m,\u001b[0m \u001b[1;33m(\u001b[0m\u001b[0mlist\u001b[0m\u001b[1;33m,\u001b[0m \u001b[0mtuple\u001b[0m\u001b[1;33m)\u001b[0m\u001b[1;33m)\u001b[0m\u001b[1;33m:\u001b[0m\u001b[1;33m\u001b[0m\u001b[1;33m\u001b[0m\u001b[0m\n\u001b[1;32m--> 999\u001b[1;33m         \u001b[1;32mreturn\u001b[0m \u001b[0msum\u001b[0m\u001b[1;33m(\u001b[0m\u001b[1;33m[\u001b[0m\u001b[0mparametric_plot3d\u001b[0m\u001b[1;33m(\u001b[0m\u001b[0mv\u001b[0m\u001b[1;33m,\u001b[0m \u001b[0murange\u001b[0m\u001b[1;33m,\u001b[0m \u001b[0mvrange\u001b[0m\u001b[1;33m,\u001b[0m \u001b[0mplot_points\u001b[0m\u001b[1;33m=\u001b[0m\u001b[0mplot_points\u001b[0m\u001b[1;33m,\u001b[0m \u001b[1;33m**\u001b[0m\u001b[0mkwds\u001b[0m\u001b[1;33m)\u001b[0m \u001b[1;32mfor\u001b[0m \u001b[0mv\u001b[0m \u001b[1;32min\u001b[0m \u001b[0mf\u001b[0m\u001b[1;33m]\u001b[0m\u001b[1;33m)\u001b[0m\u001b[1;33m\u001b[0m\u001b[1;33m\u001b[0m\u001b[0m\n\u001b[0m\u001b[0;32m   1000\u001b[0m \u001b[1;33m\u001b[0m\u001b[0m\n\u001b[0;32m   1001\u001b[0m     \u001b[1;32mif\u001b[0m \u001b[1;32mnot\u001b[0m \u001b[0misinstance\u001b[0m\u001b[1;33m(\u001b[0m\u001b[0mf\u001b[0m\u001b[1;33m,\u001b[0m \u001b[1;33m(\u001b[0m\u001b[0mtuple\u001b[0m\u001b[1;33m,\u001b[0m \u001b[0mlist\u001b[0m\u001b[1;33m)\u001b[0m\u001b[1;33m)\u001b[0m \u001b[1;32mor\u001b[0m \u001b[0mlen\u001b[0m\u001b[1;33m(\u001b[0m\u001b[0mf\u001b[0m\u001b[1;33m)\u001b[0m \u001b[1;33m!=\u001b[0m \u001b[1;36m3\u001b[0m\u001b[1;33m:\u001b[0m\u001b[1;33m\u001b[0m\u001b[1;33m\u001b[0m\u001b[0m\n",
      "\u001b[1;32m/Users/emilydonovan/sage/local/lib/python3.7/site-packages/sage/plot/plot3d/parametric_plot3d.py\u001b[0m in \u001b[0;36m<listcomp>\u001b[1;34m(.0)\u001b[0m\n\u001b[0;32m    997\u001b[0m \u001b[1;33m\u001b[0m\u001b[0m\n\u001b[0;32m    998\u001b[0m     \u001b[1;32mif\u001b[0m \u001b[0misinstance\u001b[0m\u001b[1;33m(\u001b[0m\u001b[0mf\u001b[0m\u001b[1;33m,\u001b[0m \u001b[1;33m(\u001b[0m\u001b[0mlist\u001b[0m\u001b[1;33m,\u001b[0m \u001b[0mtuple\u001b[0m\u001b[1;33m)\u001b[0m\u001b[1;33m)\u001b[0m \u001b[1;32mand\u001b[0m \u001b[0mlen\u001b[0m\u001b[1;33m(\u001b[0m\u001b[0mf\u001b[0m\u001b[1;33m)\u001b[0m \u001b[1;33m>\u001b[0m \u001b[1;36m0\u001b[0m \u001b[1;32mand\u001b[0m \u001b[0misinstance\u001b[0m\u001b[1;33m(\u001b[0m\u001b[0mf\u001b[0m\u001b[1;33m[\u001b[0m\u001b[1;36m0\u001b[0m\u001b[1;33m]\u001b[0m\u001b[1;33m,\u001b[0m \u001b[1;33m(\u001b[0m\u001b[0mlist\u001b[0m\u001b[1;33m,\u001b[0m \u001b[0mtuple\u001b[0m\u001b[1;33m)\u001b[0m\u001b[1;33m)\u001b[0m\u001b[1;33m:\u001b[0m\u001b[1;33m\u001b[0m\u001b[1;33m\u001b[0m\u001b[0m\n\u001b[1;32m--> 999\u001b[1;33m         \u001b[1;32mreturn\u001b[0m \u001b[0msum\u001b[0m\u001b[1;33m(\u001b[0m\u001b[1;33m[\u001b[0m\u001b[0mparametric_plot3d\u001b[0m\u001b[1;33m(\u001b[0m\u001b[0mv\u001b[0m\u001b[1;33m,\u001b[0m \u001b[0murange\u001b[0m\u001b[1;33m,\u001b[0m \u001b[0mvrange\u001b[0m\u001b[1;33m,\u001b[0m \u001b[0mplot_points\u001b[0m\u001b[1;33m=\u001b[0m\u001b[0mplot_points\u001b[0m\u001b[1;33m,\u001b[0m \u001b[1;33m**\u001b[0m\u001b[0mkwds\u001b[0m\u001b[1;33m)\u001b[0m \u001b[1;32mfor\u001b[0m \u001b[0mv\u001b[0m \u001b[1;32min\u001b[0m \u001b[0mf\u001b[0m\u001b[1;33m]\u001b[0m\u001b[1;33m)\u001b[0m\u001b[1;33m\u001b[0m\u001b[1;33m\u001b[0m\u001b[0m\n\u001b[0m\u001b[0;32m   1000\u001b[0m \u001b[1;33m\u001b[0m\u001b[0m\n\u001b[0;32m   1001\u001b[0m     \u001b[1;32mif\u001b[0m \u001b[1;32mnot\u001b[0m \u001b[0misinstance\u001b[0m\u001b[1;33m(\u001b[0m\u001b[0mf\u001b[0m\u001b[1;33m,\u001b[0m \u001b[1;33m(\u001b[0m\u001b[0mtuple\u001b[0m\u001b[1;33m,\u001b[0m \u001b[0mlist\u001b[0m\u001b[1;33m)\u001b[0m\u001b[1;33m)\u001b[0m \u001b[1;32mor\u001b[0m \u001b[0mlen\u001b[0m\u001b[1;33m(\u001b[0m\u001b[0mf\u001b[0m\u001b[1;33m)\u001b[0m \u001b[1;33m!=\u001b[0m \u001b[1;36m3\u001b[0m\u001b[1;33m:\u001b[0m\u001b[1;33m\u001b[0m\u001b[1;33m\u001b[0m\u001b[0m\n",
      "\u001b[1;32m/Users/emilydonovan/sage/local/lib/python3.7/site-packages/sage/misc/decorators.py\u001b[0m in \u001b[0;36mwrapper\u001b[1;34m(*args, **kwds)\u001b[0m\n\u001b[0;32m    651\u001b[0m                     \u001b[0mkwds\u001b[0m\u001b[1;33m[\u001b[0m\u001b[0mnew_name\u001b[0m\u001b[1;33m]\u001b[0m \u001b[1;33m=\u001b[0m \u001b[0mkwds\u001b[0m\u001b[1;33m[\u001b[0m\u001b[0mold_name\u001b[0m\u001b[1;33m]\u001b[0m\u001b[1;33m\u001b[0m\u001b[1;33m\u001b[0m\u001b[0m\n\u001b[0;32m    652\u001b[0m                     \u001b[1;32mdel\u001b[0m \u001b[0mkwds\u001b[0m\u001b[1;33m[\u001b[0m\u001b[0mold_name\u001b[0m\u001b[1;33m]\u001b[0m\u001b[1;33m\u001b[0m\u001b[1;33m\u001b[0m\u001b[0m\n\u001b[1;32m--> 653\u001b[1;33m             \u001b[1;32mreturn\u001b[0m \u001b[0mfunc\u001b[0m\u001b[1;33m(\u001b[0m\u001b[1;33m*\u001b[0m\u001b[0margs\u001b[0m\u001b[1;33m,\u001b[0m \u001b[1;33m**\u001b[0m\u001b[0mkwds\u001b[0m\u001b[1;33m)\u001b[0m\u001b[1;33m\u001b[0m\u001b[1;33m\u001b[0m\u001b[0m\n\u001b[0m\u001b[0;32m    654\u001b[0m \u001b[1;33m\u001b[0m\u001b[0m\n\u001b[0;32m    655\u001b[0m         \u001b[1;32mreturn\u001b[0m \u001b[0mwrapper\u001b[0m\u001b[1;33m\u001b[0m\u001b[1;33m\u001b[0m\u001b[0m\n",
      "\u001b[1;32m/Users/emilydonovan/sage/local/lib/python3.7/site-packages/sage/plot/plot3d/parametric_plot3d.py\u001b[0m in \u001b[0;36mparametric_plot3d\u001b[1;34m(f, urange, vrange, plot_points, boundary_style, **kwds)\u001b[0m\n\u001b[0;32m   1000\u001b[0m \u001b[1;33m\u001b[0m\u001b[0m\n\u001b[0;32m   1001\u001b[0m     \u001b[1;32mif\u001b[0m \u001b[1;32mnot\u001b[0m \u001b[0misinstance\u001b[0m\u001b[1;33m(\u001b[0m\u001b[0mf\u001b[0m\u001b[1;33m,\u001b[0m \u001b[1;33m(\u001b[0m\u001b[0mtuple\u001b[0m\u001b[1;33m,\u001b[0m \u001b[0mlist\u001b[0m\u001b[1;33m)\u001b[0m\u001b[1;33m)\u001b[0m \u001b[1;32mor\u001b[0m \u001b[0mlen\u001b[0m\u001b[1;33m(\u001b[0m\u001b[0mf\u001b[0m\u001b[1;33m)\u001b[0m \u001b[1;33m!=\u001b[0m \u001b[1;36m3\u001b[0m\u001b[1;33m:\u001b[0m\u001b[1;33m\u001b[0m\u001b[1;33m\u001b[0m\u001b[0m\n\u001b[1;32m-> 1002\u001b[1;33m         \u001b[1;32mraise\u001b[0m \u001b[0mValueError\u001b[0m\u001b[1;33m(\u001b[0m\u001b[1;34m\"f must be a list, tuple, or vector of length 3\"\u001b[0m\u001b[1;33m)\u001b[0m\u001b[1;33m\u001b[0m\u001b[1;33m\u001b[0m\u001b[0m\n\u001b[0m\u001b[0;32m   1003\u001b[0m \u001b[1;33m\u001b[0m\u001b[0m\n\u001b[0;32m   1004\u001b[0m     \u001b[1;32mif\u001b[0m \u001b[0mvrange\u001b[0m \u001b[1;32mis\u001b[0m \u001b[1;32mNone\u001b[0m\u001b[1;33m:\u001b[0m\u001b[1;33m\u001b[0m\u001b[1;33m\u001b[0m\u001b[0m\n",
      "\u001b[1;31mValueError\u001b[0m: f must be a list, tuple, or vector of length 3"
     ]
    }
   ],
   "source": [
    "parametric_plot3d([f_cos1, f_cos2[0], cos3], (cos3, -1, 1))"
   ]
  },
  {
   "cell_type": "code",
   "execution_count": 21,
   "metadata": {},
   "outputs": [
    {
     "data": {
      "text/plain": [
       "2"
      ]
     },
     "execution_count": 21,
     "metadata": {},
     "output_type": "execute_result"
    }
   ],
   "source": [
    "len(f_cos2[0])"
   ]
  },
  {
   "cell_type": "code",
   "execution_count": null,
   "metadata": {},
   "outputs": [],
   "source": [
    "#/////////////////////////"
   ]
  },
  {
   "cell_type": "code",
   "execution_count": 122,
   "metadata": {},
   "outputs": [
    {
     "data": {
      "text/plain": [
       "-(a3*b2*c1 - a2*b3*c1 - a3*b1*c2 + a1*b3*c2 + a2*b1*c3 - a1*b2*c3 - a2*a3*cos1 - b2*b3*cos1 - c2*c3*cos1 - a1*a3*cos2 - b1*b3*cos2 - c1*c3*cos2 - a1*a2*cos3 - b1*b2*cos3 - c1*c2*cos3 + cos1*cos2*cos3)^2 + 1"
      ]
     },
     "execution_count": 122,
     "metadata": {},
     "output_type": "execute_result"
    }
   ],
   "source": [
    "#symbolic ring monster:\n",
    "monster[0].parent()\n",
    " \n",
    "SR_monster_real = SR(monster[0])\n",
    "SR_monster_sin_t = 1 - (SR_monster_real*SR_monster_real)\n",
    "\n",
    "SR_monster_sin_t"
   ]
  },
  {
   "cell_type": "code",
   "execution_count": null,
   "metadata": {},
   "outputs": [],
   "source": [
    "SR_monster_real.subs(cos3 = hh.rhs)"
   ]
  },
  {
   "cell_type": "code",
   "execution_count": 47,
   "metadata": {},
   "outputs": [
    {
     "data": {
      "text/plain": [
       "Symbolic Ring"
      ]
     },
     "execution_count": 47,
     "metadata": {},
     "output_type": "execute_result"
    }
   ],
   "source": [
    "SR_monster_sin_t.parent()"
   ]
  },
  {
   "cell_type": "code",
   "execution_count": null,
   "metadata": {},
   "outputs": [],
   "source": [
    "\n",
    "solve (SR_monster_sin_t)"
   ]
  },
  {
   "cell_type": "code",
   "execution_count": null,
   "metadata": {},
   "outputs": [],
   "source": [
    "#arccot has 2 values!"
   ]
  }
 ],
 "metadata": {
  "kernelspec": {
   "display_name": "SageMath 9.0.beta3",
   "language": "sage",
   "name": "sagemath"
  },
  "language_info": {
   "codemirror_mode": {
    "name": "ipython",
    "version": 3
   },
   "file_extension": ".py",
   "mimetype": "text/x-python",
   "name": "python",
   "nbconvert_exporter": "python",
   "pygments_lexer": "ipython3",
   "version": "3.7.3"
  }
 },
 "nbformat": 4,
 "nbformat_minor": 2
}
